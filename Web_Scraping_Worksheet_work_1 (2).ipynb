{
 "cells": [
  {
   "cell_type": "markdown",
   "id": "44d6fd63",
   "metadata": {},
   "source": [
    "# Web Scraping  with Beautiful soup"
   ]
  },
  {
   "cell_type": "code",
   "execution_count": 1,
   "id": "65601b8d",
   "metadata": {},
   "outputs": [],
   "source": [
    "import pandas  as pd\n",
    "from bs4 import BeautifulSoup\n",
    "import requests\n",
    "import csv"
   ]
  },
  {
   "cell_type": "markdown",
   "id": "ad493a9a",
   "metadata": {},
   "source": [
    "#### Answer 1 ::  python program to display all the header tags from wikipedia.org"
   ]
  },
  {
   "cell_type": "code",
   "execution_count": 76,
   "id": "adbf5362",
   "metadata": {},
   "outputs": [
    {
     "data": {
      "text/plain": [
       "<!DOCTYPE html>\n",
       "<html class=\"client-nojs\" dir=\"ltr\" lang=\"en\">\n",
       "<head>\n",
       "<meta charset=\"utf-8\"/>\n",
       "<title>Wikipedia, the free encyclopedia</title>\n",
       "<script>document.documentElement.className=\"client-js\";RLCONF={\"wgBreakFrames\":false,\"wgSeparatorTransformTable\":[\"\",\"\"],\"wgDigitTransformTable\":[\"\",\"\"],\"wgDefaultDateFormat\":\"dmy\",\"wgMonthNames\":[\"\",\"January\",\"February\",\"March\",\"April\",\"May\",\"June\",\"July\",\"August\",\"September\",\"October\",\"November\",\"December\"],\"wgRequestId\":\"8b44e25d-cfc5-42dc-8035-f78ab9e8a0e1\",\"wgCSPNonce\":false,\"wgCanonicalNamespace\":\"\",\"wgCanonicalSpecialPageName\":false,\"wgNamespaceNumber\":0,\"wgPageName\":\"Main_Page\",\"wgTitle\":\"Main Page\",\"wgCurRevisionId\":1082764418,\"wgRevisionId\":1082764418,\"wgArticleId\":15580374,\"wgIsArticle\":true,\"wgIsRedirect\":false,\"wgAction\":\"view\",\"wgUserName\":null,\"wgUserGroups\":[\"*\"],\"wgCategories\":[],\"wgPageContentLanguage\":\"en\",\"wgPageContentModel\":\"wikitext\",\"wgRelevantPageName\":\"Main_Page\",\"wgRelevantArticleId\":15580374,\"wgIsProbablyEditable\":false,\"wgRelevantPageIsProbablyEditable\":false,\"wgRestrictionEdit\":[\"sysop\"],\"wgRestrictionMove\":[\"sysop\"],\"wgIsMainPage\":true,\"wgFlaggedRevsParams\":{\n",
       "\"tags\":{\"status\":{\"levels\":1}}},\"wgVisualEditor\":{\"pageLanguageCode\":\"en\",\"pageLanguageDir\":\"ltr\",\"pageVariantFallbacks\":\"en\"},\"wgMFDisplayWikibaseDescriptions\":{\"search\":true,\"nearby\":true,\"watchlist\":true,\"tagline\":false},\"wgWMESchemaEditAttemptStepOversample\":false,\"wgWMEPageLength\":3000,\"wgNoticeProject\":\"wikipedia\",\"wgMediaViewerOnClick\":true,\"wgMediaViewerEnabledByDefault\":true,\"wgPopupsFlags\":10,\"wgULSCurrentAutonym\":\"English\",\"wgEditSubmitButtonLabelPublish\":true,\"wgCentralAuthMobileDomain\":false,\"wgULSPosition\":\"interlanguage\",\"wgULSisCompactLinksEnabled\":true,\"wgWikibaseItemId\":\"Q5296\",\"wgGENewcomerTasksGuidanceEnabled\":true,\"wgGEAskQuestionEnabled\":false,\"wgGELinkRecommendationsFrontendEnabled\":false};RLSTATE={\"ext.globalCssJs.user.styles\":\"ready\",\"site.styles\":\"ready\",\"user.styles\":\"ready\",\"ext.globalCssJs.user\":\"ready\",\"user\":\"ready\",\"user.options\":\"loading\",\"skins.vector.styles.legacy\":\"ready\",\"ext.visualEditor.desktopArticleTarget.noscript\":\"ready\",\"ext.wikimediaBadges\":\n",
       "\"ready\",\"ext.uls.interlanguage\":\"ready\"};RLPAGEMODULES=[\"site\",\"mediawiki.page.ready\",\"skins.vector.legacy.js\",\"ext.gadget.ReferenceTooltips\",\"ext.gadget.charinsert\",\"ext.gadget.extra-toolbar-buttons\",\"ext.gadget.refToolbar\",\"ext.gadget.switcher\",\"mmv.head\",\"mmv.bootstrap.autostart\",\"ext.visualEditor.desktopArticleTarget.init\",\"ext.visualEditor.targetLoader\",\"ext.eventLogging\",\"ext.wikimediaEvents\",\"ext.navigationTiming\",\"ext.cx.eventlogging.campaigns\",\"ext.centralNotice.geoIP\",\"ext.centralNotice.startUp\",\"ext.centralauth.centralautologin\",\"ext.popups\",\"ext.uls.interface\",\"ext.growthExperiments.SuggestedEditSession\"];</script>\n",
       "<script>(RLQ=window.RLQ||[]).push(function(){mw.loader.implement(\"user.options@1i9g4\",function($,jQuery,require,module){mw.user.tokens.set({\"patrolToken\":\"+\\\\\",\"watchToken\":\"+\\\\\",\"csrfToken\":\"+\\\\\"});});});</script>\n",
       "<link href=\"/w/load.php?lang=en&amp;modules=ext.uls.interlanguage%7Cext.visualEditor.desktopArticleTarget.noscript%7Cext.wikimediaBadges%7Cskins.vector.styles.legacy&amp;only=styles&amp;skin=vector\" rel=\"stylesheet\"/>\n",
       "<script async=\"\" src=\"/w/load.php?lang=en&amp;modules=startup&amp;only=scripts&amp;raw=1&amp;skin=vector\"></script>\n",
       "<meta content=\"\" name=\"ResourceLoaderDynamicStyles\"/>\n",
       "<link href=\"/w/load.php?lang=en&amp;modules=site.styles&amp;only=styles&amp;skin=vector\" rel=\"stylesheet\"/>\n",
       "<meta content=\"MediaWiki 1.39.0-wmf.7\" name=\"generator\"/>\n",
       "<meta content=\"origin\" name=\"referrer\"/>\n",
       "<meta content=\"origin-when-crossorigin\" name=\"referrer\"/>\n",
       "<meta content=\"origin-when-cross-origin\" name=\"referrer\"/>\n",
       "<meta content=\"telephone=no\" name=\"format-detection\"/>\n",
       "<meta content=\"https://upload.wikimedia.org/wikipedia/commons/thumb/b/b3/John_W._Young_on_the_Moon.jpg/1200px-John_W._Young_on_the_Moon.jpg\" property=\"og:image\"/>\n",
       "<meta content=\"1200\" property=\"og:image:width\"/>\n",
       "<meta content=\"1200\" property=\"og:image:height\"/>\n",
       "<meta content=\"https://upload.wikimedia.org/wikipedia/commons/thumb/b/b3/John_W._Young_on_the_Moon.jpg/800px-John_W._Young_on_the_Moon.jpg\" property=\"og:image\"/>\n",
       "<meta content=\"800\" property=\"og:image:width\"/>\n",
       "<meta content=\"800\" property=\"og:image:height\"/>\n",
       "<meta content=\"https://upload.wikimedia.org/wikipedia/commons/thumb/b/b3/John_W._Young_on_the_Moon.jpg/640px-John_W._Young_on_the_Moon.jpg\" property=\"og:image\"/>\n",
       "<meta content=\"640\" property=\"og:image:width\"/>\n",
       "<meta content=\"640\" property=\"og:image:height\"/>\n",
       "<meta content=\"Wikipedia, the free encyclopedia\" property=\"og:title\"/>\n",
       "<meta content=\"website\" property=\"og:type\"/>\n",
       "<link href=\"//upload.wikimedia.org\" rel=\"preconnect\"/>\n",
       "<link href=\"//en.m.wikipedia.org/wiki/Main_Page\" media=\"only screen and (max-width: 720px)\" rel=\"alternate\"/>\n",
       "<link href=\"/w/api.php?action=featuredfeed&amp;feed=potd&amp;feedformat=atom\" rel=\"alternate\" title=\"Wikipedia picture of the day feed\" type=\"application/atom+xml\"/>\n",
       "<link href=\"/w/api.php?action=featuredfeed&amp;feed=featured&amp;feedformat=atom\" rel=\"alternate\" title=\"Wikipedia featured articles feed\" type=\"application/atom+xml\"/>\n",
       "<link href=\"/w/api.php?action=featuredfeed&amp;feed=onthisday&amp;feedformat=atom\" rel=\"alternate\" title='Wikipedia \"On this day...\" feed' type=\"application/atom+xml\"/>\n",
       "<link href=\"/static/apple-touch/wikipedia.png\" rel=\"apple-touch-icon\"/>\n",
       "<link href=\"/static/favicon/wikipedia.ico\" rel=\"shortcut icon\"/>\n",
       "<link href=\"/w/opensearch_desc.php\" rel=\"search\" title=\"Wikipedia (en)\" type=\"application/opensearchdescription+xml\"/>\n",
       "<link href=\"//en.wikipedia.org/w/api.php?action=rsd\" rel=\"EditURI\" type=\"application/rsd+xml\"/>\n",
       "<link href=\"https://creativecommons.org/licenses/by-sa/3.0/\" rel=\"license\"/>\n",
       "<link href=\"https://en.wikipedia.org/wiki/Main_Page\" rel=\"canonical\"/>\n",
       "<link href=\"//meta.wikimedia.org\" rel=\"dns-prefetch\"/>\n",
       "<link href=\"//login.wikimedia.org\" rel=\"dns-prefetch\"/>\n",
       "</head>\n",
       "<body class=\"mediawiki ltr sitedir-ltr mw-hide-empty-elt ns-0 ns-subject page-Main_Page rootpage-Main_Page skin-vector action-view skin-vector-legacy\"><div class=\"noprint\" id=\"mw-page-base\"></div>\n",
       "<div class=\"noprint\" id=\"mw-head-base\"></div>\n",
       "<div class=\"mw-body\" id=\"content\" role=\"main\">\n",
       "<a id=\"top\"></a>\n",
       "<div id=\"siteNotice\"><!-- CentralNotice --></div>\n",
       "<div class=\"mw-indicators\">\n",
       "</div>\n",
       "<h1 class=\"firstHeading mw-first-heading\" id=\"firstHeading\" style=\"display: none\">Main Page</h1>\n",
       "<div class=\"vector-body\" id=\"bodyContent\">\n",
       "<div class=\"noprint\" id=\"siteSub\">From Wikipedia, the free encyclopedia</div>\n",
       "<div id=\"contentSub\"></div>\n",
       "<div id=\"contentSub2\"></div>\n",
       "<div id=\"jump-to-nav\"></div>\n",
       "<a class=\"mw-jump-link\" href=\"#mw-head\">Jump to navigation</a>\n",
       "<a class=\"mw-jump-link\" href=\"#searchInput\">Jump to search</a>\n",
       "<div class=\"mw-body-content mw-content-ltr\" dir=\"ltr\" id=\"mw-content-text\" lang=\"en\"><div class=\"mw-parser-output\"><style data-mw-deduplicate=\"TemplateStyles:r1082743276\">.mw-parser-output #mp-topbanner{box-sizing:border-box;border-color:#ddd;background-color:#f9f9f9}.mw-parser-output .mp-bordered,.mw-parser-output .mp-h2,body.skin-timeless .mw-parser-output .mp-h2{border-width:1px;border-style:solid}.mw-parser-output #mp-topbanner,.mw-parser-output .mp-h2,.mw-parser-output #mp-left{color:#000}.mw-parser-output #mp-welcomecount{margin:0.4em;text-align:center}.mw-parser-output #mp-welcome{font-size:162%;padding:0.1em}.mw-parser-output #mp-welcome h1{font-size:inherit;font-family:inherit;display:inline;border:none}.mw-parser-output #mp-welcome h1::after{content:none}.mw-parser-output #mp-free{font-size:95%}.mw-parser-output #articlecount{font-size:85%}.mw-parser-output #mp-banner{margin-top:4px;padding:0.5em;background-color:#fffaf5;border-color:#f2e0ce}.mw-parser-output .mp-h2,body.skin-timeless .mw-parser-output .mp-h2{margin:0.5em;padding:0.2em 0.4em;font-size:120%;font-weight:bold;font-family:inherit;display:block}.mw-parser-output h2.mp-h2::after{border:none}.mw-parser-output .mp-later{font-size:85%;font-weight:normal}.mw-parser-output #mp-upper{width:100%;margin-top:4px;margin-bottom:0;border-spacing:0;border-collapse:separate}.mw-parser-output #mp-upper .mid-table{border-color:transparent}.mw-parser-output #mp-left{width:55%;border-color:#cef2e0;background:#f5fffa}.mw-parser-output #mp-right{width:45%;border-color:#cedff2;background:#f5faff}.mw-parser-output #mp-left,.mw-parser-output #mp-right{padding:0;vertical-align:top}.mw-parser-output #mp-left .mp-h2{background:#cef2e0;border-color:#a3bfb1}.mw-parser-output #mp-right .mp-h2{background:#cedff2;border-color:#a3b0bf}.mw-parser-output #mp-tfa,.mw-parser-output #mp-dyk,.mw-parser-output #mp-itn,.mw-parser-output #mp-otd,.mw-parser-output #mp-other-lower>div{padding:0.1em 0.6em}.mw-parser-output #mp-dyk-h2,.mw-parser-output #mp-otd-h2{clear:both}.mw-parser-output #mp-middle{margin-top:4px;border-color:#f2cedd;background:#fff5fa}.mw-parser-output #mp-middle,.mw-parser-output #mp-lower,.mw-parser-output #mp-other-lower{overflow:auto}.mw-parser-output #mp-tfl-h2{background:#f2cedd;border-color:#bfa3af}.mw-parser-output #mp-tfl{padding:0.3em 0.7em}.mw-parser-output #mp-lower{margin-top:4px;border-color:#ddcef2;background:#faf5ff}.mw-parser-output #mp-tfp-h2{background:#ddcef2;border-color:#afa3bf}.mw-parser-output #mp-tfp{margin:0.1em 0.4em 0.6em}.mw-parser-output #mp-other-lower{padding:0;border-color:#e2e2e2;margin-top:4px}.mw-parser-output #mp-dyk,.mw-parser-output #mp-otd,.mw-parser-output #mp-other-lower{padding-bottom:0.5em}.mw-parser-output #mp-other-lower .mp-h2{background:#eee;border-color:#ddd;color:#222}@media(max-width:875px){body.skin--responsive .mw-parser-output table,body.skin--responsive .mw-parser-output tr,body.skin--responsive .mw-parser-output td,body.skin--responsive .mw-parser-output tbody{display:block!important;width:100%!important;box-sizing:border-box}body.skin--responsive .mw-parser-output #mp-tfp tr:first-child td:first-child a{text-align:center;display:table;margin:0 auto}}.mw-parser-output div.hlist.inline ul,.mw-parser-output div.hlist.inline li,.mw-parser-output div.hlist.inline{display:inline}</style>\n",
       "<div class=\"mp-bordered\" id=\"mp-topbanner\">\n",
       "<div id=\"mp-welcomecount\">\n",
       "<div id=\"mp-welcome\"><h1><span class=\"mw-headline\" id=\"Welcome_to_Wikipedia\">Welcome to <a href=\"/wiki/Wikipedia\" title=\"Wikipedia\">Wikipedia</a></span></h1>,</div>\n",
       "<div id=\"mp-free\">the <a href=\"/wiki/Free_content\" title=\"Free content\">free</a> <a href=\"/wiki/Encyclopedia\" title=\"Encyclopedia\">encyclopedia</a> that <a href=\"/wiki/Help:Introduction_to_Wikipedia\" title=\"Help:Introduction to Wikipedia\">anyone can edit</a>.</div>\n",
       "<div id=\"articlecount\"><a href=\"/wiki/Special:Statistics\" title=\"Special:Statistics\">6,487,572</a> articles in <a href=\"/wiki/English_language\" title=\"English language\">English</a></div>\n",
       "</div>\n",
       "</div>\n",
       "<table id=\"mp-upper\" role=\"presentation\">\n",
       "<tbody><tr>\n",
       "<td class=\"MainPageBG mp-bordered\" id=\"mp-left\">\n",
       "<h2 class=\"mp-h2\" id=\"mp-tfa-h2\"><span id=\"From_today.27s_featured_article\"></span><span class=\"mw-headline\" id=\"From_today's_featured_article\">From today's featured article</span></h2>\n",
       "<div id=\"mp-tfa\"><div id=\"mp-tfa-img\" style=\"float: left; margin: 0.5em 0.9em 0.4em 0em;\">\n",
       "<div class=\"thumbinner mp-thumb\" style=\"background: transparent; border: none; padding: 0; max-width: 140px;\">\n",
       "<a class=\"image\" href=\"/wiki/File:John_W._Young_on_the_Moon.jpg\" title=\"Young on the Moon during Apollo 16\"><img alt=\"Young on the Moon during Apollo 16\" data-file-height=\"3928\" data-file-width=\"3928\" decoding=\"async\" height=\"140\" src=\"//upload.wikimedia.org/wikipedia/commons/thumb/b/b3/John_W._Young_on_the_Moon.jpg/140px-John_W._Young_on_the_Moon.jpg\" srcset=\"//upload.wikimedia.org/wikipedia/commons/thumb/b/b3/John_W._Young_on_the_Moon.jpg/210px-John_W._Young_on_the_Moon.jpg 1.5x, //upload.wikimedia.org/wikipedia/commons/thumb/b/b3/John_W._Young_on_the_Moon.jpg/280px-John_W._Young_on_the_Moon.jpg 2x\" width=\"140\"/></a><div class=\"thumbcaption\" style=\"padding: 0.25em 0; word-wrap: break-word;\">Young on the Moon during Apollo 16</div></div>\n",
       "</div>\n",
       "<p><b><a href=\"/wiki/John_Young_(astronaut)\" title=\"John Young (astronaut)\">John Watts Young</a></b> (1930–2018) was an American <a href=\"/wiki/Astronaut\" title=\"Astronaut\">astronaut</a>, naval officer and aviator, test pilot, and <a href=\"/wiki/Aerospace_engineering\" title=\"Aerospace engineering\">aeronautical engineer</a>. On April 21, 1972, he became the ninth person to walk on the Moon as commander of <a href=\"/wiki/Apollo_16\" title=\"Apollo 16\">Apollo 16</a>. He flew on four different classes of spacecraft: the <a href=\"/wiki/Project_Gemini\" title=\"Project Gemini\">Gemini</a> capsule, the <a href=\"/wiki/Apollo_command_and_service_module\" title=\"Apollo command and service module\">Apollo command and service module</a>, the <a href=\"/wiki/Apollo_Lunar_Module\" title=\"Apollo Lunar Module\">Apollo lunar module</a>, and the <a href=\"/wiki/Space_Shuttle\" title=\"Space Shuttle\">Space Shuttle</a>. Young served in the <a href=\"/wiki/United_States_Navy\" title=\"United States Navy\">U.S. Navy</a> as an aviator, and graduated from the U.S. Naval Test Pilot School. He set multiple world time-to-climb records, and was selected as a member of <a href=\"/wiki/NASA_Astronaut_Group_2\" title=\"NASA Astronaut Group 2\">NASA Astronaut Group 2</a> in 1962. He flew on <a href=\"/wiki/Gemini_3\" title=\"Gemini 3\">Gemini 3</a> in 1965, and  commanded <a href=\"/wiki/Gemini_10\" title=\"Gemini 10\">Gemini 10</a> in 1966. He flew as the command module pilot on <a href=\"/wiki/Apollo_10\" title=\"Apollo 10\">Apollo 10</a> in 1969. After that, he commanded Apollo 16, and spent three days on the lunar surface exploring the <a href=\"/wiki/Descartes_Highlands\" title=\"Descartes Highlands\">Descartes Highlands</a> with <a href=\"/wiki/Charles_Duke\" title=\"Charles Duke\">Charles Duke</a>. Young also commanded <a href=\"/wiki/STS-1\" title=\"STS-1\"><span class=\"nowrap\">STS-1</span></a>, the Space Shuttle program's first launch, in 1981, and <a href=\"/wiki/STS-9\" title=\"STS-9\"><span class=\"nowrap\">STS-9</span></a> in 1983. He retired from <a href=\"/wiki/NASA\" title=\"NASA\">NASA</a> in 2004. <i>(<b><a href=\"/wiki/John_Young_(astronaut)\" title=\"John Young (astronaut)\">This article</a></b> is part of a <a href=\"/wiki/Wikipedia:Featured_topics\" title=\"Wikipedia:Featured topics\">featured topic</a>: <b><a href=\"/wiki/Wikipedia:Featured_topics/NASA_Astronaut_Group_2\" title=\"Wikipedia:Featured topics/NASA Astronaut Group 2\">NASA Astronaut Group 2</a></b>.)</i>\n",
       "</p>\n",
       "<div class=\"tfa-recent\" style=\"text-align: right;\">\n",
       "Recently featured: <div class=\"hlist hlist-separated inline\">\n",
       "<ul><li><a href=\"/wiki/Nicoll_Highway_MRT_station\" title=\"Nicoll Highway MRT station\">Nicoll Highway MRT station</a></li>\n",
       "<li><i><a href=\"/wiki/The_Minute_Man\" title=\"The Minute Man\">The Minute Man</a></i></li>\n",
       "<li><i><a href=\"/wiki/Sei_pezzi_per_pianoforte\" title=\"Sei pezzi per pianoforte\">Sei pezzi per pianoforte</a></i></li></ul>\n",
       "</div></div>\n",
       "<div class=\"hlist hlist-separated tfa-footer noprint\" style=\"text-align:right;\">\n",
       "<ul><li><b><a href=\"/wiki/Wikipedia:Today%27s_featured_article/April_2022\" title=\"Wikipedia:Today's featured article/April 2022\">Archive</a></b></li>\n",
       "<li><b><a class=\"extiw\" href=\"https://lists.wikimedia.org/postorius/lists/daily-article-l.lists.wikimedia.org/\" title=\"mail:daily-article-l\">By email</a></b></li>\n",
       "<li><b><a href=\"/wiki/Wikipedia:Featured_articles\" title=\"Wikipedia:Featured articles\">More featured articles</a></b></li></ul>\n",
       "</div></div>\n",
       "<h2 class=\"mp-h2\" id=\"mp-dyk-h2\"><span class=\"mw-headline\" id=\"Did_you_know_...\">Did you know ...</span></h2>\n",
       "<div id=\"mp-dyk\">\n",
       "<div class=\"dyk-img\" style=\"float: right; margin-left: 0.5em;\">\n",
       "<div class=\"thumbinner mp-thumb\" style=\"background: transparent; border: none; padding: 0; max-width: 127px;\">\n",
       "<a class=\"image\" href=\"/wiki/File:Hans_Robertson_-_Gret_Palucca,_1920s.jpg\" title=\"Gret Palucca, photographed by Hans Robertson\"><img alt=\"Gret Palucca, photographed by Hans Robertson\" data-file-height=\"586\" data-file-width=\"485\" decoding=\"async\" height=\"153\" src=\"//upload.wikimedia.org/wikipedia/commons/thumb/9/96/Hans_Robertson_-_Gret_Palucca%2C_1920s.jpg/127px-Hans_Robertson_-_Gret_Palucca%2C_1920s.jpg\" srcset=\"//upload.wikimedia.org/wikipedia/commons/thumb/9/96/Hans_Robertson_-_Gret_Palucca%2C_1920s.jpg/191px-Hans_Robertson_-_Gret_Palucca%2C_1920s.jpg 1.5x, //upload.wikimedia.org/wikipedia/commons/thumb/9/96/Hans_Robertson_-_Gret_Palucca%2C_1920s.jpg/254px-Hans_Robertson_-_Gret_Palucca%2C_1920s.jpg 2x\" width=\"127\"/></a><div class=\"thumbcaption\" style=\"padding: 0.25em 0; word-wrap: break-word;\">Gret Palucca, photographed by Hans Robertson</div></div>\n",
       "</div>\n",
       "<ul><li>... that <b><a href=\"/wiki/Hans_Robertson\" title=\"Hans Robertson\">Hans Robertson</a></b> ran a studio in 1920s Berlin where he photographed celebrities such as artist <a href=\"/wiki/K%C3%A4the_Kollwitz\" title=\"Käthe Kollwitz\">Käthe Kollwitz</a>, boxer <a href=\"/wiki/Max_Schmeling\" title=\"Max Schmeling\">Max Schmeling</a> and dancer <a href=\"/wiki/Gret_Palucca\" title=\"Gret Palucca\">Gret Palucca</a> <i>(pictured)</i><span style=\"padding-left:0.15em;\">?</span></li>\n",
       "<li>... that the city of Madrid has had <b><a href=\"/wiki/Walls_of_Madrid\" title=\"Walls of Madrid\">five successive sets of walls</a></b>, from the first built by the <a href=\"/wiki/Moors\" title=\"Moors\">Moors</a> in 860 to the ones built by <a href=\"/wiki/Philip_IV_of_Spain\" title=\"Philip IV of Spain\">Philip IV</a> in 1625?</li>\n",
       "<li>... that in response to <b><a href=\"/wiki/Disney_and_Florida_House_Bill_1557\" title=\"Disney and Florida House Bill 1557\">Disney's stance on Florida's House Bill 1557</a></b>, also known as the \"Don't Say Gay\" bill, <a href=\"/wiki/Pixar\" title=\"Pixar\">Pixar</a> employees stated that Disney removes LGBT references from the studio's films?</li>\n",
       "<li>... that <a href=\"/wiki/Laura_Ashe\" title=\"Laura Ashe\">Laura Ashe</a> believes the <a href=\"/wiki/Gawain_Poet\" title=\"Gawain Poet\">Gawain Poet</a> used the <b><a href=\"/wiki/Beheading_game\" title=\"Beheading game\">beheading game</a></b> to criticize the emptiness of <a href=\"/wiki/Chivalry\" title=\"Chivalry\">chivalry</a>?</li>\n",
       "<li>... that the <b><a href=\"/wiki/Khwarazmian_army_between_1231_and_1246\" title=\"Khwarazmian army between 1231 and 1246\">remnants of the Khwarazmian army</a></b> massacred the Christian inhabitants of <a href=\"/wiki/Jerusalem\" title=\"Jerusalem\">Jerusalem</a> in 1244?</li>\n",
       "<li>... that Ukrainian artist <b><a href=\"/wiki/Kateryna_Antonovych\" title=\"Kateryna Antonovych\">Kateryna Antonovych</a></b> worked at <a href=\"/wiki/Prague\" title=\"Prague\">Prague</a>'s Museum of Ukraine's Struggle for Independence before the <a href=\"/wiki/United_States_Army_Air_Forces\" title=\"United States Army Air Forces\">US Army Air Forces</a> bombed it?</li>\n",
       "<li>... that a species in the genus of sponges <i><b><a href=\"/wiki/Pseudoceratina\" title=\"Pseudoceratina\">Pseudoceratina</a></b></i> produces a chemical that can help prevent migration of <a href=\"/wiki/Metastatic_breast_cancer\" title=\"Metastatic breast cancer\">metastatic breast cancer</a> cells?</li>\n",
       "<li>... that the dome atop the <b><a href=\"/wiki/Williamsburgh_Savings_Bank_Tower\" title=\"Williamsburgh Savings Bank Tower\">Williamsburgh Savings Bank Tower</a></b> was once called \"New York's most exuberant phallic symbol\"?</li></ul>\n",
       "<div class=\"hlist hlist-separated dyk-footer noprint\" style=\"margin-top: 0.5em; text-align: right;\">\n",
       "<ul><li><b><a href=\"/wiki/Wikipedia:Recent_additions\" title=\"Wikipedia:Recent additions\">Archive</a></b></li>\n",
       "<li><b><a href=\"/wiki/Help:Your_first_article\" title=\"Help:Your first article\">Start a new article</a></b></li>\n",
       "<li><b><a href=\"/wiki/Template_talk:Did_you_know\" title=\"Template talk:Did you know\">Nominate an article</a></b></li></ul>\n",
       "</div>\n",
       "</div>\n",
       "</td>\n",
       "<td class=\"mp-bordered mid-table\">\n",
       "</td>\n",
       "<td class=\"MainPageBG mp-bordered\" id=\"mp-right\">\n",
       "<h2 class=\"mp-h2\" id=\"mp-itn-h2\"><span class=\"mw-headline\" id=\"In_the_news\">In the news</span></h2>\n",
       "<div id=\"mp-itn\"><style data-mw-deduplicate=\"TemplateStyles:r1053378754\">.mw-parser-output .itn-img{float:right;margin-left:0.5em;margin-top:0.2em}</style><div class=\"itn-img\" role=\"figure\">\n",
       "<div class=\"thumbinner mp-thumb\" style=\"background: transparent; border: none; padding: 0; max-width: 116px;\">\n",
       "<a class=\"image\" href=\"/wiki/File:2019-05-24_Jos%C3%A9_Ramos-Horta_(cropped).jpg\" title=\"José Ramos-Horta in 2019\"><img alt=\"José Ramos-Horta in 2019\" class=\"thumbborder\" data-file-height=\"1070\" data-file-width=\"713\" decoding=\"async\" height=\"171\" src=\"//upload.wikimedia.org/wikipedia/commons/thumb/2/26/2019-05-24_Jos%C3%A9_Ramos-Horta_%28cropped%29.jpg/114px-2019-05-24_Jos%C3%A9_Ramos-Horta_%28cropped%29.jpg\" srcset=\"//upload.wikimedia.org/wikipedia/commons/thumb/2/26/2019-05-24_Jos%C3%A9_Ramos-Horta_%28cropped%29.jpg/171px-2019-05-24_Jos%C3%A9_Ramos-Horta_%28cropped%29.jpg 1.5x, //upload.wikimedia.org/wikipedia/commons/thumb/2/26/2019-05-24_Jos%C3%A9_Ramos-Horta_%28cropped%29.jpg/228px-2019-05-24_Jos%C3%A9_Ramos-Horta_%28cropped%29.jpg 2x\" width=\"114\"/></a><div class=\"thumbcaption\" style=\"padding: 0.25em 0; word-wrap: break-word; text-align: left;\">José Ramos-Horta</div></div>\n",
       "</div>\n",
       "<ul><li><a href=\"/wiki/Jos%C3%A9_Ramos-Horta\" title=\"José Ramos-Horta\">José Ramos-Horta</a> <i>(pictured)</i> is <b><a href=\"/wiki/2022_East_Timorese_presidential_election\" title=\"2022 East Timorese presidential election\">elected</a></b> <a href=\"/wiki/President_of_East_Timor\" title=\"President of East Timor\">President of East Timor</a>.</li>\n",
       "<li>Russia's <a href=\"/wiki/Black_Sea_Fleet\" title=\"Black Sea Fleet\">Black Sea Fleet</a> flagship, the cruiser <i><a href=\"/wiki/Russian_cruiser_Moskva\" title=\"Russian cruiser Moskva\">Moskva</a></i>, <b><a href=\"/wiki/Sinking_of_the_Moskva\" title=\"Sinking of the Moskva\">sinks</a></b> off the coast of Ukraine.</li>\n",
       "<li><b><a href=\"/wiki/2022_KwaZulu-Natal_floods\" title=\"2022 KwaZulu-Natal floods\">Flooding</a></b> across <a href=\"/wiki/KwaZulu-Natal\" title=\"KwaZulu-Natal\">KwaZulu-Natal</a>, South Africa, leaves at least 440 people dead.</li>\n",
       "<li><b><a href=\"/wiki/Shehbaz_Sharif\" title=\"Shehbaz Sharif\">Shehbaz Sharif</a></b> is elected as <a href=\"/wiki/Prime_Minister_of_Pakistan\" title=\"Prime Minister of Pakistan\">Prime Minister of Pakistan</a> after <a href=\"/wiki/Imran_Khan\" title=\"Imran Khan\">Imran Khan</a> is removed in <b><a href=\"/wiki/No-confidence_motion_against_Imran_Khan\" title=\"No-confidence motion against Imran Khan\">a no-confidence motion</a></b>.</li>\n",
       "<li><b><a href=\"/wiki/2022_Plateau_State_massacres\" title=\"2022 Plateau State massacres\">A series of attacks</a></b> by <a href=\"/wiki/Nigerian_bandit_conflict\" title=\"Nigerian bandit conflict\">armed bandits</a> kill more than 150 people in <a href=\"/wiki/Plateau_State\" title=\"Plateau State\">Plateau State</a>, Nigeria.</li></ul>\n",
       "<div class=\"itn-footer\" style=\"margin-top: 0.5em;\">\n",
       "<div><b><a href=\"/wiki/Portal:Current_events\" title=\"Portal:Current events\">Ongoing</a></b>: <div class=\"hlist hlist-separated inline\">\n",
       "<ul><li><a href=\"/wiki/COVID-19_pandemic\" title=\"COVID-19 pandemic\">COVID-19 pandemic</a></li>\n",
       "<li><a href=\"/wiki/2022_Russian_invasion_of_Ukraine\" title=\"2022 Russian invasion of Ukraine\">Russian invasion of Ukraine</a></li></ul></div></div>\n",
       "<div><b><a href=\"/wiki/Deaths_in_2022\" title=\"Deaths in 2022\">Recent deaths</a></b>: <div class=\"hlist hlist-separated inline\">\n",
       "<ul><li><a href=\"/wiki/Brad_Ashford\" title=\"Brad Ashford\">Brad Ashford</a></li>\n",
       "<li><a href=\"/wiki/Jerry_Doucette\" title=\"Jerry Doucette\">Jerry Doucette</a></li>\n",
       "<li><a href=\"/wiki/Zippy_Chippy\" title=\"Zippy Chippy\">Zippy Chippy</a></li>\n",
       "<li><a href=\"/wiki/Jack_Newton\" title=\"Jack Newton\">Jack Newton</a></li>\n",
       "<li><a href=\"/wiki/Ed_Jasper\" title=\"Ed Jasper\">Ed Jasper</a></li>\n",
       "<li><a href=\"/wiki/Harrison_Birtwistle\" title=\"Harrison Birtwistle\">Harrison Birtwistle</a></li></ul></div></div></div>\n",
       "<div class=\"hlist hlist-separated itn-footer noprint\" style=\"text-align:right;\">\n",
       "<ul><li><b><a href=\"/wiki/Wikipedia:In_the_news/Candidates\" title=\"Wikipedia:In the news/Candidates\">Nominate an article</a></b></li></ul>\n",
       "</div></div>\n",
       "<h2 class=\"mp-h2\" id=\"mp-otd-h2\"><span class=\"mw-headline\" id=\"On_this_day\">On this day</span></h2>\n",
       "<div id=\"mp-otd\">\n",
       "<p><b><a href=\"/wiki/April_21\" title=\"April 21\">April 21</a></b>: First day of <b><a href=\"/wiki/Ridv%C3%A1n\" title=\"Ridván\">Ridván</a></b> (<a href=\"/wiki/Bah%C3%A1%CA%BC%C3%AD_Faith\" title=\"Baháʼí Faith\">Baháʼí Faith</a>, 2022); <b><a href=\"/wiki/Grounation_Day\" title=\"Grounation Day\">Grounation Day</a></b> (<a href=\"/wiki/Rastafari\" title=\"Rastafari\">Rastafari</a>)\n",
       "</p>\n",
       "<div id=\"mp-otd-img\" style=\"float:right;margin-left:0.5em;\">\n",
       "<div class=\"thumbinner mp-thumb\" style=\"background: transparent; border: none; padding: 0; max-width: 162px;\">\n",
       "<a class=\"image\" href=\"/wiki/File:She-wolf_suckles_Romulus_and_Remus.jpg\" title=\"Romulus and Remus suckling from the Capitoline Wolf\"><img alt=\"Romulus and Remus suckling from the Capitoline Wolf\" data-file-height=\"480\" data-file-width=\"640\" decoding=\"async\" height=\"122\" src=\"//upload.wikimedia.org/wikipedia/commons/thumb/6/6a/She-wolf_suckles_Romulus_and_Remus.jpg/162px-She-wolf_suckles_Romulus_and_Remus.jpg\" srcset=\"//upload.wikimedia.org/wikipedia/commons/thumb/6/6a/She-wolf_suckles_Romulus_and_Remus.jpg/243px-She-wolf_suckles_Romulus_and_Remus.jpg 1.5x, //upload.wikimedia.org/wikipedia/commons/thumb/6/6a/She-wolf_suckles_Romulus_and_Remus.jpg/324px-She-wolf_suckles_Romulus_and_Remus.jpg 2x\" width=\"162\"/></a><div class=\"thumbcaption\" style=\"padding: 0.25em 0; word-wrap: break-word;\">Romulus and Remus suckling from the <a href=\"/wiki/Capitoline_Wolf\" title=\"Capitoline Wolf\">Capitoline Wolf</a></div></div>\n",
       "</div>\n",
       "<ul><li><a href=\"/wiki/753_BC\" title=\"753 BC\">753 BC</a> – <a href=\"/wiki/Romulus_and_Remus\" title=\"Romulus and Remus\">Romulus and Remus</a> <i>(depicted)</i> legendarily <b><a href=\"/wiki/Founding_of_Rome\" title=\"Founding of Rome\">founded the city of Rome</a></b>, according to the calculations of <a href=\"/wiki/Ancient_Rome\" title=\"Ancient Rome\">ancient Roman</a> scholar <a href=\"/wiki/Marcus_Terentius_Varro\" title=\"Marcus Terentius Varro\">Varro Reatinus</a>.</li>\n",
       "<li><a href=\"/wiki/1509\" title=\"1509\">1509</a> – <b><a href=\"/wiki/Henry_VIII\" title=\"Henry VIII\">Henry VIII</a></b> became <a href=\"/wiki/List_of_English_monarchs\" title=\"List of English monarchs\">King of England</a>, following the death of his father <a href=\"/wiki/Henry_VII_of_England\" title=\"Henry VII of England\">Henry VII</a>, eventually becoming a significant figure in the history of the English monarchy.</li>\n",
       "<li><a href=\"/wiki/1925\" title=\"1925\">1925</a> or <a href=\"/wiki/1926\" title=\"1926\">1926</a> – <a href=\"/wiki/Al-Baqi_Cemetery\" title=\"Al-Baqi Cemetery\">Al-Baqi Cemetery</a> in <a href=\"/wiki/Medina\" title=\"Medina\">Medina</a>, the site of the mausoleum of four of the <a href=\"/wiki/Twelve_Imams\" title=\"Twelve Imams\">Twelve Imams</a> of <a href=\"/wiki/Shia_Islam\" title=\"Shia Islam\">Shia Islam</a>, <b><a href=\"/wiki/Demolition_of_al-Baqi\" title=\"Demolition of al-Baqi\">was demolished</a></b> by <a href=\"/wiki/Wahhabism\" title=\"Wahhabism\">Wahhabis</a>.</li>\n",
       "<li><a href=\"/wiki/1962\" title=\"1962\">1962</a> – The <b><a href=\"/wiki/Century_21_Exposition\" title=\"Century 21 Exposition\">Century 21 Exposition</a></b>, the first <a href=\"/wiki/World%27s_fair\" title=\"World's fair\">world's fair</a> in the United States since World War II, opened in <a href=\"/wiki/Seattle\" title=\"Seattle\">Seattle</a>.</li></ul>\n",
       "<div class=\"hlist hlist-separated\" style=\"margin-top: 0.5em;\"><ul><li><b><a href=\"/wiki/Pope_Alexander_II\" title=\"Pope Alexander II\">Pope Alexander II</a></b>  (<abbr title=\"died\">d.</abbr> 1073)</li><li><b><a href=\"/wiki/Anton%C3%ADn_Kammel\" title=\"Antonín Kammel\">Antonín Kammel</a></b>  (<abbr title=\"born\">b.</abbr> 1730)</li><li><b><a href=\"/wiki/Cheryl_Gillan\" title=\"Cheryl Gillan\">Cheryl Gillan</a></b>  (<abbr title=\"born\">b.</abbr> 1952)</li></ul></div>\n",
       "<div style=\"margin-top:0.5em;\">\n",
       "More anniversaries: <div class=\"hlist hlist-separated inline nowraplinks\">\n",
       "<ul><li><a href=\"/wiki/April_20\" title=\"April 20\">April 20</a></li>\n",
       "<li><b><a href=\"/wiki/April_21\" title=\"April 21\">April 21</a></b></li>\n",
       "<li><a href=\"/wiki/April_22\" title=\"April 22\">April 22</a></li></ul>\n",
       "</div></div>\n",
       "<div class=\"hlist hlist-separated otd-footer noprint\" style=\"text-align:right;\">\n",
       "<ul><li><b><a href=\"/wiki/Wikipedia:Selected_anniversaries/April\" title=\"Wikipedia:Selected anniversaries/April\">Archive</a></b></li>\n",
       "<li><b><a class=\"extiw\" href=\"https://lists.wikimedia.org/postorius/lists/daily-article-l.lists.wikimedia.org/\" title=\"mail:daily-article-l\">By email</a></b></li>\n",
       "<li><b><a href=\"/wiki/List_of_days_of_the_year\" title=\"List of days of the year\">List of days of the year</a></b></li></ul>\n",
       "</div></div>\n",
       "</td></tr></tbody></table>\n",
       "<div class=\"MainPageBG mp-bordered\" id=\"mp-lower\">\n",
       "<div id=\"mp-bottom\">\n",
       "<h2 class=\"mp-h2\" id=\"mp-tfp-h2\"><span id=\"Today.27s_featured_picture\"></span><span class=\"mw-headline\" id=\"Today's_featured_picture\">Today's featured picture</span></h2>\n",
       "<div id=\"mp-tfp\">\n",
       "<table role=\"presentation\" style=\"margin:0 3px 3px; width:100%; box-sizing:border-box; text-align:left; background-color:transparent; border-collapse:collapse;\">\n",
       "<tbody><tr>\n",
       "<td style=\"padding:0 0.9em 0 0; width:400px;\"><a class=\"image\" href=\"/wiki/File:Geopelia_humeralis_-_Brunkerville.jpg\" title=\"Bar-shouldered dove\"><img alt=\"Bar-shouldered dove\" data-file-height=\"3648\" data-file-width=\"5472\" decoding=\"async\" height=\"267\" src=\"//upload.wikimedia.org/wikipedia/commons/thumb/7/72/Geopelia_humeralis_-_Brunkerville.jpg/400px-Geopelia_humeralis_-_Brunkerville.jpg\" srcset=\"//upload.wikimedia.org/wikipedia/commons/thumb/7/72/Geopelia_humeralis_-_Brunkerville.jpg/600px-Geopelia_humeralis_-_Brunkerville.jpg 1.5x, //upload.wikimedia.org/wikipedia/commons/thumb/7/72/Geopelia_humeralis_-_Brunkerville.jpg/800px-Geopelia_humeralis_-_Brunkerville.jpg 2x\" width=\"400\"/></a>\n",
       "</td>\n",
       "<td style=\"padding:0 6px 0 0\">\n",
       "<p>The <b><a href=\"/wiki/Bar-shouldered_dove\" title=\"Bar-shouldered dove\">bar-shouldered dove</a></b> (<i>Geopelia humeralis</i>) is a species of dove, in the family <a href=\"/wiki/Columbidae\" title=\"Columbidae\">Columbidae</a>, native to Australia and southern New Guinea. Its typical habitat consists of areas of thick vegetation where water is present, damp gullies, <a href=\"/wiki/Forest\" title=\"Forest\">forests</a> and <a href=\"/wiki/Canyon\" title=\"Canyon\">gorges</a>, <a href=\"/wiki/Mangrove\" title=\"Mangrove\">mangroves</a>, <a href=\"/wiki/Plantation\" title=\"Plantation\">plantations</a>, <a href=\"/wiki/Swamp\" title=\"Swamp\">swamps</a>, <a href=\"/wiki/Eucalyptus\" title=\"Eucalyptus\">eucalyptus</a> woodland, <a href=\"/wiki/Tropics\" title=\"Tropics\">tropical</a> and sub-tropical <a href=\"/wiki/Shrubland\" title=\"Shrubland\">shrubland</a>, and river margins. It can be found in both inland and coastal regions. This bar-shouldered dove was photographed in <a href=\"/wiki/Brunkerville,_New_South_Wales\" title=\"Brunkerville, New South Wales\">Brunkerville, New South Wales</a>.\n",
       "</p>\n",
       "<p style=\"text-align:left;\"><small>Photograph credit: <a href=\"/wiki/User:JJ_Harrison\" title=\"User:JJ Harrison\">John Harrison</a></small></p>\n",
       "<div class=\"potd-recent\" style=\"text-align:right;\">\n",
       "Recently featured: <div class=\"hlist hlist-separated inline\">\n",
       "<ul><li><a href=\"/wiki/Template:POTD/2022-04-20\" title=\"Template:POTD/2022-04-20\">Gare du Nord</a></li>\n",
       "<li><a href=\"/wiki/Template:POTD/2022-04-19\" title=\"Template:POTD/2022-04-19\">Glenn T. Seaborg</a></li>\n",
       "<li><a href=\"/wiki/Template:POTD/2022-04-18\" title=\"Template:POTD/2022-04-18\">1906 San Francisco earthquake</a></li></ul>\n",
       "</div></div>\n",
       "<div class=\"hlist hlist-separated potd-footer noprint\" style=\"text-align:right;\">\n",
       "<ul><li><b><a href=\"/wiki/Wikipedia:Picture_of_the_day/Archive\" title=\"Wikipedia:Picture of the day/Archive\">Archive</a></b></li>\n",
       "<li><b><a href=\"/wiki/Wikipedia:Featured_pictures\" title=\"Wikipedia:Featured pictures\">More featured pictures</a></b></li></ul>\n",
       "</div>\n",
       "</td></tr></tbody></table></div>\n",
       "</div>\n",
       "</div>\n",
       "<div class=\"mp-bordered\" id=\"mp-other-lower\">\n",
       "<h2 class=\"mp-h2\" id=\"mp-other\"><span class=\"mw-headline\" id=\"Other_areas_of_Wikipedia\">Other areas of Wikipedia</span></h2>\n",
       "<div id=\"mp-other-content\">\n",
       "<ul><li><b><a href=\"/wiki/Wikipedia:Community_portal\" title=\"Wikipedia:Community portal\">Community portal</a></b> – The central hub for editors, with resources, links, tasks, and announcements.</li>\n",
       "<li><b><a href=\"/wiki/Wikipedia:Village_pump\" title=\"Wikipedia:Village pump\">Village pump</a></b> – Forum for discussions about Wikipedia itself, including policies and technical issues.</li>\n",
       "<li><b><a href=\"/wiki/Wikipedia:News\" title=\"Wikipedia:News\">Site news</a></b> – Sources of news about Wikipedia and the broader Wikimedia movement.</li>\n",
       "<li><b><a href=\"/wiki/Wikipedia:Teahouse\" title=\"Wikipedia:Teahouse\">Teahouse</a></b> – Ask basic questions about using or editing Wikipedia.</li>\n",
       "<li><b><a href=\"/wiki/Wikipedia:Help_desk\" title=\"Wikipedia:Help desk\">Help desk</a></b> – Ask questions about using or editing Wikipedia.</li>\n",
       "<li><b><a href=\"/wiki/Wikipedia:Reference_desk\" title=\"Wikipedia:Reference desk\">Reference desk</a></b> – Ask research questions about encyclopedic topics.</li>\n",
       "<li><b><a href=\"/wiki/Wikipedia:Contents/Portals\" title=\"Wikipedia:Contents/Portals\">Content portals</a></b> – A unique way to navigate the encyclopedia.</li></ul>\n",
       "</div>\n",
       "<h2 class=\"mp-h2\" id=\"mp-sister\"><span id=\"Wikipedia.27s_sister_projects\"></span><span class=\"mw-headline\" id=\"Wikipedia's_sister_projects\">Wikipedia's sister projects</span></h2>\n",
       "<div id=\"mp-sister-content\"><style data-mw-deduplicate=\"TemplateStyles:r1007624485\">.mw-parser-output #sister-projects-list{display:flex;flex-wrap:wrap}.mw-parser-output #sister-projects-list li{display:inline-block}.mw-parser-output #sister-projects-list li span{font-weight:bold}.mw-parser-output #sister-projects-list li>div{display:inline-block;vertical-align:middle;padding:6px 4px}.mw-parser-output #sister-projects-list li>div:first-child{text-align:center}@media(min-width:360px){.mw-parser-output #sister-projects-list li{width:33%;min-width:20em;white-space:nowrap;flex:1 0 25%}.mw-parser-output #sister-projects-list li>div:first-child{min-width:50px}}</style>\n",
       "<p>Wikipedia is written by volunteer editors and hosted by the <a href=\"/wiki/Wikimedia_Foundation\" title=\"Wikimedia Foundation\">Wikimedia Foundation</a>, a non-profit organization that also hosts a range of other volunteer <a class=\"extiw\" href=\"https://wikimediafoundation.org/our-work/wikimedia-projects/\" title=\"foundationsite:our-work/wikimedia-projects/\">projects</a>:\n",
       "</p>\n",
       "<div class=\"plainlist\">\n",
       "<ul id=\"sister-projects-list\">\n",
       "<li>\n",
       "<div><a href=\"https://commons.wikimedia.org/wiki/\" title=\"Commons\"><img alt=\"Commons logo\" data-file-height=\"1376\" data-file-width=\"1024\" decoding=\"async\" height=\"42\" src=\"//upload.wikimedia.org/wikipedia/en/thumb/4/4a/Commons-logo.svg/31px-Commons-logo.svg.png\" srcset=\"//upload.wikimedia.org/wikipedia/en/thumb/4/4a/Commons-logo.svg/47px-Commons-logo.svg.png 1.5x, //upload.wikimedia.org/wikipedia/en/thumb/4/4a/Commons-logo.svg/62px-Commons-logo.svg.png 2x\" width=\"31\"/></a></div>\n",
       "<div><span><a class=\"extiw\" href=\"https://commons.wikimedia.org/wiki/\" title=\"c:\">Commons</a></span><br/>Free media repository</div>\n",
       "</li>\n",
       "<li>\n",
       "<div><a href=\"https://www.mediawiki.org/wiki/\" title=\"MediaWiki\"><img alt=\"MediaWiki logo\" data-file-height=\"100\" data-file-width=\"100\" decoding=\"async\" height=\"35\" src=\"//upload.wikimedia.org/wikipedia/commons/thumb/a/a6/MediaWiki-2020-icon.svg/35px-MediaWiki-2020-icon.svg.png\" srcset=\"//upload.wikimedia.org/wikipedia/commons/thumb/a/a6/MediaWiki-2020-icon.svg/53px-MediaWiki-2020-icon.svg.png 1.5x, //upload.wikimedia.org/wikipedia/commons/thumb/a/a6/MediaWiki-2020-icon.svg/70px-MediaWiki-2020-icon.svg.png 2x\" width=\"35\"/></a></div>\n",
       "<div><span><a class=\"extiw\" href=\"https://www.mediawiki.org/wiki/\" title=\"mw:\">MediaWiki</a></span><br/>Wiki software development</div>\n",
       "</li>\n",
       "<li>\n",
       "<div><a href=\"https://meta.wikimedia.org/wiki/\" title=\"Meta-Wiki\"><img alt=\"Meta-Wiki logo\" data-file-height=\"900\" data-file-width=\"900\" decoding=\"async\" height=\"35\" src=\"//upload.wikimedia.org/wikipedia/commons/thumb/7/75/Wikimedia_Community_Logo.svg/35px-Wikimedia_Community_Logo.svg.png\" srcset=\"//upload.wikimedia.org/wikipedia/commons/thumb/7/75/Wikimedia_Community_Logo.svg/53px-Wikimedia_Community_Logo.svg.png 1.5x, //upload.wikimedia.org/wikipedia/commons/thumb/7/75/Wikimedia_Community_Logo.svg/70px-Wikimedia_Community_Logo.svg.png 2x\" width=\"35\"/></a></div>\n",
       "<div><span><a class=\"extiw\" href=\"https://meta.wikimedia.org/wiki/\" title=\"m:\">Meta-Wiki</a></span><br/>Wikimedia project coordination</div>\n",
       "</li>\n",
       "<li>\n",
       "<div><a href=\"https://en.wikibooks.org/wiki/\" title=\"Wikibooks\"><img alt=\"Wikibooks logo\" data-file-height=\"300\" data-file-width=\"300\" decoding=\"async\" height=\"35\" src=\"//upload.wikimedia.org/wikipedia/commons/thumb/f/fa/Wikibooks-logo.svg/35px-Wikibooks-logo.svg.png\" srcset=\"//upload.wikimedia.org/wikipedia/commons/thumb/f/fa/Wikibooks-logo.svg/53px-Wikibooks-logo.svg.png 1.5x, //upload.wikimedia.org/wikipedia/commons/thumb/f/fa/Wikibooks-logo.svg/70px-Wikibooks-logo.svg.png 2x\" width=\"35\"/></a></div>\n",
       "<div><span><a class=\"extiw\" href=\"https://en.wikibooks.org/wiki/\" title=\"b:\">Wikibooks</a></span><br/>Free textbooks and manuals</div>\n",
       "</li>\n",
       "<li>\n",
       "<div><a href=\"https://www.wikidata.org/wiki/\" title=\"Wikidata\"><img alt=\"Wikidata logo\" data-file-height=\"590\" data-file-width=\"1050\" decoding=\"async\" height=\"26\" src=\"//upload.wikimedia.org/wikipedia/commons/thumb/f/ff/Wikidata-logo.svg/47px-Wikidata-logo.svg.png\" srcset=\"//upload.wikimedia.org/wikipedia/commons/thumb/f/ff/Wikidata-logo.svg/71px-Wikidata-logo.svg.png 1.5x, //upload.wikimedia.org/wikipedia/commons/thumb/f/ff/Wikidata-logo.svg/94px-Wikidata-logo.svg.png 2x\" width=\"47\"/></a></div>\n",
       "<div><span><a class=\"extiw\" href=\"https://www.wikidata.org/wiki/\" title=\"d:\">Wikidata</a></span><br/>Free knowledge base</div>\n",
       "</li>\n",
       "<li>\n",
       "<div><a href=\"https://en.wikinews.org/wiki/\" title=\"Wikinews\"><img alt=\"Wikinews logo\" data-file-height=\"415\" data-file-width=\"759\" decoding=\"async\" height=\"28\" src=\"//upload.wikimedia.org/wikipedia/commons/thumb/2/24/Wikinews-logo.svg/51px-Wikinews-logo.svg.png\" srcset=\"//upload.wikimedia.org/wikipedia/commons/thumb/2/24/Wikinews-logo.svg/77px-Wikinews-logo.svg.png 1.5x, //upload.wikimedia.org/wikipedia/commons/thumb/2/24/Wikinews-logo.svg/102px-Wikinews-logo.svg.png 2x\" width=\"51\"/></a></div>\n",
       "<div><span><a class=\"extiw\" href=\"https://en.wikinews.org/wiki/\" title=\"n:\">Wikinews</a></span><br/>Free-content news</div>\n",
       "</li>\n",
       "<li>\n",
       "<div><a href=\"https://en.wikiquote.org/wiki/\" title=\"Wikiquote\"><img alt=\"Wikiquote logo\" data-file-height=\"355\" data-file-width=\"300\" decoding=\"async\" height=\"41\" src=\"//upload.wikimedia.org/wikipedia/commons/thumb/f/fa/Wikiquote-logo.svg/35px-Wikiquote-logo.svg.png\" srcset=\"//upload.wikimedia.org/wikipedia/commons/thumb/f/fa/Wikiquote-logo.svg/53px-Wikiquote-logo.svg.png 1.5x, //upload.wikimedia.org/wikipedia/commons/thumb/f/fa/Wikiquote-logo.svg/70px-Wikiquote-logo.svg.png 2x\" width=\"35\"/></a></div>\n",
       "<div><span><a class=\"extiw\" href=\"https://en.wikiquote.org/wiki/\" title=\"q:\">Wikiquote</a></span><br/>Collection of quotations</div>\n",
       "</li>\n",
       "<li>\n",
       "<div><a href=\"https://en.wikisource.org/wiki/\" title=\"Wikisource\"><img alt=\"Wikisource logo\" data-file-height=\"430\" data-file-width=\"410\" decoding=\"async\" height=\"37\" src=\"//upload.wikimedia.org/wikipedia/commons/thumb/4/4c/Wikisource-logo.svg/35px-Wikisource-logo.svg.png\" srcset=\"//upload.wikimedia.org/wikipedia/commons/thumb/4/4c/Wikisource-logo.svg/53px-Wikisource-logo.svg.png 1.5x, //upload.wikimedia.org/wikipedia/commons/thumb/4/4c/Wikisource-logo.svg/70px-Wikisource-logo.svg.png 2x\" width=\"35\"/></a></div>\n",
       "<div><span><a class=\"extiw\" href=\"https://en.wikisource.org/wiki/\" title=\"s:\">Wikisource</a></span><br/>Free-content library</div>\n",
       "</li>\n",
       "<li>\n",
       "<div><a href=\"https://species.wikimedia.org/wiki/\" title=\"Wikispecies\"><img alt=\"Wikispecies logo\" data-file-height=\"1103\" data-file-width=\"941\" decoding=\"async\" height=\"41\" src=\"//upload.wikimedia.org/wikipedia/commons/thumb/d/df/Wikispecies-logo.svg/35px-Wikispecies-logo.svg.png\" srcset=\"//upload.wikimedia.org/wikipedia/commons/thumb/d/df/Wikispecies-logo.svg/53px-Wikispecies-logo.svg.png 1.5x, //upload.wikimedia.org/wikipedia/commons/thumb/d/df/Wikispecies-logo.svg/70px-Wikispecies-logo.svg.png 2x\" width=\"35\"/></a></div>\n",
       "<div><span><a class=\"extiw\" href=\"https://species.wikimedia.org/wiki/\" title=\"species:\">Wikispecies</a></span><br/>Directory of species</div>\n",
       "</li>\n",
       "<li>\n",
       "<div><a href=\"https://en.wikiversity.org/wiki/\" title=\"Wikiversity\"><img alt=\"Wikiversity logo\" data-file-height=\"512\" data-file-width=\"626\" decoding=\"async\" height=\"34\" src=\"//upload.wikimedia.org/wikipedia/commons/thumb/0/0b/Wikiversity_logo_2017.svg/41px-Wikiversity_logo_2017.svg.png\" srcset=\"//upload.wikimedia.org/wikipedia/commons/thumb/0/0b/Wikiversity_logo_2017.svg/62px-Wikiversity_logo_2017.svg.png 1.5x, //upload.wikimedia.org/wikipedia/commons/thumb/0/0b/Wikiversity_logo_2017.svg/82px-Wikiversity_logo_2017.svg.png 2x\" width=\"41\"/></a></div>\n",
       "<div><span><a class=\"extiw\" href=\"https://en.wikiversity.org/wiki/\" title=\"v:\">Wikiversity</a></span><br/>Free learning tools</div>\n",
       "</li>\n",
       "<li>\n",
       "<div><a href=\"https://en.wikivoyage.org/wiki/\" title=\"Wikivoyage\"><img alt=\"Wikivoyage logo\" data-file-height=\"193\" data-file-width=\"193\" decoding=\"async\" height=\"35\" src=\"//upload.wikimedia.org/wikipedia/commons/thumb/d/dd/Wikivoyage-Logo-v3-icon.svg/35px-Wikivoyage-Logo-v3-icon.svg.png\" srcset=\"//upload.wikimedia.org/wikipedia/commons/thumb/d/dd/Wikivoyage-Logo-v3-icon.svg/53px-Wikivoyage-Logo-v3-icon.svg.png 1.5x, //upload.wikimedia.org/wikipedia/commons/thumb/d/dd/Wikivoyage-Logo-v3-icon.svg/70px-Wikivoyage-Logo-v3-icon.svg.png 2x\" width=\"35\"/></a></div>\n",
       "<div><span><a class=\"extiw\" href=\"https://en.wikivoyage.org/wiki/\" title=\"voy:\">Wikivoyage</a></span><br/>Free travel guide</div>\n",
       "</li>\n",
       "<li>\n",
       "<div><a href=\"https://en.wiktionary.org/wiki/\" title=\"Wiktionary\"><img alt=\"Wiktionary logo\" data-file-height=\"391\" data-file-width=\"391\" decoding=\"async\" height=\"35\" src=\"//upload.wikimedia.org/wikipedia/en/thumb/0/06/Wiktionary-logo-v2.svg/35px-Wiktionary-logo-v2.svg.png\" srcset=\"//upload.wikimedia.org/wikipedia/en/thumb/0/06/Wiktionary-logo-v2.svg/53px-Wiktionary-logo-v2.svg.png 1.5x, //upload.wikimedia.org/wikipedia/en/thumb/0/06/Wiktionary-logo-v2.svg/70px-Wiktionary-logo-v2.svg.png 2x\" width=\"35\"/></a></div>\n",
       "<div><span><a class=\"extiw\" href=\"https://en.wiktionary.org/wiki/\" title=\"wikt:\">Wiktionary</a></span><br/>Dictionary and thesaurus</div>\n",
       "</li>\n",
       "</ul>\n",
       "</div></div>\n",
       "<h2 class=\"mp-h2\" id=\"mp-lang\"><span class=\"mw-headline\" id=\"Wikipedia_languages\">Wikipedia languages</span></h2>\n",
       "<div><style data-mw-deduplicate=\"TemplateStyles:r997272951\">.mw-parser-output .wikipedia-languages-complete{font-weight:bold}.mw-parser-output .wikipedia-languages ul{margin-left:0}.mw-parser-output .wikipedia-languages ul a{white-space:nowrap}.mw-parser-output .wikipedia-languages>ul{list-style:none;text-align:center;clear:both}.mw-parser-output .wikipedia-languages-count-container{width:90%;display:flex;justify-content:center;padding-top:1em;margin:0 auto}.mw-parser-output .wikipedia-languages-prettybars{width:100%;height:1px;margin:0.5em 0;background-color:#c8ccd1;flex-shrink:1;align-self:center}.mw-parser-output .wikipedia-languages-count{padding:0 1em;white-space:nowrap}</style>\n",
       "<div class=\"wikipedia-languages nourlexpansion\">\n",
       "<p>This Wikipedia is written in <a href=\"/wiki/English_language\" title=\"English language\">English</a>. Many <a class=\"extiw\" href=\"https://meta.wikimedia.org/wiki/List_of_Wikipedias\" title=\"meta:List of Wikipedias\">other Wikipedias are available</a>; some of the largest are listed below.\n",
       "</p>\n",
       "<ul class=\"plainlinks\">\n",
       "<li>\n",
       "<div class=\"wikipedia-languages-count-container\">\n",
       "<div class=\"wikipedia-languages-prettybars\"></div>\n",
       "<div class=\"wikipedia-languages-count\" role=\"heading\">1,000,000+ articles</div>\n",
       "<div class=\"wikipedia-languages-prettybars\"></div>\n",
       "</div>\n",
       "<ul class=\"wikipedia-languages-langs hlist hlist-separated inline\">\n",
       "<li><a class=\"external text\" href=\"https://ar.wikipedia.org/wiki/\"><span class=\"autonym\" lang=\"ar\" title=\"Arabic (ar:)\">العربية</span></a></li>\n",
       "<li><a class=\"external text\" href=\"https://de.wikipedia.org/wiki/\"><span class=\"autonym\" lang=\"de\" title=\"German (de:)\">Deutsch</span></a></li>\n",
       "<li><a class=\"external text\" href=\"https://es.wikipedia.org/wiki/\"><span class=\"autonym\" lang=\"es\" title=\"Spanish (es:)\">Español</span></a></li>\n",
       "<li><a class=\"external text\" href=\"https://fr.wikipedia.org/wiki/\"><span class=\"autonym\" lang=\"fr\" title=\"French (fr:)\">Français</span></a></li>\n",
       "<li><a class=\"external text\" href=\"https://it.wikipedia.org/wiki/\"><span class=\"autonym\" lang=\"it\" title=\"Italian (it:)\">Italiano</span></a></li>\n",
       "<li><a class=\"external text\" href=\"https://nl.wikipedia.org/wiki/\"><span class=\"autonym\" lang=\"nl\" title=\"Dutch (nl:)\">Nederlands</span></a></li>\n",
       "<li><a class=\"external text\" href=\"https://ja.wikipedia.org/wiki/\"><span class=\"autonym\" lang=\"ja\" title=\"Japanese (ja:)\">日本語</span></a></li>\n",
       "<li><a class=\"external text\" href=\"https://pl.wikipedia.org/wiki/\"><span class=\"autonym\" lang=\"pl\" title=\"Polish (pl:)\">Polski</span></a></li>\n",
       "<li><a class=\"external text\" href=\"https://pt.wikipedia.org/wiki/\"><span class=\"autonym\" lang=\"pt\" title=\"Portuguese (pt:)\">Português</span></a></li>\n",
       "<li><a class=\"external text\" href=\"https://ru.wikipedia.org/wiki/\"><span class=\"autonym\" lang=\"ru\" title=\"Russian (ru:)\">Русский</span></a></li>\n",
       "<li><a class=\"external text\" href=\"https://sv.wikipedia.org/wiki/\"><span class=\"autonym\" lang=\"sv\" title=\"Swedish (sv:)\">Svenska</span></a></li>\n",
       "<li><a class=\"external text\" href=\"https://uk.wikipedia.org/wiki/\"><span class=\"autonym\" lang=\"uk\" title=\"Ukrainian (uk:)\">Українська</span></a></li>\n",
       "<li><a class=\"external text\" href=\"https://vi.wikipedia.org/wiki/\"><span class=\"autonym\" lang=\"vi\" title=\"Vietnamese (vi:)\">Tiếng Việt</span></a></li>\n",
       "<li><a class=\"external text\" href=\"https://zh.wikipedia.org/wiki/\"><span class=\"autonym\" lang=\"zh\" title=\"Chinese (zh:)\">中文</span></a></li>\n",
       "</ul>\n",
       "</li>\n",
       "<li>\n",
       "<div class=\"wikipedia-languages-count-container\">\n",
       "<div class=\"wikipedia-languages-prettybars\"></div>\n",
       "<div class=\"wikipedia-languages-count\" role=\"heading\">250,000+ articles</div>\n",
       "<div class=\"wikipedia-languages-prettybars\"></div>\n",
       "</div>\n",
       "<ul class=\"wikipedia-languages-langs hlist hlist-separated inline\">\n",
       "<li><a class=\"external text\" href=\"https://id.wikipedia.org/wiki/\"><span class=\"autonym\" lang=\"id\" title=\"Indonesian (id:)\">Bahasa Indonesia</span></a></li>\n",
       "<li><a class=\"external text\" href=\"https://ms.wikipedia.org/wiki/\"><span class=\"autonym\" lang=\"ms\" title=\"Malay (ms:)\">Bahasa Melayu</span></a></li>\n",
       "<li><a class=\"external text\" href=\"https://zh-min-nan.wikipedia.org/wiki/\"><span class=\"autonym\" lang=\"nan\" title=\"Min Nan Chinese (nan:)\">Bân-lâm-gú</span></a></li>\n",
       "<li><a class=\"external text\" href=\"https://bg.wikipedia.org/wiki/\"><span class=\"autonym\" lang=\"bg\" title=\"Bulgarian (bg:)\">Български</span></a></li>\n",
       "<li><a class=\"external text\" href=\"https://ca.wikipedia.org/wiki/\"><span class=\"autonym\" lang=\"ca\" title=\"Catalan (ca:)\">Català</span></a></li>\n",
       "<li><a class=\"external text\" href=\"https://cs.wikipedia.org/wiki/\"><span class=\"autonym\" lang=\"cs\" title=\"Czech (cs:)\">Čeština</span></a></li>\n",
       "<li><a class=\"external text\" href=\"https://da.wikipedia.org/wiki/\"><span class=\"autonym\" lang=\"da\" title=\"Danish (da:)\">Dansk</span></a></li>\n",
       "<li><a class=\"external text\" href=\"https://eo.wikipedia.org/wiki/\"><span class=\"autonym\" lang=\"eo\" title=\"Esperanto (eo:)\">Esperanto</span></a></li>\n",
       "<li><a class=\"external text\" href=\"https://eu.wikipedia.org/wiki/\"><span class=\"autonym\" lang=\"eu\" title=\"Basque (eu:)\">Euskara</span></a></li>\n",
       "<li><a class=\"external text\" href=\"https://fa.wikipedia.org/wiki/\"><span class=\"autonym\" lang=\"fa\" title=\"Persian (fa:)\">فارسی</span></a>‎</li>\n",
       "<li><a class=\"external text\" href=\"https://he.wikipedia.org/wiki/\"><span class=\"autonym\" lang=\"he\" title=\"Hebrew (he:)\">עברית</span></a></li>\n",
       "<li><a class=\"external text\" href=\"https://ko.wikipedia.org/wiki/\"><span class=\"autonym\" lang=\"ko\" title=\"Korean (ko:)\">한국어</span></a></li>\n",
       "<li><a class=\"external text\" href=\"https://hu.wikipedia.org/wiki/\"><span class=\"autonym\" lang=\"hu\" title=\"Hungarian (hu:)\">Magyar</span></a></li>\n",
       "<li><a class=\"external text\" href=\"https://no.wikipedia.org/wiki/\"><span class=\"autonym\" lang=\"no\" title=\"Norwegian (no:)\">Norsk Bokmål</span></a></li>\n",
       "<li><a class=\"external text\" href=\"https://ro.wikipedia.org/wiki/\"><span class=\"autonym\" lang=\"ro\" title=\"Romanian (ro:)\">Română</span></a></li>\n",
       "<li><a class=\"external text\" href=\"https://sr.wikipedia.org/wiki/\"><span class=\"autonym\" lang=\"sr\" title=\"Serbian (sr:)\">Srpski</span></a></li>\n",
       "<li><a class=\"external text\" href=\"https://sh.wikipedia.org/wiki/\"><span class=\"autonym\" lang=\"sh\" title=\"Serbo-Croatian (sh:)\">Srpskohrvatski</span></a></li>\n",
       "<li><a class=\"external text\" href=\"https://fi.wikipedia.org/wiki/\"><span class=\"autonym\" lang=\"fi\" title=\"Finnish (fi:)\">Suomi</span></a></li>\n",
       "<li><a class=\"external text\" href=\"https://tr.wikipedia.org/wiki/\"><span class=\"autonym\" lang=\"tr\" title=\"Turkish (tr:)\">Türkçe</span></a></li>\n",
       "</ul>\n",
       "</li>\n",
       "<li>\n",
       "<div class=\"wikipedia-languages-count-container\">\n",
       "<div class=\"wikipedia-languages-prettybars\"></div>\n",
       "<div class=\"wikipedia-languages-count\" role=\"heading\">50,000+ articles</div>\n",
       "<div class=\"wikipedia-languages-prettybars\"></div>\n",
       "</div>\n",
       "<ul class=\"wikipedia-languages-langs hlist hlist-separated inline\">\n",
       "<li><a class=\"external text\" href=\"https://ast.wikipedia.org/wiki/\"><span class=\"autonym\" lang=\"ast\" title=\"Asturian (ast:)\">Asturianu</span></a></li>\n",
       "<li><a class=\"external text\" href=\"https://bn.wikipedia.org/wiki/\"><span class=\"autonym\" lang=\"bn\" title=\"Bangla (bn:)\">বাংলা</span></a></li>\n",
       "<li><a class=\"external text\" href=\"https://bs.wikipedia.org/wiki/\"><span class=\"autonym\" lang=\"bs\" title=\"Bosnian (bs:)\">Bosanski</span></a></li>\n",
       "<li><a class=\"external text\" href=\"https://et.wikipedia.org/wiki/\"><span class=\"autonym\" lang=\"et\" title=\"Estonian (et:)\">Eesti</span></a></li>\n",
       "<li><a class=\"external text\" href=\"https://el.wikipedia.org/wiki/\"><span class=\"autonym\" lang=\"el\" title=\"Greek (el:)\">Ελληνικά</span></a></li>\n",
       "<li><a class=\"external text\" href=\"https://simple.wikipedia.org/wiki/\"><span class=\"autonym\" lang=\"simple\" title=\"Simple English (simple:)\">Simple English</span></a></li>\n",
       "<li><a class=\"external text\" href=\"https://gl.wikipedia.org/wiki/\"><span class=\"autonym\" lang=\"gl\" title=\"Galician (gl:)\">Galego</span></a></li>\n",
       "<li><a class=\"external text\" href=\"https://hr.wikipedia.org/wiki/\"><span class=\"autonym\" lang=\"hr\" title=\"Croatian (hr:)\">Hrvatski</span></a></li>\n",
       "<li><a class=\"external text\" href=\"https://lv.wikipedia.org/wiki/\"><span class=\"autonym\" lang=\"lv\" title=\"Latvian (lv:)\">Latviešu</span></a></li>\n",
       "<li><a class=\"external text\" href=\"https://lt.wikipedia.org/wiki/\"><span class=\"autonym\" lang=\"lt\" title=\"Lithuanian (lt:)\">Lietuvių</span></a></li>\n",
       "<li><a class=\"external text\" href=\"https://ml.wikipedia.org/wiki/\"><span class=\"autonym\" lang=\"ml\" title=\"Malayalam (ml:)\">മലയാളം</span></a></li>\n",
       "<li><a class=\"external text\" href=\"https://mk.wikipedia.org/wiki/\"><span class=\"autonym\" lang=\"mk\" title=\"Macedonian (mk:)\">Македонски</span></a></li>\n",
       "<li><a class=\"external text\" href=\"https://nn.wikipedia.org/wiki/\"><span class=\"autonym\" lang=\"nn\" title=\"Norwegian Nynorsk (nn:)\">Norsk nynorsk</span></a></li>\n",
       "<li><a class=\"external text\" href=\"https://sq.wikipedia.org/wiki/\"><span class=\"autonym\" lang=\"sq\" title=\"Albanian (sq:)\">Shqip</span></a></li>\n",
       "<li><a class=\"external text\" href=\"https://sk.wikipedia.org/wiki/\"><span class=\"autonym\" lang=\"sk\" title=\"Slovak (sk:)\">Slovenčina</span></a></li>\n",
       "<li><a class=\"external text\" href=\"https://sl.wikipedia.org/wiki/\"><span class=\"autonym\" lang=\"sl\" title=\"Slovenian (sl:)\">Slovenščina</span></a></li>\n",
       "<li><a class=\"external text\" href=\"https://th.wikipedia.org/wiki/\"><span class=\"autonym\" lang=\"th\" title=\"Thai (th:)\">ไทย</span></a></li>\n",
       "</ul>\n",
       "</li>\n",
       "</ul>\n",
       "</div></div>\n",
       "</div>\n",
       "<!-- \n",
       "NewPP limit report\n",
       "Parsed by mw1324\n",
       "Cached time: 20220421134948\n",
       "Cache expiry: 3600\n",
       "Reduced expiry: true\n",
       "Complications: []\n",
       "CPU time usage: 0.498 seconds\n",
       "Real time usage: 0.606 seconds\n",
       "Preprocessor visited node count: 4422/1000000\n",
       "Post‐expand include size: 132686/2097152 bytes\n",
       "Template argument size: 12250/2097152 bytes\n",
       "Highest expansion depth: 23/100\n",
       "Expensive parser function count: 15/500\n",
       "Unstrip recursion depth: 0/20\n",
       "Unstrip post‐expand size: 4879/5000000 bytes\n",
       "Lua time usage: 0.110/10.000 seconds\n",
       "Lua memory usage: 2226982/52428800 bytes\n",
       "Number of Wikibase entities loaded: 0/400\n",
       "-->\n",
       "<!--\n",
       "Transclusion expansion time report (%,ms,calls,template)\n",
       "100.00%  426.299      1 -total\n",
       " 42.90%  182.873      1 Wikipedia:Main_Page/Tomorrow\n",
       " 40.51%  172.709      9 Template:Main_page_image\n",
       " 25.52%  108.798      9 Template:Str_number/trim\n",
       " 17.73%   75.576      2 Template:Main_page_image/TFA\n",
       " 17.69%   75.401      1 Wikipedia:Today's_featured_article/April_21,_2022\n",
       " 17.39%   74.149      9 Template:If_empty\n",
       " 12.71%   54.162      2 Template:Wikipedia_languages\n",
       " 11.70%   49.856      1 Template:Did_you_know/Queue/6\n",
       " 11.59%   49.404      1 Wikipedia:Selected_anniversaries/April_21\n",
       "-->\n",
       "<!-- Saved in parser cache with key enwiki:pcache:idhash:15580374-0!canonical and timestamp 20220421134947 and revision id 1082764418. Serialized with JSON.\n",
       " -->\n",
       "</div><noscript><img alt=\"\" height=\"1\" src=\"//en.wikipedia.org/wiki/Special:CentralAutoLogin/start?type=1x1\" style=\"border: none; position: absolute;\" title=\"\" width=\"1\"/></noscript>\n",
       "<div class=\"printfooter\">Retrieved from \"<a dir=\"ltr\" href=\"https://en.wikipedia.org/w/index.php?title=Main_Page&amp;oldid=1082764418\">https://en.wikipedia.org/w/index.php?title=Main_Page&amp;oldid=1082764418</a>\"</div></div>\n",
       "<div class=\"catlinks catlinks-allhidden\" data-mw=\"interface\" id=\"catlinks\"></div>\n",
       "</div>\n",
       "</div>\n",
       "<div id=\"mw-data-after-content\">\n",
       "<div class=\"read-more-container\"></div>\n",
       "</div>\n",
       "<div id=\"mw-navigation\">\n",
       "<h2>Navigation menu</h2>\n",
       "<div id=\"mw-head\">\n",
       "<nav aria-labelledby=\"p-personal-label\" class=\"mw-portlet mw-portlet-personal vector-user-menu-legacy vector-menu\" id=\"p-personal\" role=\"navigation\">\n",
       "<label aria-label=\"\" class=\"vector-menu-heading\" id=\"p-personal-label\">\n",
       "<span class=\"vector-menu-heading-label\">Personal tools</span>\n",
       "</label>\n",
       "<div class=\"vector-menu-content\">\n",
       "<ul class=\"vector-menu-content-list\"><li class=\"mw-list-item\" id=\"pt-anonuserpage\"><span title=\"The user page for the IP address you are editing as\">Not logged in</span></li><li class=\"mw-list-item\" id=\"pt-anontalk\"><a accesskey=\"n\" href=\"/wiki/Special:MyTalk\" title=\"Discussion about edits from this IP address [n]\"><span>Talk</span></a></li><li class=\"mw-list-item\" id=\"pt-anoncontribs\"><a accesskey=\"y\" href=\"/wiki/Special:MyContributions\" title=\"A list of edits made from this IP address [y]\"><span>Contributions</span></a></li><li class=\"mw-list-item\" id=\"pt-createaccount\"><a href=\"/w/index.php?title=Special:CreateAccount&amp;returnto=Main+Page\" title=\"You are encouraged to create an account and log in; however, it is not mandatory\"><span>Create account</span></a></li><li class=\"mw-list-item\" id=\"pt-login\"><a accesskey=\"o\" href=\"/w/index.php?title=Special:UserLogin&amp;returnto=Main+Page\" title=\"You're encouraged to log in; however, it's not mandatory. [o]\"><span>Log in</span></a></li></ul>\n",
       "</div>\n",
       "</nav>\n",
       "<div id=\"left-navigation\">\n",
       "<nav aria-labelledby=\"p-namespaces-label\" class=\"mw-portlet mw-portlet-namespaces vector-menu vector-menu-tabs\" id=\"p-namespaces\" role=\"navigation\">\n",
       "<label aria-label=\"\" class=\"vector-menu-heading\" id=\"p-namespaces-label\">\n",
       "<span class=\"vector-menu-heading-label\">Namespaces</span>\n",
       "</label>\n",
       "<div class=\"vector-menu-content\">\n",
       "<ul class=\"vector-menu-content-list\"><li class=\"selected mw-list-item\" id=\"ca-nstab-main\"><a accesskey=\"c\" href=\"/wiki/Main_Page\" title=\"View the content page [c]\"><span>Main Page</span></a></li><li class=\"mw-list-item\" id=\"ca-talk\"><a accesskey=\"t\" href=\"/wiki/Talk:Main_Page\" rel=\"discussion\" title=\"Discuss improvements to the content page [t]\"><span>Talk</span></a></li></ul>\n",
       "</div>\n",
       "</nav>\n",
       "<nav aria-labelledby=\"p-variants-label\" class=\"mw-portlet mw-portlet-variants emptyPortlet vector-menu-dropdown-noicon vector-menu vector-menu-dropdown\" id=\"p-variants\" role=\"navigation\">\n",
       "<input aria-haspopup=\"true\" aria-labelledby=\"p-variants-label\" class=\"vector-menu-checkbox\" data-event-name=\"ui.dropdown-p-variants\" id=\"p-variants-checkbox\" role=\"button\" type=\"checkbox\"/>\n",
       "<label aria-label=\"Change language variant\" class=\"vector-menu-heading\" id=\"p-variants-label\">\n",
       "<span class=\"vector-menu-heading-label\">English</span>\n",
       "</label>\n",
       "<div class=\"vector-menu-content\">\n",
       "<ul class=\"vector-menu-content-list\"></ul>\n",
       "</div>\n",
       "</nav>\n",
       "</div>\n",
       "<div id=\"right-navigation\">\n",
       "<nav aria-labelledby=\"p-views-label\" class=\"mw-portlet mw-portlet-views vector-menu vector-menu-tabs\" id=\"p-views\" role=\"navigation\">\n",
       "<label aria-label=\"\" class=\"vector-menu-heading\" id=\"p-views-label\">\n",
       "<span class=\"vector-menu-heading-label\">Views</span>\n",
       "</label>\n",
       "<div class=\"vector-menu-content\">\n",
       "<ul class=\"vector-menu-content-list\"><li class=\"selected mw-list-item\" id=\"ca-view\"><a href=\"/wiki/Main_Page\"><span>Read</span></a></li><li class=\"mw-list-item\" id=\"ca-viewsource\"><a accesskey=\"e\" href=\"/w/index.php?title=Main_Page&amp;action=edit\" title=\"This page is protected.\n",
       "You can view its source [e]\"><span>View source</span></a></li><li class=\"mw-list-item\" id=\"ca-history\"><a accesskey=\"h\" href=\"/w/index.php?title=Main_Page&amp;action=history\" title=\"Past revisions of this page [h]\"><span>View history</span></a></li></ul>\n",
       "</div>\n",
       "</nav>\n",
       "<nav aria-labelledby=\"p-cactions-label\" class=\"mw-portlet mw-portlet-cactions emptyPortlet vector-menu-dropdown-noicon vector-menu vector-menu-dropdown\" id=\"p-cactions\" role=\"navigation\" title=\"More options\">\n",
       "<input aria-haspopup=\"true\" aria-labelledby=\"p-cactions-label\" class=\"vector-menu-checkbox\" data-event-name=\"ui.dropdown-p-cactions\" id=\"p-cactions-checkbox\" role=\"button\" type=\"checkbox\"/>\n",
       "<label aria-label=\"\" class=\"vector-menu-heading\" id=\"p-cactions-label\">\n",
       "<span class=\"vector-menu-heading-label\">More</span>\n",
       "</label>\n",
       "<div class=\"vector-menu-content\">\n",
       "<ul class=\"vector-menu-content-list\"></ul>\n",
       "</div>\n",
       "</nav>\n",
       "<div class=\"vector-search-box-vue vector-search-box-show-thumbnail vector-search-box-auto-expand-width vector-search-box\" id=\"p-search\" role=\"search\">\n",
       "<div>\n",
       "<h3>\n",
       "<label for=\"searchInput\">Search</label>\n",
       "</h3>\n",
       "<form action=\"/w/index.php\" class=\"vector-search-box-form\" id=\"searchform\">\n",
       "<div class=\"vector-search-box-inner\" data-search-loc=\"header-navigation\" id=\"simpleSearch\">\n",
       "<input accesskey=\"f\" aria-label=\"Search Wikipedia\" autocapitalize=\"sentences\" class=\"vector-search-box-input\" id=\"searchInput\" name=\"search\" placeholder=\"Search Wikipedia\" title=\"Search Wikipedia [f]\" type=\"search\"/>\n",
       "<input name=\"title\" type=\"hidden\" value=\"Special:Search\"/>\n",
       "<input class=\"searchButton mw-fallbackSearchButton\" id=\"mw-searchButton\" name=\"fulltext\" title=\"Search Wikipedia for this text\" type=\"submit\" value=\"Search\"/>\n",
       "<input class=\"searchButton\" id=\"searchButton\" name=\"go\" title=\"Go to a page with this exact name if it exists\" type=\"submit\" value=\"Go\"/>\n",
       "</div>\n",
       "</form>\n",
       "</div>\n",
       "</div>\n",
       "</div>\n",
       "</div>\n",
       "<div id=\"mw-panel\">\n",
       "<div id=\"p-logo\" role=\"banner\">\n",
       "<a class=\"mw-wiki-logo\" href=\"/wiki/Main_Page\" title=\"Visit the main page\"></a>\n",
       "</div>\n",
       "<nav aria-labelledby=\"p-navigation-label\" class=\"mw-portlet mw-portlet-navigation vector-menu vector-menu-portal portal\" id=\"p-navigation\" role=\"navigation\">\n",
       "<label aria-label=\"\" class=\"vector-menu-heading\" id=\"p-navigation-label\">\n",
       "<span class=\"vector-menu-heading-label\">Navigation</span>\n",
       "</label>\n",
       "<div class=\"vector-menu-content\">\n",
       "<ul class=\"vector-menu-content-list\"><li class=\"mw-list-item\" id=\"n-mainpage-description\"><a accesskey=\"z\" href=\"/wiki/Main_Page\" icon=\"home\" title=\"Visit the main page [z]\"><span>Main page</span></a></li><li class=\"mw-list-item\" id=\"n-contents\"><a href=\"/wiki/Wikipedia:Contents\" title=\"Guides to browsing Wikipedia\"><span>Contents</span></a></li><li class=\"mw-list-item\" id=\"n-currentevents\"><a href=\"/wiki/Portal:Current_events\" title=\"Articles related to current events\"><span>Current events</span></a></li><li class=\"mw-list-item\" id=\"n-randompage\"><a accesskey=\"x\" href=\"/wiki/Special:Random\" icon=\"die\" title=\"Visit a randomly selected article [x]\"><span>Random article</span></a></li><li class=\"mw-list-item\" id=\"n-aboutsite\"><a href=\"/wiki/Wikipedia:About\" title=\"Learn about Wikipedia and how it works\"><span>About Wikipedia</span></a></li><li class=\"mw-list-item\" id=\"n-contactpage\"><a href=\"//en.wikipedia.org/wiki/Wikipedia:Contact_us\" title=\"How to contact Wikipedia\"><span>Contact us</span></a></li><li class=\"mw-list-item\" id=\"n-sitesupport\"><a href=\"https://donate.wikimedia.org/wiki/Special:FundraiserRedirector?utm_source=donate&amp;utm_medium=sidebar&amp;utm_campaign=C13_en.wikipedia.org&amp;uselang=en\" title=\"Support us by donating to the Wikimedia Foundation\"><span>Donate</span></a></li></ul>\n",
       "</div>\n",
       "</nav>\n",
       "<nav aria-labelledby=\"p-interaction-label\" class=\"mw-portlet mw-portlet-interaction vector-menu vector-menu-portal portal\" id=\"p-interaction\" role=\"navigation\">\n",
       "<label aria-label=\"\" class=\"vector-menu-heading\" id=\"p-interaction-label\">\n",
       "<span class=\"vector-menu-heading-label\">Contribute</span>\n",
       "</label>\n",
       "<div class=\"vector-menu-content\">\n",
       "<ul class=\"vector-menu-content-list\"><li class=\"mw-list-item\" id=\"n-help\"><a href=\"/wiki/Help:Contents\" icon=\"help\" title=\"Guidance on how to use and edit Wikipedia\"><span>Help</span></a></li><li class=\"mw-list-item\" id=\"n-introduction\"><a href=\"/wiki/Help:Introduction\" title=\"Learn how to edit Wikipedia\"><span>Learn to edit</span></a></li><li class=\"mw-list-item\" id=\"n-portal\"><a href=\"/wiki/Wikipedia:Community_portal\" title=\"The hub for editors\"><span>Community portal</span></a></li><li class=\"mw-list-item\" id=\"n-recentchanges\"><a accesskey=\"r\" href=\"/wiki/Special:RecentChanges\" icon=\"recentChanges\" title=\"A list of recent changes to Wikipedia [r]\"><span>Recent changes</span></a></li><li class=\"mw-list-item\" id=\"n-upload\"><a href=\"/wiki/Wikipedia:File_Upload_Wizard\" title=\"Add images or other media for use on Wikipedia\"><span>Upload file</span></a></li></ul>\n",
       "</div>\n",
       "</nav>\n",
       "<nav aria-labelledby=\"p-tb-label\" class=\"mw-portlet mw-portlet-tb vector-menu vector-menu-portal portal\" id=\"p-tb\" role=\"navigation\">\n",
       "<label aria-label=\"\" class=\"vector-menu-heading\" id=\"p-tb-label\">\n",
       "<span class=\"vector-menu-heading-label\">Tools</span>\n",
       "</label>\n",
       "<div class=\"vector-menu-content\">\n",
       "<ul class=\"vector-menu-content-list\"><li class=\"mw-list-item\" id=\"t-whatlinkshere\"><a accesskey=\"j\" href=\"/wiki/Special:WhatLinksHere/Main_Page\" title=\"List of all English Wikipedia pages containing links to this page [j]\"><span>What links here</span></a></li><li class=\"mw-list-item\" id=\"t-recentchangeslinked\"><a accesskey=\"k\" href=\"/wiki/Special:RecentChangesLinked/Main_Page\" rel=\"nofollow\" title=\"Recent changes in pages linked from this page [k]\"><span>Related changes</span></a></li><li class=\"mw-list-item\" id=\"t-upload\"><a accesskey=\"u\" href=\"/wiki/Wikipedia:File_Upload_Wizard\" title=\"Upload files [u]\"><span>Upload file</span></a></li><li class=\"mw-list-item\" id=\"t-specialpages\"><a accesskey=\"q\" href=\"/wiki/Special:SpecialPages\" title=\"A list of all special pages [q]\"><span>Special pages</span></a></li><li class=\"mw-list-item\" id=\"t-permalink\"><a href=\"/w/index.php?title=Main_Page&amp;oldid=1082764418\" title=\"Permanent link to this revision of this page\"><span>Permanent link</span></a></li><li class=\"mw-list-item\" id=\"t-info\"><a href=\"/w/index.php?title=Main_Page&amp;action=info\" title=\"More information about this page\"><span>Page information</span></a></li><li class=\"mw-list-item\" id=\"t-cite\"><a href=\"/w/index.php?title=Special:CiteThisPage&amp;page=Main_Page&amp;id=1082764418&amp;wpFormIdentifier=titleform\" title=\"Information on how to cite this page\"><span>Cite this page</span></a></li><li class=\"mw-list-item\" id=\"t-wikibase\"><a accesskey=\"g\" href=\"https://www.wikidata.org/wiki/Special:EntityPage/Q5296\" title=\"Structured data on this page hosted by Wikidata [g]\"><span>Wikidata item</span></a></li></ul>\n",
       "</div>\n",
       "</nav>\n",
       "<nav aria-labelledby=\"p-coll-print_export-label\" class=\"mw-portlet mw-portlet-coll-print_export vector-menu vector-menu-portal portal\" id=\"p-coll-print_export\" role=\"navigation\">\n",
       "<label aria-label=\"\" class=\"vector-menu-heading\" id=\"p-coll-print_export-label\">\n",
       "<span class=\"vector-menu-heading-label\">Print/export</span>\n",
       "</label>\n",
       "<div class=\"vector-menu-content\">\n",
       "<ul class=\"vector-menu-content-list\"><li class=\"mw-list-item\" id=\"coll-download-as-rl\"><a href=\"/w/index.php?title=Special:DownloadAsPdf&amp;page=Main_Page&amp;action=show-download-screen\" title=\"Download this page as a PDF file\"><span>Download as PDF</span></a></li><li class=\"mw-list-item\" id=\"t-print\"><a accesskey=\"p\" href=\"/w/index.php?title=Main_Page&amp;printable=yes\" title=\"Printable version of this page [p]\"><span>Printable version</span></a></li></ul>\n",
       "</div>\n",
       "</nav>\n",
       "<nav aria-labelledby=\"p-wikibase-otherprojects-label\" class=\"mw-portlet mw-portlet-wikibase-otherprojects vector-menu vector-menu-portal portal\" id=\"p-wikibase-otherprojects\" role=\"navigation\">\n",
       "<label aria-label=\"\" class=\"vector-menu-heading\" id=\"p-wikibase-otherprojects-label\">\n",
       "<span class=\"vector-menu-heading-label\">In other projects</span>\n",
       "</label>\n",
       "<div class=\"vector-menu-content\">\n",
       "<ul class=\"vector-menu-content-list\"><li class=\"wb-otherproject-link wb-otherproject-commons mw-list-item\"><a href=\"https://commons.wikimedia.org/wiki/Main_Page\" hreflang=\"en\"><span>Wikimedia Commons</span></a></li><li class=\"wb-otherproject-link wb-otherproject-mediawiki mw-list-item\"><a href=\"https://www.mediawiki.org/wiki/MediaWiki\" hreflang=\"en\"><span>MediaWiki</span></a></li><li class=\"wb-otherproject-link wb-otherproject-meta mw-list-item\"><a href=\"https://meta.wikimedia.org/wiki/Main_Page\" hreflang=\"en\"><span>Meta-Wiki</span></a></li><li class=\"wb-otherproject-link wb-otherproject-sources mw-list-item\"><a href=\"https://wikisource.org/wiki/Main_Page\" hreflang=\"en\"><span>Multilingual Wikisource</span></a></li><li class=\"wb-otherproject-link wb-otherproject-species mw-list-item\"><a href=\"https://species.wikimedia.org/wiki/Main_Page\" hreflang=\"en\"><span>Wikispecies</span></a></li><li class=\"wb-otherproject-link wb-otherproject-wikibooks mw-list-item\"><a href=\"https://en.wikibooks.org/wiki/Main_Page\" hreflang=\"en\"><span>Wikibooks</span></a></li><li class=\"wb-otherproject-link wb-otherproject-wikidata mw-list-item\"><a href=\"https://www.wikidata.org/wiki/Wikidata:Main_Page\" hreflang=\"en\"><span>Wikidata</span></a></li><li class=\"wb-otherproject-link wb-otherproject-wikimania mw-list-item\"><a href=\"https://wikimania.wikimedia.org/wiki/Wikimania\" hreflang=\"en\"><span>Wikimania</span></a></li><li class=\"wb-otherproject-link wb-otherproject-wikinews mw-list-item\"><a href=\"https://en.wikinews.org/wiki/Main_Page\" hreflang=\"en\"><span>Wikinews</span></a></li><li class=\"wb-otherproject-link wb-otherproject-wikiquote mw-list-item\"><a href=\"https://en.wikiquote.org/wiki/Main_Page\" hreflang=\"en\"><span>Wikiquote</span></a></li><li class=\"wb-otherproject-link wb-otherproject-wikisource mw-list-item\"><a href=\"https://en.wikisource.org/wiki/Main_Page\" hreflang=\"en\"><span>Wikisource</span></a></li><li class=\"wb-otherproject-link wb-otherproject-wikiversity mw-list-item\"><a href=\"https://en.wikiversity.org/wiki/Wikiversity:Main_Page\" hreflang=\"en\"><span>Wikiversity</span></a></li><li class=\"wb-otherproject-link wb-otherproject-wikivoyage mw-list-item\"><a href=\"https://en.wikivoyage.org/wiki/Main_Page\" hreflang=\"en\"><span>Wikivoyage</span></a></li><li class=\"wb-otherproject-link wb-otherproject-wiktionary mw-list-item\"><a href=\"https://en.wiktionary.org/wiki/Wiktionary:Main_Page\" hreflang=\"en\"><span>Wiktionary</span></a></li></ul>\n",
       "</div>\n",
       "</nav>\n",
       "<nav aria-labelledby=\"p-lang-label\" class=\"mw-portlet mw-portlet-lang vector-menu vector-menu-portal portal\" id=\"p-lang\" role=\"navigation\">\n",
       "<label aria-label=\"\" class=\"vector-menu-heading\" id=\"p-lang-label\">\n",
       "<span class=\"vector-menu-heading-label\">Languages</span>\n",
       "</label>\n",
       "<div class=\"vector-menu-content\">\n",
       "<ul class=\"vector-menu-content-list\"><li class=\"interlanguage-link interwiki-ar mw-list-item\"><a class=\"interlanguage-link-target\" href=\"https://ar.wikipedia.org/wiki/\" hreflang=\"ar\" lang=\"ar\" title=\"Arabic\"><span>العربية</span></a></li><li class=\"interlanguage-link interwiki-bn mw-list-item\"><a class=\"interlanguage-link-target\" href=\"https://bn.wikipedia.org/wiki/\" hreflang=\"bn\" lang=\"bn\" title=\"Bangla\"><span>বাংলা</span></a></li><li class=\"interlanguage-link interwiki-bg mw-list-item\"><a class=\"interlanguage-link-target\" href=\"https://bg.wikipedia.org/wiki/\" hreflang=\"bg\" lang=\"bg\" title=\"Bulgarian\"><span>Български</span></a></li><li class=\"interlanguage-link interwiki-bs mw-list-item\"><a class=\"interlanguage-link-target\" href=\"https://bs.wikipedia.org/wiki/\" hreflang=\"bs\" lang=\"bs\" title=\"Bosnian\"><span>Bosanski</span></a></li><li class=\"interlanguage-link interwiki-ca mw-list-item\"><a class=\"interlanguage-link-target\" href=\"https://ca.wikipedia.org/wiki/\" hreflang=\"ca\" lang=\"ca\" title=\"Catalan\"><span>Català</span></a></li><li class=\"interlanguage-link interwiki-cs mw-list-item\"><a class=\"interlanguage-link-target\" href=\"https://cs.wikipedia.org/wiki/\" hreflang=\"cs\" lang=\"cs\" title=\"Czech\"><span>Čeština</span></a></li><li class=\"interlanguage-link interwiki-da mw-list-item\"><a class=\"interlanguage-link-target\" href=\"https://da.wikipedia.org/wiki/\" hreflang=\"da\" lang=\"da\" title=\"Danish\"><span>Dansk</span></a></li><li class=\"interlanguage-link interwiki-de mw-list-item\"><a class=\"interlanguage-link-target\" href=\"https://de.wikipedia.org/wiki/\" hreflang=\"de\" lang=\"de\" title=\"German\"><span>Deutsch</span></a></li><li class=\"interlanguage-link interwiki-et mw-list-item\"><a class=\"interlanguage-link-target\" href=\"https://et.wikipedia.org/wiki/\" hreflang=\"et\" lang=\"et\" title=\"Estonian\"><span>Eesti</span></a></li><li class=\"interlanguage-link interwiki-el mw-list-item\"><a class=\"interlanguage-link-target\" href=\"https://el.wikipedia.org/wiki/\" hreflang=\"el\" lang=\"el\" title=\"Greek\"><span>Ελληνικά</span></a></li><li class=\"interlanguage-link interwiki-es mw-list-item\"><a class=\"interlanguage-link-target\" href=\"https://es.wikipedia.org/wiki/\" hreflang=\"es\" lang=\"es\" title=\"Spanish\"><span>Español</span></a></li><li class=\"interlanguage-link interwiki-eo mw-list-item\"><a class=\"interlanguage-link-target\" href=\"https://eo.wikipedia.org/wiki/\" hreflang=\"eo\" lang=\"eo\" title=\"Esperanto\"><span>Esperanto</span></a></li><li class=\"interlanguage-link interwiki-eu mw-list-item\"><a class=\"interlanguage-link-target\" href=\"https://eu.wikipedia.org/wiki/\" hreflang=\"eu\" lang=\"eu\" title=\"Basque\"><span>Euskara</span></a></li><li class=\"interlanguage-link interwiki-fa mw-list-item\"><a class=\"interlanguage-link-target\" href=\"https://fa.wikipedia.org/wiki/\" hreflang=\"fa\" lang=\"fa\" title=\"Persian\"><span>فارسی</span></a></li><li class=\"interlanguage-link interwiki-fr mw-list-item\"><a class=\"interlanguage-link-target\" href=\"https://fr.wikipedia.org/wiki/\" hreflang=\"fr\" lang=\"fr\" title=\"French\"><span>Français</span></a></li><li class=\"interlanguage-link interwiki-gl mw-list-item\"><a class=\"interlanguage-link-target\" href=\"https://gl.wikipedia.org/wiki/\" hreflang=\"gl\" lang=\"gl\" title=\"Galician\"><span>Galego</span></a></li><li class=\"interlanguage-link interwiki-ko mw-list-item\"><a class=\"interlanguage-link-target\" href=\"https://ko.wikipedia.org/wiki/\" hreflang=\"ko\" lang=\"ko\" title=\"Korean\"><span>한국어</span></a></li><li class=\"interlanguage-link interwiki-hr mw-list-item\"><a class=\"interlanguage-link-target\" href=\"https://hr.wikipedia.org/wiki/\" hreflang=\"hr\" lang=\"hr\" title=\"Croatian\"><span>Hrvatski</span></a></li><li class=\"interlanguage-link interwiki-id mw-list-item\"><a class=\"interlanguage-link-target\" href=\"https://id.wikipedia.org/wiki/\" hreflang=\"id\" lang=\"id\" title=\"Indonesian\"><span>Bahasa Indonesia</span></a></li><li class=\"interlanguage-link interwiki-it mw-list-item\"><a class=\"interlanguage-link-target\" href=\"https://it.wikipedia.org/wiki/\" hreflang=\"it\" lang=\"it\" title=\"Italian\"><span>Italiano</span></a></li><li class=\"interlanguage-link interwiki-he mw-list-item\"><a class=\"interlanguage-link-target\" href=\"https://he.wikipedia.org/wiki/\" hreflang=\"he\" lang=\"he\" title=\"Hebrew\"><span>עברית</span></a></li><li class=\"interlanguage-link interwiki-ka mw-list-item\"><a class=\"interlanguage-link-target\" href=\"https://ka.wikipedia.org/wiki/\" hreflang=\"ka\" lang=\"ka\" title=\"Georgian\"><span>ქართული</span></a></li><li class=\"interlanguage-link interwiki-lv mw-list-item\"><a class=\"interlanguage-link-target\" href=\"https://lv.wikipedia.org/wiki/\" hreflang=\"lv\" lang=\"lv\" title=\"Latvian\"><span>Latviešu</span></a></li><li class=\"interlanguage-link interwiki-lt mw-list-item\"><a class=\"interlanguage-link-target\" href=\"https://lt.wikipedia.org/wiki/\" hreflang=\"lt\" lang=\"lt\" title=\"Lithuanian\"><span>Lietuvių</span></a></li><li class=\"interlanguage-link interwiki-hu mw-list-item\"><a class=\"interlanguage-link-target\" href=\"https://hu.wikipedia.org/wiki/\" hreflang=\"hu\" lang=\"hu\" title=\"Hungarian\"><span>Magyar</span></a></li><li class=\"interlanguage-link interwiki-mk mw-list-item\"><a class=\"interlanguage-link-target\" href=\"https://mk.wikipedia.org/wiki/\" hreflang=\"mk\" lang=\"mk\" title=\"Macedonian\"><span>Македонски</span></a></li><li class=\"interlanguage-link interwiki-ms mw-list-item\"><a class=\"interlanguage-link-target\" href=\"https://ms.wikipedia.org/wiki/\" hreflang=\"ms\" lang=\"ms\" title=\"Malay\"><span>Bahasa Melayu</span></a></li><li class=\"interlanguage-link interwiki-nl mw-list-item\"><a class=\"interlanguage-link-target\" href=\"https://nl.wikipedia.org/wiki/\" hreflang=\"nl\" lang=\"nl\" title=\"Dutch\"><span>Nederlands</span></a></li><li class=\"interlanguage-link interwiki-ja mw-list-item\"><a class=\"interlanguage-link-target\" href=\"https://ja.wikipedia.org/wiki/\" hreflang=\"ja\" lang=\"ja\" title=\"Japanese\"><span>日本語</span></a></li><li class=\"interlanguage-link interwiki-no mw-list-item\"><a class=\"interlanguage-link-target\" href=\"https://no.wikipedia.org/wiki/\" hreflang=\"nb\" lang=\"nb\" title=\"Norwegian Bokmål\"><span>Norsk bokmål</span></a></li><li class=\"interlanguage-link interwiki-nn mw-list-item\"><a class=\"interlanguage-link-target\" href=\"https://nn.wikipedia.org/wiki/\" hreflang=\"nn\" lang=\"nn\" title=\"Norwegian Nynorsk\"><span>Norsk nynorsk</span></a></li><li class=\"interlanguage-link interwiki-pl mw-list-item\"><a class=\"interlanguage-link-target\" href=\"https://pl.wikipedia.org/wiki/\" hreflang=\"pl\" lang=\"pl\" title=\"Polish\"><span>Polski</span></a></li><li class=\"interlanguage-link interwiki-pt mw-list-item\"><a class=\"interlanguage-link-target\" href=\"https://pt.wikipedia.org/wiki/\" hreflang=\"pt\" lang=\"pt\" title=\"Portuguese\"><span>Português</span></a></li><li class=\"interlanguage-link interwiki-ro mw-list-item\"><a class=\"interlanguage-link-target\" href=\"https://ro.wikipedia.org/wiki/\" hreflang=\"ro\" lang=\"ro\" title=\"Romanian\"><span>Română</span></a></li><li class=\"interlanguage-link interwiki-ru mw-list-item\"><a class=\"interlanguage-link-target\" href=\"https://ru.wikipedia.org/wiki/\" hreflang=\"ru\" lang=\"ru\" title=\"Russian\"><span>Русский</span></a></li><li class=\"interlanguage-link interwiki-simple mw-list-item\"><a class=\"interlanguage-link-target\" href=\"https://simple.wikipedia.org/wiki/\" hreflang=\"en-simple\" lang=\"en-simple\" title=\"Simple English\"><span>Simple English</span></a></li><li class=\"interlanguage-link interwiki-sk mw-list-item\"><a class=\"interlanguage-link-target\" href=\"https://sk.wikipedia.org/wiki/\" hreflang=\"sk\" lang=\"sk\" title=\"Slovak\"><span>Slovenčina</span></a></li><li class=\"interlanguage-link interwiki-sl mw-list-item\"><a class=\"interlanguage-link-target\" href=\"https://sl.wikipedia.org/wiki/\" hreflang=\"sl\" lang=\"sl\" title=\"Slovenian\"><span>Slovenščina</span></a></li><li class=\"interlanguage-link interwiki-sr mw-list-item\"><a class=\"interlanguage-link-target\" href=\"https://sr.wikipedia.org/wiki/\" hreflang=\"sr\" lang=\"sr\" title=\"Serbian\"><span>Српски / srpski</span></a></li><li class=\"interlanguage-link interwiki-sh mw-list-item\"><a class=\"interlanguage-link-target\" href=\"https://sh.wikipedia.org/wiki/\" hreflang=\"sh\" lang=\"sh\" title=\"Serbo-Croatian\"><span>Srpskohrvatski / српскохрватски</span></a></li><li class=\"interlanguage-link interwiki-fi mw-list-item\"><a class=\"interlanguage-link-target\" href=\"https://fi.wikipedia.org/wiki/\" hreflang=\"fi\" lang=\"fi\" title=\"Finnish\"><span>Suomi</span></a></li><li class=\"interlanguage-link interwiki-sv mw-list-item\"><a class=\"interlanguage-link-target\" href=\"https://sv.wikipedia.org/wiki/\" hreflang=\"sv\" lang=\"sv\" title=\"Swedish\"><span>Svenska</span></a></li><li class=\"interlanguage-link interwiki-th mw-list-item\"><a class=\"interlanguage-link-target\" href=\"https://th.wikipedia.org/wiki/\" hreflang=\"th\" lang=\"th\" title=\"Thai\"><span>ไทย</span></a></li><li class=\"interlanguage-link interwiki-tr mw-list-item\"><a class=\"interlanguage-link-target\" href=\"https://tr.wikipedia.org/wiki/\" hreflang=\"tr\" lang=\"tr\" title=\"Turkish\"><span>Türkçe</span></a></li><li class=\"interlanguage-link interwiki-uk mw-list-item\"><a class=\"interlanguage-link-target\" href=\"https://uk.wikipedia.org/wiki/\" hreflang=\"uk\" lang=\"uk\" title=\"Ukrainian\"><span>Українська</span></a></li><li class=\"interlanguage-link interwiki-vi mw-list-item\"><a class=\"interlanguage-link-target\" href=\"https://vi.wikipedia.org/wiki/\" hreflang=\"vi\" lang=\"vi\" title=\"Vietnamese\"><span>Tiếng Việt</span></a></li><li class=\"interlanguage-link interwiki-zh mw-list-item\"><a class=\"interlanguage-link-target\" href=\"https://zh.wikipedia.org/wiki/\" hreflang=\"zh\" lang=\"zh\" title=\"Chinese\"><span>中文</span></a></li></ul>\n",
       "</div>\n",
       "</nav>\n",
       "</div>\n",
       "</div>\n",
       "<footer class=\"mw-footer\" id=\"footer\" role=\"contentinfo\">\n",
       "<ul id=\"footer-info\">\n",
       "<li id=\"footer-info-lastmod\"> This page was last edited on 14 April 2022, at 23:51<span class=\"anonymous-show\"> (UTC)</span>.</li>\n",
       "<li id=\"footer-info-copyright\">Text is available under the <a href=\"//en.wikipedia.org/wiki/Wikipedia:Text_of_Creative_Commons_Attribution-ShareAlike_3.0_Unported_License\" rel=\"license\">Creative Commons Attribution-ShareAlike License 3.0</a><a href=\"//creativecommons.org/licenses/by-sa/3.0/\" rel=\"license\" style=\"display:none;\"></a>;\n",
       "additional terms may apply.  By using this site, you agree to the <a href=\"//foundation.wikimedia.org/wiki/Terms_of_Use\">Terms of Use</a> and <a href=\"//foundation.wikimedia.org/wiki/Privacy_policy\">Privacy Policy</a>. Wikipedia® is a registered trademark of the <a href=\"//www.wikimediafoundation.org/\">Wikimedia Foundation, Inc.</a>, a non-profit organization.</li>\n",
       "</ul>\n",
       "<ul id=\"footer-places\">\n",
       "<li id=\"footer-places-privacy\"><a class=\"extiw\" href=\"https://foundation.wikimedia.org/wiki/Privacy_policy\" title=\"wmf:Privacy policy\">Privacy policy</a></li>\n",
       "<li id=\"footer-places-about\"><a href=\"/wiki/Wikipedia:About\" title=\"Wikipedia:About\">About Wikipedia</a></li>\n",
       "<li id=\"footer-places-disclaimer\"><a href=\"/wiki/Wikipedia:General_disclaimer\" title=\"Wikipedia:General disclaimer\">Disclaimers</a></li>\n",
       "<li id=\"footer-places-contact\"><a href=\"//en.wikipedia.org/wiki/Wikipedia:Contact_us\">Contact Wikipedia</a></li>\n",
       "<li id=\"footer-places-mobileview\"><a class=\"noprint stopMobileRedirectToggle\" href=\"//en.m.wikipedia.org/w/index.php?title=Main_Page&amp;mobileaction=toggle_view_mobile\">Mobile view</a></li>\n",
       "<li id=\"footer-places-developers\"><a href=\"https://www.mediawiki.org/wiki/Special:MyLanguage/How_to_contribute\">Developers</a></li>\n",
       "<li id=\"footer-places-statslink\"><a href=\"https://stats.wikimedia.org/#/en.wikipedia.org\">Statistics</a></li>\n",
       "<li id=\"footer-places-cookiestatement\"><a href=\"https://foundation.wikimedia.org/wiki/Cookie_statement\">Cookie statement</a></li>\n",
       "</ul>\n",
       "<ul class=\"noprint\" id=\"footer-icons\">\n",
       "<li id=\"footer-copyrightico\"><a href=\"https://wikimediafoundation.org/\"><img alt=\"Wikimedia Foundation\" height=\"31\" loading=\"lazy\" src=\"/static/images/footer/wikimedia-button.png\" srcset=\"/static/images/footer/wikimedia-button-1.5x.png 1.5x, /static/images/footer/wikimedia-button-2x.png 2x\" width=\"88\"/></a></li>\n",
       "<li id=\"footer-poweredbyico\"><a href=\"https://www.mediawiki.org/\"><img alt=\"Powered by MediaWiki\" height=\"31\" loading=\"lazy\" src=\"/static/images/footer/poweredby_mediawiki_88x31.png\" srcset=\"/static/images/footer/poweredby_mediawiki_132x47.png 1.5x, /static/images/footer/poweredby_mediawiki_176x62.png 2x\" width=\"88\"/></a></li>\n",
       "</ul>\n",
       "</footer>\n",
       "<script>(RLQ=window.RLQ||[]).push(function(){mw.config.set({\"wgPageParseReport\":{\"limitreport\":{\"cputime\":\"0.498\",\"walltime\":\"0.606\",\"ppvisitednodes\":{\"value\":4422,\"limit\":1000000},\"postexpandincludesize\":{\"value\":132686,\"limit\":2097152},\"templateargumentsize\":{\"value\":12250,\"limit\":2097152},\"expansiondepth\":{\"value\":23,\"limit\":100},\"expensivefunctioncount\":{\"value\":15,\"limit\":500},\"unstrip-depth\":{\"value\":0,\"limit\":20},\"unstrip-size\":{\"value\":4879,\"limit\":5000000},\"entityaccesscount\":{\"value\":0,\"limit\":400},\"timingprofile\":[\"100.00%  426.299      1 -total\",\" 42.90%  182.873      1 Wikipedia:Main_Page/Tomorrow\",\" 40.51%  172.709      9 Template:Main_page_image\",\" 25.52%  108.798      9 Template:Str_number/trim\",\" 17.73%   75.576      2 Template:Main_page_image/TFA\",\" 17.69%   75.401      1 Wikipedia:Today's_featured_article/April_21,_2022\",\" 17.39%   74.149      9 Template:If_empty\",\" 12.71%   54.162      2 Template:Wikipedia_languages\",\" 11.70%   49.856      1 Template:Did_you_know/Queue/6\",\" 11.59%   49.404      1 Wikipedia:Selected_anniversaries/April_21\"]},\"scribunto\":{\"limitreport-timeusage\":{\"value\":\"0.110\",\"limit\":\"10.000\"},\"limitreport-memusage\":{\"value\":2226982,\"limit\":52428800}},\"cachereport\":{\"origin\":\"mw1324\",\"timestamp\":\"20220421134948\",\"ttl\":3600,\"transientcontent\":true}}});});</script>\n",
       "<script type=\"application/ld+json\">{\"@context\":\"https:\\/\\/schema.org\",\"@type\":\"Article\",\"name\":\"Main Page\",\"url\":\"https:\\/\\/en.wikipedia.org\\/wiki\\/Main_Page\",\"sameAs\":\"http:\\/\\/www.wikidata.org\\/entity\\/Q5296\",\"mainEntity\":\"http:\\/\\/www.wikidata.org\\/entity\\/Q5296\",\"author\":{\"@type\":\"Organization\",\"name\":\"Contributors to Wikimedia projects\"},\"publisher\":{\"@type\":\"Organization\",\"name\":\"Wikimedia Foundation, Inc.\",\"logo\":{\"@type\":\"ImageObject\",\"url\":\"https:\\/\\/www.wikimedia.org\\/static\\/images\\/wmf-hor-googpub.png\"}},\"datePublished\":\"2002-01-26T15:28:12Z\",\"dateModified\":\"2022-04-14T23:51:42Z\",\"image\":\"https:\\/\\/upload.wikimedia.org\\/wikipedia\\/commons\\/b\\/b3\\/John_W._Young_on_the_Moon.jpg\",\"headline\":\"Wikimedia project page\"}</script>\n",
       "<script>(RLQ=window.RLQ||[]).push(function(){mw.config.set({\"wgBackendResponseTime\":168,\"wgHostname\":\"mw1329\"});});</script>\n",
       "</body>\n",
       "</html>"
      ]
     },
     "execution_count": 76,
     "metadata": {},
     "output_type": "execute_result"
    }
   ],
   "source": [
    "page=requests.get('https://en.wikipedia.org/wiki/Main_Page')\n",
    "page\n",
    "soup=BeautifulSoup(page.content)\n",
    "soup"
   ]
  },
  {
   "cell_type": "code",
   "execution_count": 80,
   "id": "63bea71f",
   "metadata": {},
   "outputs": [
    {
     "name": "stdout",
     "output_type": "stream",
     "text": [
      "<h1 class=\"firstHeading mw-first-heading\" id=\"firstHeading\" style=\"display: none\">Main Page</h1>\n",
      "<h1><span class=\"mw-headline\" id=\"Welcome_to_Wikipedia\">Welcome to <a href=\"/wiki/Wikipedia\" title=\"Wikipedia\">Wikipedia</a></span></h1>\n",
      "<h2 class=\"mp-h2\" id=\"mp-tfa-h2\"><span id=\"From_today.27s_featured_article\"></span><span class=\"mw-headline\" id=\"From_today's_featured_article\">From today's featured article</span></h2>\n",
      "<h2 class=\"mp-h2\" id=\"mp-dyk-h2\"><span class=\"mw-headline\" id=\"Did_you_know_...\">Did you know ...</span></h2>\n",
      "<h2 class=\"mp-h2\" id=\"mp-itn-h2\"><span class=\"mw-headline\" id=\"In_the_news\">In the news</span></h2>\n",
      "<h2 class=\"mp-h2\" id=\"mp-otd-h2\"><span class=\"mw-headline\" id=\"On_this_day\">On this day</span></h2>\n",
      "<h2 class=\"mp-h2\" id=\"mp-tfp-h2\"><span id=\"Today.27s_featured_picture\"></span><span class=\"mw-headline\" id=\"Today's_featured_picture\">Today's featured picture</span></h2>\n",
      "<h2 class=\"mp-h2\" id=\"mp-other\"><span class=\"mw-headline\" id=\"Other_areas_of_Wikipedia\">Other areas of Wikipedia</span></h2>\n",
      "<h2 class=\"mp-h2\" id=\"mp-sister\"><span id=\"Wikipedia.27s_sister_projects\"></span><span class=\"mw-headline\" id=\"Wikipedia's_sister_projects\">Wikipedia's sister projects</span></h2>\n",
      "<h2 class=\"mp-h2\" id=\"mp-lang\"><span class=\"mw-headline\" id=\"Wikipedia_languages\">Wikipedia languages</span></h2>\n",
      "<h2>Navigation menu</h2>\n",
      "<h3>\n",
      "<label for=\"searchInput\">Search</label>\n",
      "</h3>\n"
     ]
    }
   ],
   "source": [
    "title=soup.find_all(['h1','h2','h3','h4','h5'])\n",
    "print(*title,sep='\\n')"
   ]
  },
  {
   "cell_type": "code",
   "execution_count": null,
   "id": "d8decef3",
   "metadata": {},
   "outputs": [],
   "source": []
  },
  {
   "cell_type": "markdown",
   "id": "b13e469b",
   "metadata": {},
   "source": [
    "#### Answer 2 IMDB top 100 movies (name, ratings and  yearofrelease)"
   ]
  },
  {
   "cell_type": "code",
   "execution_count": 26,
   "id": "c8da20ab",
   "metadata": {},
   "outputs": [
    {
     "name": "stdout",
     "output_type": "stream",
     "text": [
      "<Response [200]>\n"
     ]
    }
   ],
   "source": [
    "page_1=requests.get('https://www.imdb.com/chart/top/')\n",
    "print(page_1)\n",
    "\n",
    "soup_1=BeautifulSoup(page_1.content)"
   ]
  },
  {
   "cell_type": "code",
   "execution_count": 27,
   "id": "1007275b",
   "metadata": {},
   "outputs": [
    {
     "name": "stdout",
     "output_type": "stream",
     "text": [
      "['The Shawshank Redemption', 'The Godfather', 'The Dark Knight', 'The Godfather: Part II', '12 Angry Men', \"Schindler's List\", 'The Lord of the Rings: The Return of the King', 'Pulp Fiction', 'The Lord of the Rings: The Fellowship of the Ring', 'Il buono, il brutto, il cattivo', 'Forrest Gump', 'Fight Club', 'Inception', 'The Lord of the Rings: The Two Towers', 'The Empire Strikes Back', 'The Matrix', 'Goodfellas', \"One Flew Over the Cuckoo's Nest\", 'Se7en', 'Shichinin no samurai', \"It's a Wonderful Life\", 'The Silence of the Lambs', 'Cidade de Deus', 'Saving Private Ryan', 'La vita è bella', 'The Green Mile', 'Star Wars', 'Interstellar', 'Terminator 2: Judgment Day', 'Back to the Future', 'Sen to Chihiro no kamikakushi', 'Psycho', 'The Pianist', 'Léon', 'Gisaengchung', 'The Lion King', 'American History X', 'Gladiator', 'The Usual Suspects', 'The Departed', 'The Prestige', 'Casablanca', 'Whiplash', 'The Intouchables', 'Modern Times', 'Once Upon a Time in the West', 'Seppuku', 'Hotaru no haka', 'Rear Window', 'Alien', 'City Lights', 'Nuovo Cinema Paradiso', 'Memento', 'Apocalypse Now', 'Raiders of the Lost Ark', 'Django Unchained', 'WALL·E', 'The Lives of Others', 'Sunset Blvd.', 'Paths of Glory', 'The Shining', 'The Great Dictator', 'Witness for the Prosecution', 'Avengers: Infinity War', 'Aliens', 'American Beauty', 'Dr. Strangelove or: How I Learned to Stop Worrying and Love the Bomb', 'The Dark Knight Rises', 'Spider-Man: Into the Spider-Verse', 'Joker', 'Oldeuboi', 'Braveheart', 'Amadeus', 'Toy Story', 'Das Boot', 'Coco', 'Inglourious Basterds', 'Mononoke-hime', 'Once Upon a Time in America', 'Avengers: Endgame', 'Good Will Hunting', 'Requiem for a Dream', 'Toy Story 3', \"Singin' in the Rain\", 'Kimi no na wa.', 'Star Wars: Episode VI - Return of the Jedi', '3 Idiots', 'Spider-Man: No Way Home', '2001: A Space Odyssey', 'Reservoir Dogs', 'Eternal Sunshine of the Spotless Mind', 'Tengoku to jigoku', 'Citizen Kane', 'Capharnaüm', 'Lawrence of Arabia', 'M - Eine Stadt sucht einen Mörder', 'North by Northwest', 'Jagten', 'Vertigo', \"Le fabuleux destin d'Amélie Poulain\"]\n"
     ]
    }
   ],
   "source": [
    "movie_name=soup_1.find_all('td',class_='titleColumn')\n",
    "\n",
    "column_movie=[]\n",
    "for i in movie_name:\n",
    "    column_movie.append(i.text.split('\\n'))\n",
    "column_movie=column_movie[:100]  \n",
    "\n",
    "movies_100=[]\n",
    "for l in column_movie:\n",
    "  movies_100.append(l[2].strip())\n",
    "print(movies_100)"
   ]
  },
  {
   "cell_type": "code",
   "execution_count": 29,
   "id": "67ff90a8",
   "metadata": {},
   "outputs": [
    {
     "name": "stdout",
     "output_type": "stream",
     "text": [
      "['1994', '1972', '2008', '1974', '1957', '1993', '2003', '1994', '2001', '1966', '1994', '1999', '2010', '2002', '1980', '1999', '1990', '1975', '1995', '1954', '1946', '1991', '2002', '1998', '1997', '1999', '1977', '2014', '1991', '1985', '2001', '1960', '2002', '1994', '2019', '1994', '1998', '2000', '1995', '2006', '2006', '1942', '2014', '2011', '1936', '1968', '1962', '1988', '1954', '1979', '1931', '1988', '2000', '1979', '1981', '2012', '2008', '2006', '1950', '1957', '1980', '1940', '1957', '2018', '1986', '1999', '1964', '2012', '2018', '2019', '2003', '1995', '1984', '1995', '1981', '2017', '2009', '1997', '1984', '2019', '1997', '2000', '2010', '1952', '2016', '1983', '2009', '2021', '1968', '1992', '2004', '1963', '1941', '2018', '1962', '1931', '1959', '2012', '1958', '2001']\n"
     ]
    }
   ],
   "source": [
    "movie_year=soup_1.find_all('span',class_='secondaryInfo')\n",
    "movie_year[:100]\n",
    "\n",
    "column_year=[]\n",
    "for i in movie_year[:100]:\n",
    "    column_year.append(i.text.strip('()'))\n",
    "print(column_year[:100])"
   ]
  },
  {
   "cell_type": "code",
   "execution_count": 30,
   "id": "48793eb2",
   "metadata": {},
   "outputs": [
    {
     "name": "stdout",
     "output_type": "stream",
     "text": [
      "['9.2', '9.2', '9.0', '9.0', '8.9', '8.9', '8.9', '8.9', '8.8', '8.8', '8.8', '8.8', '8.7', '8.7', '8.7', '8.7', '8.7', '8.6', '8.6', '8.6', '8.6', '8.6', '8.6', '8.6', '8.6', '8.6', '8.6', '8.6', '8.5', '8.5', '8.5', '8.5', '8.5', '8.5', '8.5', '8.5', '8.5', '8.5', '8.5', '8.5', '8.5', '8.5', '8.5', '8.5', '8.5', '8.4', '8.4', '8.4', '8.4', '8.4', '8.4', '8.4', '8.4', '8.4', '8.4', '8.4', '8.4', '8.4', '8.4', '8.4', '8.4', '8.4', '8.4', '8.4', '8.3', '8.3', '8.3', '8.3', '8.3', '8.3', '8.3', '8.3', '8.3', '8.3', '8.3', '8.3', '8.3', '8.3', '8.3', '8.3', '8.3', '8.3', '8.3', '8.3', '8.3', '8.3', '8.3', '8.3', '8.3', '8.3', '8.3', '8.3', '8.3', '8.3', '8.3', '8.3', '8.3', '8.3', '8.2', '8.2']\n"
     ]
    }
   ],
   "source": [
    "movie_rate=soup_1.find_all('td',class_='ratingColumn imdbRating')\n",
    "\n",
    "column_rate=[]\n",
    "for i in movie_rate[0:100]:\n",
    "    column_rate.append(i.text.strip())\n",
    "print(column_rate[:100])"
   ]
  },
  {
   "cell_type": "code",
   "execution_count": 31,
   "id": "4ce7ebbc",
   "metadata": {},
   "outputs": [
    {
     "data": {
      "text/html": [
       "<div>\n",
       "<style scoped>\n",
       "    .dataframe tbody tr th:only-of-type {\n",
       "        vertical-align: middle;\n",
       "    }\n",
       "\n",
       "    .dataframe tbody tr th {\n",
       "        vertical-align: top;\n",
       "    }\n",
       "\n",
       "    .dataframe thead th {\n",
       "        text-align: right;\n",
       "    }\n",
       "</style>\n",
       "<table border=\"1\" class=\"dataframe\">\n",
       "  <thead>\n",
       "    <tr style=\"text-align: right;\">\n",
       "      <th></th>\n",
       "      <th>Names</th>\n",
       "      <th>ReleaseYear</th>\n",
       "      <th>Rating</th>\n",
       "    </tr>\n",
       "  </thead>\n",
       "  <tbody>\n",
       "    <tr>\n",
       "      <th>0</th>\n",
       "      <td>The Shawshank Redemption</td>\n",
       "      <td>1994</td>\n",
       "      <td>9.2</td>\n",
       "    </tr>\n",
       "    <tr>\n",
       "      <th>1</th>\n",
       "      <td>The Godfather</td>\n",
       "      <td>1972</td>\n",
       "      <td>9.2</td>\n",
       "    </tr>\n",
       "    <tr>\n",
       "      <th>2</th>\n",
       "      <td>The Dark Knight</td>\n",
       "      <td>2008</td>\n",
       "      <td>9.0</td>\n",
       "    </tr>\n",
       "    <tr>\n",
       "      <th>3</th>\n",
       "      <td>The Godfather: Part II</td>\n",
       "      <td>1974</td>\n",
       "      <td>9.0</td>\n",
       "    </tr>\n",
       "    <tr>\n",
       "      <th>4</th>\n",
       "      <td>12 Angry Men</td>\n",
       "      <td>1957</td>\n",
       "      <td>8.9</td>\n",
       "    </tr>\n",
       "    <tr>\n",
       "      <th>...</th>\n",
       "      <td>...</td>\n",
       "      <td>...</td>\n",
       "      <td>...</td>\n",
       "    </tr>\n",
       "    <tr>\n",
       "      <th>95</th>\n",
       "      <td>M - Eine Stadt sucht einen Mörder</td>\n",
       "      <td>1931</td>\n",
       "      <td>8.3</td>\n",
       "    </tr>\n",
       "    <tr>\n",
       "      <th>96</th>\n",
       "      <td>North by Northwest</td>\n",
       "      <td>1959</td>\n",
       "      <td>8.3</td>\n",
       "    </tr>\n",
       "    <tr>\n",
       "      <th>97</th>\n",
       "      <td>Jagten</td>\n",
       "      <td>2012</td>\n",
       "      <td>8.3</td>\n",
       "    </tr>\n",
       "    <tr>\n",
       "      <th>98</th>\n",
       "      <td>Vertigo</td>\n",
       "      <td>1958</td>\n",
       "      <td>8.2</td>\n",
       "    </tr>\n",
       "    <tr>\n",
       "      <th>99</th>\n",
       "      <td>Le fabuleux destin d'Amélie Poulain</td>\n",
       "      <td>2001</td>\n",
       "      <td>8.2</td>\n",
       "    </tr>\n",
       "  </tbody>\n",
       "</table>\n",
       "<p>100 rows × 3 columns</p>\n",
       "</div>"
      ],
      "text/plain": [
       "                                  Names ReleaseYear Rating\n",
       "0              The Shawshank Redemption        1994    9.2\n",
       "1                         The Godfather        1972    9.2\n",
       "2                       The Dark Knight        2008    9.0\n",
       "3                The Godfather: Part II        1974    9.0\n",
       "4                          12 Angry Men        1957    8.9\n",
       "..                                  ...         ...    ...\n",
       "95    M - Eine Stadt sucht einen Mörder        1931    8.3\n",
       "96                   North by Northwest        1959    8.3\n",
       "97                               Jagten        2012    8.3\n",
       "98                              Vertigo        1958    8.2\n",
       "99  Le fabuleux destin d'Amélie Poulain        2001    8.2\n",
       "\n",
       "[100 rows x 3 columns]"
      ]
     },
     "execution_count": 31,
     "metadata": {},
     "output_type": "execute_result"
    }
   ],
   "source": [
    "import pandas as pd\n",
    "TopMovies=pd.DataFrame({})\n",
    "TopMovies['Names']=movies_100\n",
    "TopMovies['ReleaseYear']=column_year\n",
    "TopMovies['Rating']=column_rate\n",
    "\n",
    "TopMovies"
   ]
  },
  {
   "cell_type": "markdown",
   "id": "0f1313b2",
   "metadata": {},
   "source": [
    "#### Answer 3 IMDB top rated 100 movies"
   ]
  },
  {
   "cell_type": "code",
   "execution_count": 12,
   "id": "c7a693bb",
   "metadata": {},
   "outputs": [
    {
     "name": "stdout",
     "output_type": "stream",
     "text": [
      "<Response [200]>\n"
     ]
    }
   ],
   "source": [
    "page_2=requests.get('https://www.imdb.com/india/top-rated-indian-movies/')\n",
    "print(page_2)\n",
    "\n",
    "soup_2=BeautifulSoup(page_2.content)"
   ]
  },
  {
   "cell_type": "code",
   "execution_count": 14,
   "id": "9bb50a16",
   "metadata": {},
   "outputs": [
    {
     "name": "stdout",
     "output_type": "stream",
     "text": [
      "['K.G.F: Chapter 2', 'Anbe Sivam', 'Jai Bhim', 'Golmaal', 'Nayakan', 'Pariyerum Perumal', 'Apur Sansar', '3 Idiots', 'Manichitrathazhu', 'Black Friday', 'Kumbalangi Nights', 'Taare Zameen Par', 'C/o Kancharapalem', 'Dangal', 'Kireedam', '#Home', 'Soorarai Pottru', 'Pather Panchali', 'Jersey', 'Kaithi', 'Thevar Magan', 'Asuran', 'Visaaranai', '96', 'Thalapathi', 'Natsamrat', 'Sardar Udham', 'Drishyam 2', 'Sarpatta Parambarai', 'Aparajito', 'Thani Oruvan', 'Jaane Bhi Do Yaaro', 'Vada Chennai', 'Khosla Ka Ghosla!', 'Chupke Chupke', 'Peranbu', 'Drishyam', 'Agent Sai Srinivasa Athreya', 'Satya', 'Anniyan', 'Mahanati', 'Bangalore Days', 'Super Deluxe', 'Ratsasan', 'Premam', 'Aruvi', 'Devasuram', 'Bhaag Milkha Bhaag', 'Gangs of Wasseypur', 'Kannathil Muthamittal', 'Andhadhun', 'Guide', 'Drishyam', 'Iruvar', 'Chithram', 'Shahid', 'Paan Singh Tomar', 'Vikram Vedha', 'Zindagi Na Milegi Dobara', 'Tumbbad', 'Sairat', 'Mudhalvan', 'Spadikam', 'Black', 'Dhuruvangal Pathinaaru', 'Swades: We, the People', 'Jo Jeeta Wohi Sikandar', 'Chak De! India', 'Chhichhore', 'Pudhu Pettai', 'Pyaasa', 'Article 15', 'Soodhu Kavvum', 'Papanasam', 'Queen', 'PK', 'Talvar', 'Munna Bhai M.B.B.S.', 'OMG: Oh My God!', 'Mandela', 'Kaakkaa Muttai', 'Uri: The Surgical Strike', 'Lagaan: Once Upon a Time in India', 'Jigarthanda', 'Sarfarosh', 'Udaan', 'Barfi!', 'RRR (Rise Roar Revolt)', 'Sholay', 'Ustad Hotel', 'Theeran Adhigaaram Ondru', 'The Legend of Bhagat Singh', 'Angoor', 'Hera Pheri', 'Rang De Basanti', 'Baasha', 'Masaan', 'Dil Chahta Hai', 'Kahaani', 'Maheshinte Prathikaaram']\n"
     ]
    }
   ],
   "source": [
    "movie_name=soup_2.find_all('td',class_='titleColumn')\n",
    "\n",
    "imdb_movie=[]\n",
    "for i in movie_name:\n",
    "    imdb_movie.append(i.text.split('\\n'))\n",
    "imdb_movie=imdb_movie[:100]  \n",
    "\n",
    "movies_100=[]\n",
    "for l in imdb_movie:\n",
    "  movies_100.append(l[2].strip())\n",
    "print(movies_100)"
   ]
  },
  {
   "cell_type": "code",
   "execution_count": 15,
   "id": "cb993199",
   "metadata": {},
   "outputs": [
    {
     "name": "stdout",
     "output_type": "stream",
     "text": [
      "['2022', '2003', '2021', '1979', '1987', '2018', '1959', '2009', '1993', '2004', '2019', '2007', '2018', '2016', '1989', '2021', '2020', '1955', '2019', '2019', '1992', '2019', '2015', '2018', '1991', '2016', '2021', '2021', '2021', '1956', '2015', '1983', '2018', '2006', '1975', '2018', '2013', '2019', '1998', '2005', '2018', '2014', '2019', '2018', '2015', '2016', '1993', '2013', '2012', '2002', '2018', '1965', '2015', '1997', '1988', '2012', '2012', '2017', '2011', '2018', '2016', '1999', '1995', '2005', '2016', '2004', '1992', '2007', '2019', '2006', '1957', '2019', '2013', '2015', '2013', '2014', '2015', '2003', '2012', '2021', '2014', '2019', '2001', '2014', '1999', '2010', '2012', '2022', '1975', '2012', '2017', '2002', '1982', '2000', '2006', '1995', '2015', '2001', '2012', '2016']\n"
     ]
    }
   ],
   "source": [
    "movie_year=soup_2.find_all('span',class_='secondaryInfo')\n",
    "movie_year[:100]\n",
    "\n",
    "imdb_year=[]\n",
    "for i in movie_year[:100]:\n",
    "    imdb_year.append(i.text.strip('()'))\n",
    "print(imdb_year[:100])"
   ]
  },
  {
   "cell_type": "code",
   "execution_count": 19,
   "id": "276699c7",
   "metadata": {},
   "outputs": [
    {
     "name": "stdout",
     "output_type": "stream",
     "text": [
      "['8.5', '8.4', '8.4', '8.4', '8.4', '8.4', '8.4', '8.3', '8.3', '8.3', '8.3', '8.3', '8.3', '8.3', '8.3', '8.3', '8.3', '8.3', '8.3', '8.2', '8.2', '8.2', '8.2', '8.2', '8.2', '8.2', '8.2', '8.2', '8.2', '8.2', '8.2', '8.2', '8.2', '8.2', '8.1', '8.1', '8.1', '8.1', '8.1', '8.1', '8.1', '8.1', '8.1', '8.1', '8.1', '8.1', '8.1', '8.1', '8.1', '8.1', '8.1', '8.1', '8.1', '8.1', '8.1', '8.1', '8.1', '8.1', '8.1', '8.1', '8.1', '8.1', '8.1', '8.1', '8.1', '8.1', '8.1', '8.1', '8.1', '8.1', '8.1', '8.1', '8.1', '8.1', '8.1', '8.1', '8.0', '8.0', '8.0', '8.0', '8.0', '8.0', '8.0', '8.0', '8.0', '8.0', '8.0', '8.0', '8.0', '8.0', '8.0', '8.0', '8.0', '8.0', '8.0', '8.0', '8.0', '8.0', '8.0', '8.0']\n"
     ]
    }
   ],
   "source": [
    "movie_rate=soup_2.find_all('td',class_='ratingColumn imdbRating')\n",
    "\n",
    "imdb_rate=[]\n",
    "for i in movie_rate[0:100]:\n",
    "    imdb_rate.append(i.text.strip())\n",
    "print(imdb_rate[:100])"
   ]
  },
  {
   "cell_type": "code",
   "execution_count": 22,
   "id": "94bdf185",
   "metadata": {},
   "outputs": [
    {
     "data": {
      "text/html": [
       "<div>\n",
       "<style scoped>\n",
       "    .dataframe tbody tr th:only-of-type {\n",
       "        vertical-align: middle;\n",
       "    }\n",
       "\n",
       "    .dataframe tbody tr th {\n",
       "        vertical-align: top;\n",
       "    }\n",
       "\n",
       "    .dataframe thead th {\n",
       "        text-align: right;\n",
       "    }\n",
       "</style>\n",
       "<table border=\"1\" class=\"dataframe\">\n",
       "  <thead>\n",
       "    <tr style=\"text-align: right;\">\n",
       "      <th></th>\n",
       "      <th>Top 100 movies</th>\n",
       "      <th>YearofRelease</th>\n",
       "      <th>top 100 Ratings</th>\n",
       "    </tr>\n",
       "  </thead>\n",
       "  <tbody>\n",
       "    <tr>\n",
       "      <th>0</th>\n",
       "      <td>K.G.F: Chapter 2</td>\n",
       "      <td>2022</td>\n",
       "      <td>8.5</td>\n",
       "    </tr>\n",
       "    <tr>\n",
       "      <th>1</th>\n",
       "      <td>Anbe Sivam</td>\n",
       "      <td>2003</td>\n",
       "      <td>8.4</td>\n",
       "    </tr>\n",
       "    <tr>\n",
       "      <th>2</th>\n",
       "      <td>Jai Bhim</td>\n",
       "      <td>2021</td>\n",
       "      <td>8.4</td>\n",
       "    </tr>\n",
       "    <tr>\n",
       "      <th>3</th>\n",
       "      <td>Golmaal</td>\n",
       "      <td>1979</td>\n",
       "      <td>8.4</td>\n",
       "    </tr>\n",
       "    <tr>\n",
       "      <th>4</th>\n",
       "      <td>Nayakan</td>\n",
       "      <td>1987</td>\n",
       "      <td>8.4</td>\n",
       "    </tr>\n",
       "    <tr>\n",
       "      <th>...</th>\n",
       "      <td>...</td>\n",
       "      <td>...</td>\n",
       "      <td>...</td>\n",
       "    </tr>\n",
       "    <tr>\n",
       "      <th>95</th>\n",
       "      <td>Baasha</td>\n",
       "      <td>1995</td>\n",
       "      <td>8.0</td>\n",
       "    </tr>\n",
       "    <tr>\n",
       "      <th>96</th>\n",
       "      <td>Masaan</td>\n",
       "      <td>2015</td>\n",
       "      <td>8.0</td>\n",
       "    </tr>\n",
       "    <tr>\n",
       "      <th>97</th>\n",
       "      <td>Dil Chahta Hai</td>\n",
       "      <td>2001</td>\n",
       "      <td>8.0</td>\n",
       "    </tr>\n",
       "    <tr>\n",
       "      <th>98</th>\n",
       "      <td>Kahaani</td>\n",
       "      <td>2012</td>\n",
       "      <td>8.0</td>\n",
       "    </tr>\n",
       "    <tr>\n",
       "      <th>99</th>\n",
       "      <td>Maheshinte Prathikaaram</td>\n",
       "      <td>2016</td>\n",
       "      <td>8.0</td>\n",
       "    </tr>\n",
       "  </tbody>\n",
       "</table>\n",
       "<p>100 rows × 3 columns</p>\n",
       "</div>"
      ],
      "text/plain": [
       "             Top 100 movies YearofRelease top 100 Ratings\n",
       "0          K.G.F: Chapter 2          2022             8.5\n",
       "1                Anbe Sivam          2003             8.4\n",
       "2                  Jai Bhim          2021             8.4\n",
       "3                   Golmaal          1979             8.4\n",
       "4                   Nayakan          1987             8.4\n",
       "..                      ...           ...             ...\n",
       "95                   Baasha          1995             8.0\n",
       "96                   Masaan          2015             8.0\n",
       "97           Dil Chahta Hai          2001             8.0\n",
       "98                  Kahaani          2012             8.0\n",
       "99  Maheshinte Prathikaaram          2016             8.0\n",
       "\n",
       "[100 rows x 3 columns]"
      ]
     },
     "execution_count": 22,
     "metadata": {},
     "output_type": "execute_result"
    }
   ],
   "source": [
    "import pandas as pd\n",
    "TopIndianMovies=pd.DataFrame({})\n",
    "TopIndianMovies['Top 100 movies']=movies_100\n",
    "TopIndianMovies['YearofRelease']=imdb_year\n",
    "TopIndianMovies['top 100 Ratings']=imdb_rate\n",
    "\n",
    "TopIndianMovies"
   ]
  },
  {
   "cell_type": "markdown",
   "id": "c6b87702",
   "metadata": {},
   "source": [
    "#### Answer4 python  program  to scrape  Meeesho data  of Bags"
   ]
  },
  {
   "cell_type": "code",
   "execution_count": 34,
   "id": "d52efc45",
   "metadata": {},
   "outputs": [],
   "source": [
    "meesho_data= requests.get('https://meesho.com/bags-ladies/pl/p7vbp')\n",
    "meesho_data\n",
    "soup =BeautifulSoup(meesho_data.content)\n"
   ]
  },
  {
   "cell_type": "code",
   "execution_count": 35,
   "id": "6d5d05b9",
   "metadata": {},
   "outputs": [
    {
     "data": {
      "text/plain": [
       "['Classic Attractive Women Handbags',\n",
       " 'Ravishing Alluring Women Handbags',\n",
       " 'Graceful Fancy Women Handbags',\n",
       " 'Ravishing Classy Women Handbags',\n",
       " 'Classic Versatile Women Handbags',\n",
       " 'Voguish Fancy Women Handbags',\n",
       " 'Graceful Versatile Women Handbags',\n",
       " 'Classic Stylish Women Handbags',\n",
       " 'Ravishing Fashionable Women Handbags',\n",
       " 'Elegant Classy Women Handbags',\n",
       " 'Elegant Alluring Women Handbags',\n",
       " 'Graceful Attractive Women Handbags',\n",
       " 'Classic Alluring Women Handbags',\n",
       " 'Elegant Fashionable Women Handbags',\n",
       " 'Trendy Alluring Women Handbags',\n",
       " 'Trendy Alluring Women Handbags',\n",
       " 'Elegant Classy Women Handbags',\n",
       " 'Trendy Stylish Women Handbags',\n",
       " 'Classic Fancy Women Handbags',\n",
       " 'Classic Versatile Women Handbags']"
      ]
     },
     "execution_count": 35,
     "metadata": {},
     "output_type": "execute_result"
    }
   ],
   "source": [
    "product_names=[]\n",
    "for i in soup.find_all('p',class_=\"Text__StyledText-sc-oo0kvp-0 bWSOET NewProductCard__ProductTitle_Desktop-sc-j0e7tu-4 cQhePS NewProductCard__ProductTitle_Desktop-sc-j0e7tu-4 cQhePS\"):\n",
    "    product_names.append(i.text)\n",
    "product_names"
   ]
  },
  {
   "cell_type": "code",
   "execution_count": 36,
   "id": "888b1e91",
   "metadata": {},
   "outputs": [
    {
     "data": {
      "text/plain": [
       "['₹620',\n",
       " '₹384',\n",
       " '₹528',\n",
       " '₹950',\n",
       " '₹950',\n",
       " '₹1549',\n",
       " '₹950',\n",
       " '₹3202',\n",
       " '₹316',\n",
       " '₹950',\n",
       " '₹2337',\n",
       " '₹550',\n",
       " '₹518',\n",
       " '₹725',\n",
       " '₹1320',\n",
       " '₹950',\n",
       " '₹535',\n",
       " '₹823',\n",
       " '₹646',\n",
       " '₹550']"
      ]
     },
     "execution_count": 36,
     "metadata": {},
     "output_type": "execute_result"
    }
   ],
   "source": [
    "product_prices=[]\n",
    "for  i in soup.find_all('h5',class_=\"Text__StyledText-sc-oo0kvp-0 hiHdyy\"):\n",
    "    product_prices.append(i.text)\n",
    "product_prices"
   ]
  },
  {
   "cell_type": "code",
   "execution_count": 42,
   "id": "cdb50bf3",
   "metadata": {},
   "outputs": [
    {
     "data": {
      "text/plain": [
       "['₹50 discount on 1st order',\n",
       " '₹50 discount on 1st order',\n",
       " '₹50 discount on 1st order',\n",
       " '₹50 discount on 1st order',\n",
       " '₹50 discount on 1st order',\n",
       " '₹50 discount on 1st order',\n",
       " '₹50 discount on 1st order',\n",
       " '₹50 discount on 1st order',\n",
       " '₹50 discount on 1st order',\n",
       " '₹50 discount on 1st order',\n",
       " '₹50 discount on 1st order',\n",
       " '₹50 discount on 1st order',\n",
       " '₹50 discount on 1st order',\n",
       " '₹50 discount on 1st order',\n",
       " '₹50 discount on 1st order',\n",
       " '₹50 discount on 1st order',\n",
       " '₹50 discount on 1st order',\n",
       " '₹50 discount on 1st order',\n",
       " '₹50 discount on 1st order',\n",
       " '₹50 discount on 1st order']"
      ]
     },
     "execution_count": 42,
     "metadata": {},
     "output_type": "execute_result"
    }
   ],
   "source": [
    "product_discounts =[]\n",
    "for i in soup.find_all('p',class_=\"Text__StyledText-sc-oo0kvp-0 fCJVtz NewProductCard__DiscountTextParagraph-sc-j0e7tu-16 kmYsnm NewProductCard__DiscountTextParagraph-sc-j0e7tu-16 kmYsnm\"):\n",
    "    product_discounts.append(i.text.strip('[]'))\n",
    "product_discounts\n"
   ]
  },
  {
   "cell_type": "code",
   "execution_count": 43,
   "id": "b634e575",
   "metadata": {},
   "outputs": [
    {
     "data": {
      "text/html": [
       "<div>\n",
       "<style scoped>\n",
       "    .dataframe tbody tr th:only-of-type {\n",
       "        vertical-align: middle;\n",
       "    }\n",
       "\n",
       "    .dataframe tbody tr th {\n",
       "        vertical-align: top;\n",
       "    }\n",
       "\n",
       "    .dataframe thead th {\n",
       "        text-align: right;\n",
       "    }\n",
       "</style>\n",
       "<table border=\"1\" class=\"dataframe\">\n",
       "  <thead>\n",
       "    <tr style=\"text-align: right;\">\n",
       "      <th></th>\n",
       "      <th>Name_of_products</th>\n",
       "      <th>Prices_of_bags</th>\n",
       "      <th>discounts_given</th>\n",
       "    </tr>\n",
       "  </thead>\n",
       "  <tbody>\n",
       "    <tr>\n",
       "      <th>0</th>\n",
       "      <td>Classic Attractive Women Handbags</td>\n",
       "      <td>₹620</td>\n",
       "      <td>₹50 discount on 1st order</td>\n",
       "    </tr>\n",
       "    <tr>\n",
       "      <th>1</th>\n",
       "      <td>Ravishing Alluring Women Handbags</td>\n",
       "      <td>₹384</td>\n",
       "      <td>₹50 discount on 1st order</td>\n",
       "    </tr>\n",
       "    <tr>\n",
       "      <th>2</th>\n",
       "      <td>Graceful Fancy Women Handbags</td>\n",
       "      <td>₹528</td>\n",
       "      <td>₹50 discount on 1st order</td>\n",
       "    </tr>\n",
       "    <tr>\n",
       "      <th>3</th>\n",
       "      <td>Ravishing Classy Women Handbags</td>\n",
       "      <td>₹950</td>\n",
       "      <td>₹50 discount on 1st order</td>\n",
       "    </tr>\n",
       "    <tr>\n",
       "      <th>4</th>\n",
       "      <td>Classic Versatile Women Handbags</td>\n",
       "      <td>₹950</td>\n",
       "      <td>₹50 discount on 1st order</td>\n",
       "    </tr>\n",
       "    <tr>\n",
       "      <th>5</th>\n",
       "      <td>Voguish Fancy Women Handbags</td>\n",
       "      <td>₹1549</td>\n",
       "      <td>₹50 discount on 1st order</td>\n",
       "    </tr>\n",
       "    <tr>\n",
       "      <th>6</th>\n",
       "      <td>Graceful Versatile Women Handbags</td>\n",
       "      <td>₹950</td>\n",
       "      <td>₹50 discount on 1st order</td>\n",
       "    </tr>\n",
       "    <tr>\n",
       "      <th>7</th>\n",
       "      <td>Classic Stylish Women Handbags</td>\n",
       "      <td>₹3202</td>\n",
       "      <td>₹50 discount on 1st order</td>\n",
       "    </tr>\n",
       "    <tr>\n",
       "      <th>8</th>\n",
       "      <td>Ravishing Fashionable Women Handbags</td>\n",
       "      <td>₹316</td>\n",
       "      <td>₹50 discount on 1st order</td>\n",
       "    </tr>\n",
       "    <tr>\n",
       "      <th>9</th>\n",
       "      <td>Elegant Classy Women Handbags</td>\n",
       "      <td>₹950</td>\n",
       "      <td>₹50 discount on 1st order</td>\n",
       "    </tr>\n",
       "    <tr>\n",
       "      <th>10</th>\n",
       "      <td>Elegant Alluring Women Handbags</td>\n",
       "      <td>₹2337</td>\n",
       "      <td>₹50 discount on 1st order</td>\n",
       "    </tr>\n",
       "    <tr>\n",
       "      <th>11</th>\n",
       "      <td>Graceful Attractive Women Handbags</td>\n",
       "      <td>₹550</td>\n",
       "      <td>₹50 discount on 1st order</td>\n",
       "    </tr>\n",
       "    <tr>\n",
       "      <th>12</th>\n",
       "      <td>Classic Alluring Women Handbags</td>\n",
       "      <td>₹518</td>\n",
       "      <td>₹50 discount on 1st order</td>\n",
       "    </tr>\n",
       "    <tr>\n",
       "      <th>13</th>\n",
       "      <td>Elegant Fashionable Women Handbags</td>\n",
       "      <td>₹725</td>\n",
       "      <td>₹50 discount on 1st order</td>\n",
       "    </tr>\n",
       "    <tr>\n",
       "      <th>14</th>\n",
       "      <td>Trendy Alluring Women Handbags</td>\n",
       "      <td>₹1320</td>\n",
       "      <td>₹50 discount on 1st order</td>\n",
       "    </tr>\n",
       "    <tr>\n",
       "      <th>15</th>\n",
       "      <td>Trendy Alluring Women Handbags</td>\n",
       "      <td>₹950</td>\n",
       "      <td>₹50 discount on 1st order</td>\n",
       "    </tr>\n",
       "    <tr>\n",
       "      <th>16</th>\n",
       "      <td>Elegant Classy Women Handbags</td>\n",
       "      <td>₹535</td>\n",
       "      <td>₹50 discount on 1st order</td>\n",
       "    </tr>\n",
       "    <tr>\n",
       "      <th>17</th>\n",
       "      <td>Trendy Stylish Women Handbags</td>\n",
       "      <td>₹823</td>\n",
       "      <td>₹50 discount on 1st order</td>\n",
       "    </tr>\n",
       "    <tr>\n",
       "      <th>18</th>\n",
       "      <td>Classic Fancy Women Handbags</td>\n",
       "      <td>₹646</td>\n",
       "      <td>₹50 discount on 1st order</td>\n",
       "    </tr>\n",
       "    <tr>\n",
       "      <th>19</th>\n",
       "      <td>Classic Versatile Women Handbags</td>\n",
       "      <td>₹550</td>\n",
       "      <td>₹50 discount on 1st order</td>\n",
       "    </tr>\n",
       "  </tbody>\n",
       "</table>\n",
       "</div>"
      ],
      "text/plain": [
       "                        Name_of_products Prices_of_bags  \\\n",
       "0      Classic Attractive Women Handbags           ₹620   \n",
       "1      Ravishing Alluring Women Handbags           ₹384   \n",
       "2          Graceful Fancy Women Handbags           ₹528   \n",
       "3        Ravishing Classy Women Handbags           ₹950   \n",
       "4       Classic Versatile Women Handbags           ₹950   \n",
       "5           Voguish Fancy Women Handbags          ₹1549   \n",
       "6      Graceful Versatile Women Handbags           ₹950   \n",
       "7         Classic Stylish Women Handbags          ₹3202   \n",
       "8   Ravishing Fashionable Women Handbags           ₹316   \n",
       "9          Elegant Classy Women Handbags           ₹950   \n",
       "10       Elegant Alluring Women Handbags          ₹2337   \n",
       "11    Graceful Attractive Women Handbags           ₹550   \n",
       "12       Classic Alluring Women Handbags           ₹518   \n",
       "13    Elegant Fashionable Women Handbags           ₹725   \n",
       "14        Trendy Alluring Women Handbags          ₹1320   \n",
       "15        Trendy Alluring Women Handbags           ₹950   \n",
       "16         Elegant Classy Women Handbags           ₹535   \n",
       "17         Trendy Stylish Women Handbags           ₹823   \n",
       "18          Classic Fancy Women Handbags           ₹646   \n",
       "19      Classic Versatile Women Handbags           ₹550   \n",
       "\n",
       "              discounts_given  \n",
       "0   ₹50 discount on 1st order  \n",
       "1   ₹50 discount on 1st order  \n",
       "2   ₹50 discount on 1st order  \n",
       "3   ₹50 discount on 1st order  \n",
       "4   ₹50 discount on 1st order  \n",
       "5   ₹50 discount on 1st order  \n",
       "6   ₹50 discount on 1st order  \n",
       "7   ₹50 discount on 1st order  \n",
       "8   ₹50 discount on 1st order  \n",
       "9   ₹50 discount on 1st order  \n",
       "10  ₹50 discount on 1st order  \n",
       "11  ₹50 discount on 1st order  \n",
       "12  ₹50 discount on 1st order  \n",
       "13  ₹50 discount on 1st order  \n",
       "14  ₹50 discount on 1st order  \n",
       "15  ₹50 discount on 1st order  \n",
       "16  ₹50 discount on 1st order  \n",
       "17  ₹50 discount on 1st order  \n",
       "18  ₹50 discount on 1st order  \n",
       "19  ₹50 discount on 1st order  "
      ]
     },
     "execution_count": 43,
     "metadata": {},
     "output_type": "execute_result"
    }
   ],
   "source": [
    "meesho_bag_data = pd.DataFrame({'Name_of_products':product_names,'Prices_of_bags':product_prices,'discounts_given':product_discounts})\n",
    "meesho_bag_data"
   ]
  },
  {
   "cell_type": "markdown",
   "id": "889ac9f3",
   "metadata": {},
   "source": [
    "#### Answer 5 :: Write a python program to scrape cricket rankings from \n",
    "#### www.icc-cricket.com’. You have to scrape: i) Top 10 ODI teams in men’s cricket \n",
    "#### along with the records for matches, points and rating. ii) Top 10 ODI Batsmen in men along with \n",
    "#### the records of their team and rating. iii) Top 10 ODI bowlers along with the records of their team and rating.\n",
    "\n"
   ]
  },
  {
   "cell_type": "code",
   "execution_count": 45,
   "id": "23ba8fb1",
   "metadata": {},
   "outputs": [
    {
     "name": "stdout",
     "output_type": "stream",
     "text": [
      "<Response [200]>\n"
     ]
    }
   ],
   "source": [
    "icc_page=requests.get('https://www.icc-cricket.com/rankings/mens/team-rankings/odi')\n",
    "print(icc_page)\n",
    "\n",
    "icc_soup=BeautifulSoup(icc_page.content)\n"
   ]
  },
  {
   "cell_type": "markdown",
   "id": "755612fc",
   "metadata": {},
   "source": [
    "#### part i)"
   ]
  },
  {
   "cell_type": "code",
   "execution_count": 46,
   "id": "94d0861d",
   "metadata": {},
   "outputs": [
    {
     "name": "stdout",
     "output_type": "stream",
     "text": [
      "['New Zealand', 'England', 'Australia', 'India', 'South Africa', 'Pakistan', 'Bangladesh', 'Sri Lanka', 'West Indies', 'Afghanistan']\n"
     ]
    }
   ],
   "source": [
    "\n",
    "team_name=icc_soup.find_all('span',class_='u-hide-phablet')\n",
    "team_name[0:10]\n",
    "\n",
    "column_team=[]\n",
    "for i in team_name:\n",
    "    column_team.append(i.text.strip('[]'))\n",
    "column_team=column_team[:10]  \n",
    "print(column_team)"
   ]
  },
  {
   "cell_type": "code",
   "execution_count": 47,
   "id": "6b43699f",
   "metadata": {},
   "outputs": [
    {
     "data": {
      "text/plain": [
       "['20', '32', '31', '38', '31', '30', '36', '35', '36', '23']"
      ]
     },
     "execution_count": 47,
     "metadata": {},
     "output_type": "execute_result"
    }
   ],
   "source": [
    "team_matches=icc_soup.find_all('td',class_='rankings-block__banner--matches')\n",
    "\n",
    "team_match=icc_soup.find_all('td',class_='table-body__cell u-center-text')\n",
    "\n",
    "column_matches=[]\n",
    "for i in team_matches:\n",
    "    column_matches.append(i.text.strip())\n",
    "\n",
    "for i in range(0,len(team_match),2):\n",
    "    column_matches.append(team_match[i].text.strip())\n",
    "column_matches=column_matches[0:10]\n",
    "column_matches"
   ]
  },
  {
   "cell_type": "code",
   "execution_count": 48,
   "id": "8a7137c8",
   "metadata": {},
   "outputs": [
    {
     "name": "stdout",
     "output_type": "stream",
     "text": [
      "['2,448', '3,793', '3,475', '4,162', '3,167', '2,921', '3,350', '2,835', '2,788', '1,562']\n"
     ]
    }
   ],
   "source": [
    "team_points=icc_soup.find_all('td',class_='rankings-block__banner--points')\n",
    "\n",
    "team_match=icc_soup.find_all('td',class_='table-body__cell u-center-text')\n",
    "\n",
    "column_points=[]\n",
    "for i in team_points:\n",
    "    column_points.append(i.text.strip())\n",
    "column_points\n",
    "\n",
    "for i in range(1,len(team_match),2):\n",
    "    column_points.append(team_match[i].text.strip())\n",
    "column_points=column_points[0:10]\n",
    "print(column_points)"
   ]
  },
  {
   "cell_type": "code",
   "execution_count": 49,
   "id": "fdbdd362",
   "metadata": {},
   "outputs": [
    {
     "data": {
      "text/plain": [
       "['122', '119', '112', '110', '102', '97', '93', '81', '77', '68']"
      ]
     },
     "execution_count": 49,
     "metadata": {},
     "output_type": "execute_result"
    }
   ],
   "source": [
    "team_rating=icc_soup.find_all('td',class_='rankings-block__banner--rating u-text-right')\n",
    "\n",
    "column_rating=[]\n",
    "for i in team_rating:\n",
    "    column_rating.append(i.text.strip())\n",
    "\n",
    "team_rating=icc_soup.find_all('td',class_='table-body__cell u-text-right rating')\n",
    "\n",
    "for i in team_rating:\n",
    "    column_rating.append(i.text.strip())\n",
    "column_rating=column_rating[0:10]\n",
    "column_rating"
   ]
  },
  {
   "cell_type": "code",
   "execution_count": 50,
   "id": "c6acc566",
   "metadata": {},
   "outputs": [
    {
     "data": {
      "text/html": [
       "<div>\n",
       "<style scoped>\n",
       "    .dataframe tbody tr th:only-of-type {\n",
       "        vertical-align: middle;\n",
       "    }\n",
       "\n",
       "    .dataframe tbody tr th {\n",
       "        vertical-align: top;\n",
       "    }\n",
       "\n",
       "    .dataframe thead th {\n",
       "        text-align: right;\n",
       "    }\n",
       "</style>\n",
       "<table border=\"1\" class=\"dataframe\">\n",
       "  <thead>\n",
       "    <tr style=\"text-align: right;\">\n",
       "      <th></th>\n",
       "      <th>Team</th>\n",
       "      <th>Matches</th>\n",
       "      <th>Points</th>\n",
       "      <th>Ratings</th>\n",
       "    </tr>\n",
       "  </thead>\n",
       "  <tbody>\n",
       "    <tr>\n",
       "      <th>0</th>\n",
       "      <td>New Zealand</td>\n",
       "      <td>20</td>\n",
       "      <td>2,448</td>\n",
       "      <td>122</td>\n",
       "    </tr>\n",
       "    <tr>\n",
       "      <th>1</th>\n",
       "      <td>England</td>\n",
       "      <td>32</td>\n",
       "      <td>3,793</td>\n",
       "      <td>119</td>\n",
       "    </tr>\n",
       "    <tr>\n",
       "      <th>2</th>\n",
       "      <td>Australia</td>\n",
       "      <td>31</td>\n",
       "      <td>3,475</td>\n",
       "      <td>112</td>\n",
       "    </tr>\n",
       "    <tr>\n",
       "      <th>3</th>\n",
       "      <td>India</td>\n",
       "      <td>38</td>\n",
       "      <td>4,162</td>\n",
       "      <td>110</td>\n",
       "    </tr>\n",
       "    <tr>\n",
       "      <th>4</th>\n",
       "      <td>South Africa</td>\n",
       "      <td>31</td>\n",
       "      <td>3,167</td>\n",
       "      <td>102</td>\n",
       "    </tr>\n",
       "    <tr>\n",
       "      <th>5</th>\n",
       "      <td>Pakistan</td>\n",
       "      <td>30</td>\n",
       "      <td>2,921</td>\n",
       "      <td>97</td>\n",
       "    </tr>\n",
       "    <tr>\n",
       "      <th>6</th>\n",
       "      <td>Bangladesh</td>\n",
       "      <td>36</td>\n",
       "      <td>3,350</td>\n",
       "      <td>93</td>\n",
       "    </tr>\n",
       "    <tr>\n",
       "      <th>7</th>\n",
       "      <td>Sri Lanka</td>\n",
       "      <td>35</td>\n",
       "      <td>2,835</td>\n",
       "      <td>81</td>\n",
       "    </tr>\n",
       "    <tr>\n",
       "      <th>8</th>\n",
       "      <td>West Indies</td>\n",
       "      <td>36</td>\n",
       "      <td>2,788</td>\n",
       "      <td>77</td>\n",
       "    </tr>\n",
       "    <tr>\n",
       "      <th>9</th>\n",
       "      <td>Afghanistan</td>\n",
       "      <td>23</td>\n",
       "      <td>1,562</td>\n",
       "      <td>68</td>\n",
       "    </tr>\n",
       "  </tbody>\n",
       "</table>\n",
       "</div>"
      ],
      "text/plain": [
       "           Team Matches Points Ratings\n",
       "0   New Zealand      20  2,448     122\n",
       "1       England      32  3,793     119\n",
       "2     Australia      31  3,475     112\n",
       "3         India      38  4,162     110\n",
       "4  South Africa      31  3,167     102\n",
       "5      Pakistan      30  2,921      97\n",
       "6    Bangladesh      36  3,350      93\n",
       "7     Sri Lanka      35  2,835      81\n",
       "8   West Indies      36  2,788      77\n",
       "9   Afghanistan      23  1,562      68"
      ]
     },
     "execution_count": 50,
     "metadata": {},
     "output_type": "execute_result"
    }
   ],
   "source": [
    "import pandas as pd\n",
    "ODI10=pd.DataFrame({})\n",
    "ODI10['Team']=column_team\n",
    "ODI10['Matches']=column_matches\n",
    "ODI10['Points']=column_points\n",
    "ODI10['Ratings']=column_rating\n",
    "\n",
    "ODI10"
   ]
  },
  {
   "cell_type": "markdown",
   "id": "3099d1a9",
   "metadata": {},
   "source": [
    "#### part ii.)"
   ]
  },
  {
   "cell_type": "code",
   "execution_count": 2,
   "id": "1fc68189",
   "metadata": {},
   "outputs": [
    {
     "name": "stdout",
     "output_type": "stream",
     "text": [
      "<Response [200]>\n"
     ]
    }
   ],
   "source": [
    "page_4=requests.get('https://www.icc-cricket.com/rankings/mens/player-rankings/odi/batting')\n",
    "print(page_4)\n",
    "\n",
    "soup_4=BeautifulSoup(page_4.content)"
   ]
  },
  {
   "cell_type": "code",
   "execution_count": 3,
   "id": "770817ae",
   "metadata": {},
   "outputs": [
    {
     "name": "stdout",
     "output_type": "stream",
     "text": [
      "['Babar Azam', 'Virat Kohli', 'Imam-ul-Haq', 'Rohit Sharma', 'Quinton de Kock', 'Jonny Bairstow', 'Ross Taylor', 'Rassie van der Dussen', 'David Warner', 'Aaron Finch']\n"
     ]
    }
   ],
   "source": [
    "player_name=soup_4.find_all('div',class_='rankings-block__banner--name-large')\n",
    "\n",
    "column_name=[]\n",
    "for i in player_name:\n",
    "    column_name.append(i.text.strip())\n",
    "\n",
    "player_name=soup_4.find_all('td',class_='table-body__cell rankings-table__name name')\n",
    "\n",
    "for i in player_name:\n",
    "    column_name.append(i.text.strip())\n",
    "column_name=column_name[0:10]\n",
    "print(column_name)"
   ]
  },
  {
   "cell_type": "code",
   "execution_count": 4,
   "id": "f29964b7",
   "metadata": {},
   "outputs": [
    {
     "name": "stdout",
     "output_type": "stream",
     "text": [
      "['PAK', 'IND', 'PAK', 'IND', 'SA', 'ENG', 'NZ', 'SA', 'AUS', 'AUS']\n"
     ]
    }
   ],
   "source": [
    "player_country=soup_4.find_all('div',class_='rankings-block__banner--nationality')\n",
    "\n",
    "column_country=[]\n",
    "for i in player_country:\n",
    "    column_country.append(i.text.strip())\n",
    "\n",
    "player_country=soup_4.find_all('td',class_='table-body__cell nationality-logo rankings-table__team')\n",
    "\n",
    "for i in player_country:\n",
    "    column_country.append(i.text.strip())\n",
    "column_country=column_country[0:10]\n",
    "print(column_country)"
   ]
  },
  {
   "cell_type": "code",
   "execution_count": 5,
   "id": "1595051f",
   "metadata": {},
   "outputs": [
    {
     "name": "stdout",
     "output_type": "stream",
     "text": [
      "['891', '811', '795', '791', '789', '775', '775', '769', '750', '745']\n"
     ]
    }
   ],
   "source": [
    "player_rating= soup_4.find_all('div',class_='rankings-block__banner--rating')\n",
    "\n",
    "column_rating=[]\n",
    "for i in player_rating:\n",
    "    column_rating.append(i.text.strip())\n",
    "    \n",
    "player_rating =soup_4.find_all('td' ,class_='table-body__cell rating')\n",
    "for i in player_rating:\n",
    "    column_rating.append(i.text.strip())\n",
    "column_rating=column_rating[0:10]\n",
    "print(column_rating)\n",
    "\n"
   ]
  },
  {
   "cell_type": "code",
   "execution_count": 6,
   "id": "19aa1029",
   "metadata": {},
   "outputs": [
    {
     "data": {
      "text/html": [
       "<div>\n",
       "<style scoped>\n",
       "    .dataframe tbody tr th:only-of-type {\n",
       "        vertical-align: middle;\n",
       "    }\n",
       "\n",
       "    .dataframe tbody tr th {\n",
       "        vertical-align: top;\n",
       "    }\n",
       "\n",
       "    .dataframe thead th {\n",
       "        text-align: right;\n",
       "    }\n",
       "</style>\n",
       "<table border=\"1\" class=\"dataframe\">\n",
       "  <thead>\n",
       "    <tr style=\"text-align: right;\">\n",
       "      <th></th>\n",
       "      <th>Names</th>\n",
       "      <th>Team</th>\n",
       "      <th>Rating</th>\n",
       "    </tr>\n",
       "  </thead>\n",
       "  <tbody>\n",
       "    <tr>\n",
       "      <th>0</th>\n",
       "      <td>Babar Azam</td>\n",
       "      <td>PAK</td>\n",
       "      <td>891</td>\n",
       "    </tr>\n",
       "    <tr>\n",
       "      <th>1</th>\n",
       "      <td>Virat Kohli</td>\n",
       "      <td>IND</td>\n",
       "      <td>811</td>\n",
       "    </tr>\n",
       "    <tr>\n",
       "      <th>2</th>\n",
       "      <td>Imam-ul-Haq</td>\n",
       "      <td>PAK</td>\n",
       "      <td>795</td>\n",
       "    </tr>\n",
       "    <tr>\n",
       "      <th>3</th>\n",
       "      <td>Rohit Sharma</td>\n",
       "      <td>IND</td>\n",
       "      <td>791</td>\n",
       "    </tr>\n",
       "    <tr>\n",
       "      <th>4</th>\n",
       "      <td>Quinton de Kock</td>\n",
       "      <td>SA</td>\n",
       "      <td>789</td>\n",
       "    </tr>\n",
       "    <tr>\n",
       "      <th>5</th>\n",
       "      <td>Jonny Bairstow</td>\n",
       "      <td>ENG</td>\n",
       "      <td>775</td>\n",
       "    </tr>\n",
       "    <tr>\n",
       "      <th>6</th>\n",
       "      <td>Ross Taylor</td>\n",
       "      <td>NZ</td>\n",
       "      <td>775</td>\n",
       "    </tr>\n",
       "    <tr>\n",
       "      <th>7</th>\n",
       "      <td>Rassie van der Dussen</td>\n",
       "      <td>SA</td>\n",
       "      <td>769</td>\n",
       "    </tr>\n",
       "    <tr>\n",
       "      <th>8</th>\n",
       "      <td>David Warner</td>\n",
       "      <td>AUS</td>\n",
       "      <td>750</td>\n",
       "    </tr>\n",
       "    <tr>\n",
       "      <th>9</th>\n",
       "      <td>Aaron Finch</td>\n",
       "      <td>AUS</td>\n",
       "      <td>745</td>\n",
       "    </tr>\n",
       "  </tbody>\n",
       "</table>\n",
       "</div>"
      ],
      "text/plain": [
       "                   Names Team Rating\n",
       "0             Babar Azam  PAK    891\n",
       "1            Virat Kohli  IND    811\n",
       "2            Imam-ul-Haq  PAK    795\n",
       "3           Rohit Sharma  IND    791\n",
       "4        Quinton de Kock   SA    789\n",
       "5         Jonny Bairstow  ENG    775\n",
       "6            Ross Taylor   NZ    775\n",
       "7  Rassie van der Dussen   SA    769\n",
       "8           David Warner  AUS    750\n",
       "9            Aaron Finch  AUS    745"
      ]
     },
     "execution_count": 6,
     "metadata": {},
     "output_type": "execute_result"
    }
   ],
   "source": [
    "Batsmen10=pd.DataFrame({})\n",
    "Batsmen10['Names']=column_name\n",
    "Batsmen10['Team']=column_country\n",
    "Batsmen10['Rating']=column_rating\n",
    "\n",
    "Batsmen10"
   ]
  },
  {
   "cell_type": "markdown",
   "id": "6d87e723",
   "metadata": {},
   "source": [
    "#### part iii.)"
   ]
  },
  {
   "cell_type": "code",
   "execution_count": 7,
   "id": "df8f061f",
   "metadata": {},
   "outputs": [
    {
     "name": "stdout",
     "output_type": "stream",
     "text": [
      "<Response [200]>\n"
     ]
    }
   ],
   "source": [
    "page_42=requests.get('https://www.icc-cricket.com/rankings/mens/player-rankings/odi/bowling')\n",
    "print(page_42)\n",
    "\n",
    "soup_42=BeautifulSoup(page_42.content)"
   ]
  },
  {
   "cell_type": "code",
   "execution_count": 8,
   "id": "082760cb",
   "metadata": {},
   "outputs": [
    {
     "name": "stdout",
     "output_type": "stream",
     "text": [
      "['Trent Boult', 'Chris Woakes', 'Josh Hazlewood', 'Matt Henry', 'Mujeeb Ur Rahman', 'Jasprit Bumrah', 'Shaheen Afridi', 'Mehedi Hasan', 'Shakib Al Hasan', 'Rashid Khan']\n"
     ]
    }
   ],
   "source": [
    "bowlers_name=soup_42.find_all('div',class_='rankings-block__banner--name-large')\n",
    "\n",
    "column_name=[]\n",
    "\n",
    "for i in bowlers_name:\n",
    "    column_name.append(i.text.strip())\n",
    "\n",
    "bowlers_name=soup_42.find_all('td',class_='table-body__cell rankings-table__name name')\n",
    "\n",
    "for i in bowlers_name:\n",
    "    column_name.append(i.text.strip())\n",
    "column_name=column_name[0:10]\n",
    "print(column_name)\n",
    "''' As  in  this we can see  that for scraping the  bowlers names we have 2 diffrent \n",
    "classes with  2 diffrent tags thus  we have bowlers_name variable for multiple use to scrape the names\n",
    "with  2  diffrent classes and tags and last we  are  assigning the column_names to column_names\n",
    "to  get everything  in  the  same variable and  with in order of 0-10'''"
   ]
  },
  {
   "cell_type": "code",
   "execution_count": 9,
   "id": "9996d3e7",
   "metadata": {},
   "outputs": [
    {
     "name": "stdout",
     "output_type": "stream",
     "text": [
      "['NZ', 'ENG', 'AUS', 'NZ', 'AFG', 'IND', 'PAK', 'BAN', 'BAN', 'AFG']\n"
     ]
    }
   ],
   "source": [
    "bowler_country=soup_42.find_all('div',class_='rankings-block__banner--nationality')\n",
    "\n",
    "column_country=[]\n",
    "for i in bowler_country:\n",
    "    column_country.append(i.text.strip().replace('\\n','')) # strip is  used to  remove  the unwanted  items extracted\n",
    "\n",
    "\n",
    "bowler_country=soup_42.find_all('td',class_='table-body__cell nationality-logo rankings-table__team')\n",
    "\n",
    "for i in bowler_country:\n",
    "    column_country.append(i.text.strip())\n",
    "column_country=column_country[0:10]\n",
    "print(column_country)"
   ]
  },
  {
   "cell_type": "code",
   "execution_count": 11,
   "id": "a3dbf4bc",
   "metadata": {},
   "outputs": [
    {
     "data": {
      "text/plain": [
       "['726', '700', '698', '683', '681', '679', '671', '661', '657', '650']"
      ]
     },
     "execution_count": 11,
     "metadata": {},
     "output_type": "execute_result"
    }
   ],
   "source": [
    "bowler_rating=soup_42.find_all('div',class_='rankings-block__banner--rating')\n",
    "\n",
    "column_rating=[]\n",
    "for i in bowler_rating:\n",
    "    column_rating.append(i.text.strip())\n",
    "column_rating\n",
    "\n",
    "bowler_rating=soup_42.find_all('td',class_='table-body__cell rating')\n",
    "\n",
    "for i in bowler_rating:\n",
    "    column_rating.append(i.text.strip())\n",
    "column_rating=column_rating[0:10]\n",
    "column_rating"
   ]
  },
  {
   "cell_type": "code",
   "execution_count": 12,
   "id": "082e5d09",
   "metadata": {},
   "outputs": [
    {
     "data": {
      "text/html": [
       "<div>\n",
       "<style scoped>\n",
       "    .dataframe tbody tr th:only-of-type {\n",
       "        vertical-align: middle;\n",
       "    }\n",
       "\n",
       "    .dataframe tbody tr th {\n",
       "        vertical-align: top;\n",
       "    }\n",
       "\n",
       "    .dataframe thead th {\n",
       "        text-align: right;\n",
       "    }\n",
       "</style>\n",
       "<table border=\"1\" class=\"dataframe\">\n",
       "  <thead>\n",
       "    <tr style=\"text-align: right;\">\n",
       "      <th></th>\n",
       "      <th>Names</th>\n",
       "      <th>Team</th>\n",
       "      <th>Rating</th>\n",
       "    </tr>\n",
       "  </thead>\n",
       "  <tbody>\n",
       "    <tr>\n",
       "      <th>0</th>\n",
       "      <td>Trent Boult</td>\n",
       "      <td>NZ</td>\n",
       "      <td>726</td>\n",
       "    </tr>\n",
       "    <tr>\n",
       "      <th>1</th>\n",
       "      <td>Chris Woakes</td>\n",
       "      <td>ENG</td>\n",
       "      <td>700</td>\n",
       "    </tr>\n",
       "    <tr>\n",
       "      <th>2</th>\n",
       "      <td>Josh Hazlewood</td>\n",
       "      <td>AUS</td>\n",
       "      <td>698</td>\n",
       "    </tr>\n",
       "    <tr>\n",
       "      <th>3</th>\n",
       "      <td>Matt Henry</td>\n",
       "      <td>NZ</td>\n",
       "      <td>683</td>\n",
       "    </tr>\n",
       "    <tr>\n",
       "      <th>4</th>\n",
       "      <td>Mujeeb Ur Rahman</td>\n",
       "      <td>AFG</td>\n",
       "      <td>681</td>\n",
       "    </tr>\n",
       "    <tr>\n",
       "      <th>5</th>\n",
       "      <td>Jasprit Bumrah</td>\n",
       "      <td>IND</td>\n",
       "      <td>679</td>\n",
       "    </tr>\n",
       "    <tr>\n",
       "      <th>6</th>\n",
       "      <td>Shaheen Afridi</td>\n",
       "      <td>PAK</td>\n",
       "      <td>671</td>\n",
       "    </tr>\n",
       "    <tr>\n",
       "      <th>7</th>\n",
       "      <td>Mehedi Hasan</td>\n",
       "      <td>BAN</td>\n",
       "      <td>661</td>\n",
       "    </tr>\n",
       "    <tr>\n",
       "      <th>8</th>\n",
       "      <td>Shakib Al Hasan</td>\n",
       "      <td>BAN</td>\n",
       "      <td>657</td>\n",
       "    </tr>\n",
       "    <tr>\n",
       "      <th>9</th>\n",
       "      <td>Rashid Khan</td>\n",
       "      <td>AFG</td>\n",
       "      <td>650</td>\n",
       "    </tr>\n",
       "  </tbody>\n",
       "</table>\n",
       "</div>"
      ],
      "text/plain": [
       "              Names Team Rating\n",
       "0       Trent Boult   NZ    726\n",
       "1      Chris Woakes  ENG    700\n",
       "2    Josh Hazlewood  AUS    698\n",
       "3        Matt Henry   NZ    683\n",
       "4  Mujeeb Ur Rahman  AFG    681\n",
       "5    Jasprit Bumrah  IND    679\n",
       "6    Shaheen Afridi  PAK    671\n",
       "7      Mehedi Hasan  BAN    661\n",
       "8   Shakib Al Hasan  BAN    657\n",
       "9       Rashid Khan  AFG    650"
      ]
     },
     "execution_count": 12,
     "metadata": {},
     "output_type": "execute_result"
    }
   ],
   "source": [
    "Bowler10=pd.DataFrame({})\n",
    "Bowler10['Names']=column_name\n",
    "Bowler10['Team']=column_country\n",
    "Bowler10['Rating']=column_rating\n",
    "\n",
    "Bowler10"
   ]
  },
  {
   "cell_type": "markdown",
   "id": "b0c331bd",
   "metadata": {},
   "source": [
    "#### Answer 6 :: python program to scrape cricket rankings from ‘www.icc-cricket.com’.\n",
    "#### You have to scrape: i) Top 10 ODI teams in women’s cricket along with the records for matches, \n",
    "#### points and rating. ii) Top 10 women’s ODI players along with the records of their team and rating. \n",
    "#### iii) Top 10 women’s ODI all-rounder along with the records of their team and rating.\n",
    "\n"
   ]
  },
  {
   "cell_type": "markdown",
   "id": "d537f66e",
   "metadata": {},
   "source": [
    "### part i.)"
   ]
  },
  {
   "cell_type": "code",
   "execution_count": 13,
   "id": "3ae86dd9",
   "metadata": {},
   "outputs": [
    {
     "name": "stdout",
     "output_type": "stream",
     "text": [
      "<Response [200]>\n"
     ]
    }
   ],
   "source": [
    "page5=requests.get('https://www.icc-cricket.com/rankings/womens/team-rankings/odi')\n",
    "print(page5)\n",
    "\n",
    "soup5=BeautifulSoup(page5.content)"
   ]
  },
  {
   "cell_type": "code",
   "execution_count": 14,
   "id": "c361e559",
   "metadata": {},
   "outputs": [
    {
     "name": "stdout",
     "output_type": "stream",
     "text": [
      "['Australia', 'South Africa', 'England', 'India', 'New Zealand', 'West Indies', 'Bangladesh', 'Pakistan', 'Ireland', 'Sri Lanka']\n"
     ]
    }
   ],
   "source": [
    "team_name=soup5.find_all('span',class_='u-hide-phablet')\n",
    "\n",
    "column_team=[]\n",
    "for i in team_name:\n",
    "    column_team.append(i.text.strip('[]'))\n",
    "column_team=column_team[:10]  \n",
    "print(column_team)"
   ]
  },
  {
   "cell_type": "code",
   "execution_count": 16,
   "id": "bf22f83d",
   "metadata": {},
   "outputs": [
    {
     "name": "stdout",
     "output_type": "stream",
     "text": [
      "['29', '28', '30', '29', '31', '28', '12', '26', '5', '5']\n"
     ]
    }
   ],
   "source": [
    "team_matches=soup5.find_all('td',class_='rankings-block__banner--matches')\n",
    "\n",
    "column_matches=[]\n",
    "for i in team_matches:\n",
    "    column_matches.append(i.text.strip())\n",
    "column_matches\n",
    "\n",
    "team_match=soup5.find_all('td',class_='table-body__cell u-center-text')\n",
    "\n",
    "for i in range(0,len(team_match),2):\n",
    "    column_matches.append(team_match[i].text.strip())\n",
    "column_matches=column_matches[0:10]\n",
    "print(column_matches)"
   ]
  },
  {
   "cell_type": "code",
   "execution_count": 18,
   "id": "bbdf47fc",
   "metadata": {},
   "outputs": [
    {
     "name": "stdout",
     "output_type": "stream",
     "text": [
      "['4,840', '3,504', '3,533', '2,878', '3,030', '2,481', '936', '1,752', '240', '233']\n"
     ]
    }
   ],
   "source": [
    "team_points=soup5.find_all('td',class_='rankings-block__banner--points')\n",
    "\n",
    "column_points=[]\n",
    "for i in team_points:\n",
    "    column_points.append(i.text.strip())\n",
    "column_points\n",
    "\n",
    "team_point=soup5.find_all('td',class_='table-body__cell u-center-text')\n",
    "\n",
    "for i in range(1,len(team_point),2): # here  we are using range()& len()to print the  desired result with  the help of\n",
    "                                       #of numer skipping as match and points both  have same class and tag\n",
    "    column_points.append(team_point[i].text.strip())\n",
    "column_points=column_points[0:10]\n",
    "print(column_points)"
   ]
  },
  {
   "cell_type": "code",
   "execution_count": 19,
   "id": "47056b91",
   "metadata": {},
   "outputs": [
    {
     "data": {
      "text/plain": [
       "['167', '125', '118', '99', '98', '89', '78', '67', '48', '47']"
      ]
     },
     "execution_count": 19,
     "metadata": {},
     "output_type": "execute_result"
    }
   ],
   "source": [
    "team_rating=soup5.find_all('td',class_='rankings-block__banner--rating u-text-right')\n",
    "\n",
    "column_rating=[]\n",
    "for i in team_rating:\n",
    "    column_rating.append(i.text.strip())\n",
    "\n",
    "\n",
    "team_rating=soup5.find_all('td',class_='table-body__cell u-text-right rating')\n",
    "\n",
    "for i in team_rating:\n",
    "    column_rating.append(i.text.strip())\n",
    "column_rating=column_rating[0:10]\n",
    "column_rating"
   ]
  },
  {
   "cell_type": "code",
   "execution_count": 23,
   "id": "f67af051",
   "metadata": {},
   "outputs": [
    {
     "data": {
      "text/html": [
       "<div>\n",
       "<style scoped>\n",
       "    .dataframe tbody tr th:only-of-type {\n",
       "        vertical-align: middle;\n",
       "    }\n",
       "\n",
       "    .dataframe tbody tr th {\n",
       "        vertical-align: top;\n",
       "    }\n",
       "\n",
       "    .dataframe thead th {\n",
       "        text-align: right;\n",
       "    }\n",
       "</style>\n",
       "<table border=\"1\" class=\"dataframe\">\n",
       "  <thead>\n",
       "    <tr style=\"text-align: right;\">\n",
       "      <th></th>\n",
       "      <th>Team</th>\n",
       "      <th>Matches</th>\n",
       "      <th>Points</th>\n",
       "      <th>Ratings</th>\n",
       "    </tr>\n",
       "  </thead>\n",
       "  <tbody>\n",
       "    <tr>\n",
       "      <th>0</th>\n",
       "      <td>Australia</td>\n",
       "      <td>29</td>\n",
       "      <td>4,840</td>\n",
       "      <td>167</td>\n",
       "    </tr>\n",
       "    <tr>\n",
       "      <th>1</th>\n",
       "      <td>South Africa</td>\n",
       "      <td>28</td>\n",
       "      <td>3,504</td>\n",
       "      <td>125</td>\n",
       "    </tr>\n",
       "    <tr>\n",
       "      <th>2</th>\n",
       "      <td>England</td>\n",
       "      <td>30</td>\n",
       "      <td>3,533</td>\n",
       "      <td>118</td>\n",
       "    </tr>\n",
       "    <tr>\n",
       "      <th>3</th>\n",
       "      <td>India</td>\n",
       "      <td>29</td>\n",
       "      <td>2,878</td>\n",
       "      <td>99</td>\n",
       "    </tr>\n",
       "    <tr>\n",
       "      <th>4</th>\n",
       "      <td>New Zealand</td>\n",
       "      <td>31</td>\n",
       "      <td>3,030</td>\n",
       "      <td>98</td>\n",
       "    </tr>\n",
       "    <tr>\n",
       "      <th>5</th>\n",
       "      <td>West Indies</td>\n",
       "      <td>28</td>\n",
       "      <td>2,481</td>\n",
       "      <td>89</td>\n",
       "    </tr>\n",
       "    <tr>\n",
       "      <th>6</th>\n",
       "      <td>Bangladesh</td>\n",
       "      <td>12</td>\n",
       "      <td>936</td>\n",
       "      <td>78</td>\n",
       "    </tr>\n",
       "    <tr>\n",
       "      <th>7</th>\n",
       "      <td>Pakistan</td>\n",
       "      <td>26</td>\n",
       "      <td>1,752</td>\n",
       "      <td>67</td>\n",
       "    </tr>\n",
       "    <tr>\n",
       "      <th>8</th>\n",
       "      <td>Ireland</td>\n",
       "      <td>5</td>\n",
       "      <td>240</td>\n",
       "      <td>48</td>\n",
       "    </tr>\n",
       "    <tr>\n",
       "      <th>9</th>\n",
       "      <td>Sri Lanka</td>\n",
       "      <td>5</td>\n",
       "      <td>233</td>\n",
       "      <td>47</td>\n",
       "    </tr>\n",
       "  </tbody>\n",
       "</table>\n",
       "</div>"
      ],
      "text/plain": [
       "           Team Matches Points Ratings\n",
       "0     Australia      29  4,840     167\n",
       "1  South Africa      28  3,504     125\n",
       "2       England      30  3,533     118\n",
       "3         India      29  2,878      99\n",
       "4   New Zealand      31  3,030      98\n",
       "5   West Indies      28  2,481      89\n",
       "6    Bangladesh      12    936      78\n",
       "7      Pakistan      26  1,752      67\n",
       "8       Ireland       5    240      48\n",
       "9     Sri Lanka       5    233      47"
      ]
     },
     "execution_count": 23,
     "metadata": {},
     "output_type": "execute_result"
    }
   ],
   "source": [
    "Women10=pd.DataFrame({})\n",
    "Women10['Team']=column_team\n",
    "Women10['Matches']=column_matches\n",
    "Women10['Points']=column_points\n",
    "Women10['Ratings']=column_rating\n",
    "Women10"
   ]
  },
  {
   "cell_type": "markdown",
   "id": "e0da1d53",
   "metadata": {},
   "source": [
    "#### part ii.)"
   ]
  },
  {
   "cell_type": "code",
   "execution_count": 25,
   "id": "d818c0ae",
   "metadata": {},
   "outputs": [
    {
     "name": "stdout",
     "output_type": "stream",
     "text": [
      "<Response [200]>\n"
     ]
    }
   ],
   "source": [
    "page51=requests.get('https://www.icc-cricket.com/rankings/womens/player-rankings/odi/batting')\n",
    "print(page51)\n",
    "\n",
    "soup51=BeautifulSoup(page51.content)"
   ]
  },
  {
   "cell_type": "code",
   "execution_count": 26,
   "id": "9689b0db",
   "metadata": {},
   "outputs": [
    {
     "name": "stdout",
     "output_type": "stream",
     "text": [
      "['Alyssa Healy', 'Natalie Sciver', 'Beth Mooney', 'Laura Wolvaardt', 'Meg Lanning', 'Rachael Haynes', 'Mithali Raj', 'Amy Satterthwaite', 'Smriti Mandhana', 'Tammy Beaumont']\n"
     ]
    }
   ],
   "source": [
    "player_name=soup51.find_all('div',class_='rankings-block__banner--name-large')\n",
    "\n",
    "column_name=[]\n",
    "for i in player_name:\n",
    "    column_name.append(i.text.strip())\n",
    "\n",
    "player_name=soup51.find_all('td',class_='table-body__cell rankings-table__name name')\n",
    "\n",
    "for i in player_name:\n",
    "    column_name.append(i.text.strip())\n",
    "column_name=column_name[0:10]\n",
    "print(column_name)"
   ]
  },
  {
   "cell_type": "code",
   "execution_count": 32,
   "id": "0d775256",
   "metadata": {},
   "outputs": [
    {
     "name": "stdout",
     "output_type": "stream",
     "text": [
      "['AUS', 'ENG', 'AUS', 'SA', 'AUS', 'AUS', 'IND', 'NZ', 'IND', 'ENG']\n"
     ]
    }
   ],
   "source": [
    "player_country=soup51.find_all('div',class_='rankings-block__banner--nationality')\n",
    "\n",
    "column_country=[]\n",
    "for i in player_country:\n",
    "    column_country.append(i.text.strip())\n",
    "\n",
    "player_country=soup51.find_all('td',class_='table-body__cell nationality-logo rankings-table__team')\n",
    "\n",
    "for i in player_country:\n",
    "    column_country.append(i.text.strip())\n",
    "column_country=column_country[0:10]\n",
    "print(column_country)"
   ]
  },
  {
   "cell_type": "code",
   "execution_count": 33,
   "id": "6e3a0d23",
   "metadata": {},
   "outputs": [
    {
     "name": "stdout",
     "output_type": "stream",
     "text": [
      "['785', '750', '748', '722', '710', '701', '686', '681', '669', '659']\n"
     ]
    }
   ],
   "source": [
    "player_rating=soup51.find_all('div',class_='rankings-block__banner--rating')\n",
    "\n",
    "column_rating=[]\n",
    "for i in player_rating:\n",
    "    column_rating.append(i.text.strip())\n",
    "\n",
    "player_rating=soup51.find_all('td',class_='table-body__cell rating')\n",
    "\n",
    "for i in player_rating:\n",
    "    column_rating.append(i.text.strip())\n",
    "column_rating=column_rating[0:10]\n",
    "print(column_rating)"
   ]
  },
  {
   "cell_type": "code",
   "execution_count": 34,
   "id": "04503d9f",
   "metadata": {},
   "outputs": [
    {
     "data": {
      "text/html": [
       "<div>\n",
       "<style scoped>\n",
       "    .dataframe tbody tr th:only-of-type {\n",
       "        vertical-align: middle;\n",
       "    }\n",
       "\n",
       "    .dataframe tbody tr th {\n",
       "        vertical-align: top;\n",
       "    }\n",
       "\n",
       "    .dataframe thead th {\n",
       "        text-align: right;\n",
       "    }\n",
       "</style>\n",
       "<table border=\"1\" class=\"dataframe\">\n",
       "  <thead>\n",
       "    <tr style=\"text-align: right;\">\n",
       "      <th></th>\n",
       "      <th>Names</th>\n",
       "      <th>Team</th>\n",
       "      <th>Rating</th>\n",
       "    </tr>\n",
       "  </thead>\n",
       "  <tbody>\n",
       "    <tr>\n",
       "      <th>0</th>\n",
       "      <td>Alyssa Healy</td>\n",
       "      <td>AUS</td>\n",
       "      <td>785</td>\n",
       "    </tr>\n",
       "    <tr>\n",
       "      <th>1</th>\n",
       "      <td>Natalie Sciver</td>\n",
       "      <td>ENG</td>\n",
       "      <td>750</td>\n",
       "    </tr>\n",
       "    <tr>\n",
       "      <th>2</th>\n",
       "      <td>Beth Mooney</td>\n",
       "      <td>AUS</td>\n",
       "      <td>748</td>\n",
       "    </tr>\n",
       "    <tr>\n",
       "      <th>3</th>\n",
       "      <td>Laura Wolvaardt</td>\n",
       "      <td>SA</td>\n",
       "      <td>722</td>\n",
       "    </tr>\n",
       "    <tr>\n",
       "      <th>4</th>\n",
       "      <td>Meg Lanning</td>\n",
       "      <td>AUS</td>\n",
       "      <td>710</td>\n",
       "    </tr>\n",
       "    <tr>\n",
       "      <th>5</th>\n",
       "      <td>Rachael Haynes</td>\n",
       "      <td>AUS</td>\n",
       "      <td>701</td>\n",
       "    </tr>\n",
       "    <tr>\n",
       "      <th>6</th>\n",
       "      <td>Mithali Raj</td>\n",
       "      <td>IND</td>\n",
       "      <td>686</td>\n",
       "    </tr>\n",
       "    <tr>\n",
       "      <th>7</th>\n",
       "      <td>Amy Satterthwaite</td>\n",
       "      <td>NZ</td>\n",
       "      <td>681</td>\n",
       "    </tr>\n",
       "    <tr>\n",
       "      <th>8</th>\n",
       "      <td>Smriti Mandhana</td>\n",
       "      <td>IND</td>\n",
       "      <td>669</td>\n",
       "    </tr>\n",
       "    <tr>\n",
       "      <th>9</th>\n",
       "      <td>Tammy Beaumont</td>\n",
       "      <td>ENG</td>\n",
       "      <td>659</td>\n",
       "    </tr>\n",
       "  </tbody>\n",
       "</table>\n",
       "</div>"
      ],
      "text/plain": [
       "               Names Team Rating\n",
       "0       Alyssa Healy  AUS    785\n",
       "1     Natalie Sciver  ENG    750\n",
       "2        Beth Mooney  AUS    748\n",
       "3    Laura Wolvaardt   SA    722\n",
       "4        Meg Lanning  AUS    710\n",
       "5     Rachael Haynes  AUS    701\n",
       "6        Mithali Raj  IND    686\n",
       "7  Amy Satterthwaite   NZ    681\n",
       "8    Smriti Mandhana  IND    669\n",
       "9     Tammy Beaumont  ENG    659"
      ]
     },
     "execution_count": 34,
     "metadata": {},
     "output_type": "execute_result"
    }
   ],
   "source": [
    "WomanBatsman=pd.DataFrame({})\n",
    "WomanBatsman['Names']=column_name\n",
    "WomanBatsman['Team']=column_country\n",
    "WomanBatsman['Rating']=column_rating\n",
    "\n",
    "WomanBatsman"
   ]
  },
  {
   "cell_type": "markdown",
   "id": "eaea05fd",
   "metadata": {},
   "source": [
    "#### part iii.)"
   ]
  },
  {
   "cell_type": "code",
   "execution_count": 35,
   "id": "c35813cc",
   "metadata": {},
   "outputs": [
    {
     "name": "stdout",
     "output_type": "stream",
     "text": [
      "<Response [200]>\n"
     ]
    }
   ],
   "source": [
    "page52=requests.get('https://www.icc-cricket.com/rankings/womens/player-rankings/odi/all-rounder')\n",
    "print(page52)\n",
    "\n",
    "soup52=BeautifulSoup(page52.content)"
   ]
  },
  {
   "cell_type": "code",
   "execution_count": 36,
   "id": "c36aa40e",
   "metadata": {},
   "outputs": [
    {
     "name": "stdout",
     "output_type": "stream",
     "text": [
      "['Natalie Sciver', 'Ellyse Perry', 'Marizanne Kapp', 'Hayley Matthews', 'Amelia Kerr', 'Ashleigh Gardner', 'Deepti Sharma', 'Jess Jonassen', 'Katherine Brunt', 'Jhulan Goswami']\n"
     ]
    }
   ],
   "source": [
    "player_name=soup52.find_all('div',class_='rankings-block__banner--name-large')\n",
    "\n",
    "column_name=[]\n",
    "for i in player_name:\n",
    "    column_name.append(i.text.strip())\n",
    "\n",
    "player_name=soup52.find_all('td',class_='table-body__cell rankings-table__name name')\n",
    "\n",
    "for i in player_name:\n",
    "    column_name.append(i.text.strip())\n",
    "column_name=column_name[0:10]\n",
    "print(column_name)"
   ]
  },
  {
   "cell_type": "code",
   "execution_count": 37,
   "id": "a2645dd1",
   "metadata": {},
   "outputs": [
    {
     "name": "stdout",
     "output_type": "stream",
     "text": [
      "['ENG', 'AUS', 'SA', 'WI', 'NZ', 'AUS', 'IND', 'AUS', 'ENG', 'IND']\n"
     ]
    }
   ],
   "source": [
    "player_country=soup52.find_all('div',class_='rankings-block__banner--nationality')\n",
    "\n",
    "column_country=[]\n",
    "for i in player_country:\n",
    "    column_country.append(i.text.strip())\n",
    "\n",
    "player_country=soup52.find_all('td',class_='table-body__cell nationality-logo rankings-table__team')\n",
    "\n",
    "for i in player_country:\n",
    "    column_country.append(i.text.strip())\n",
    "column_country=column_country[0:10]\n",
    "print(column_country)"
   ]
  },
  {
   "cell_type": "code",
   "execution_count": 38,
   "id": "63aacef7",
   "metadata": {},
   "outputs": [
    {
     "name": "stdout",
     "output_type": "stream",
     "text": [
      "['393', '374', '359', '338', '335', '269', '249', '245', '221', '217']\n"
     ]
    }
   ],
   "source": [
    "player_rating=soup52.find_all('div',class_='rankings-block__banner--rating')\n",
    "\n",
    "column_rating=[]\n",
    "for i in player_rating:\n",
    "    column_rating.append(i.text.strip())\n",
    "\n",
    "player_rating=soup52.find_all('td',class_='table-body__cell rating')\n",
    "\n",
    "for i in player_rating:\n",
    "    column_rating.append(i.text.strip())\n",
    "column_rating=column_rating[0:10]\n",
    "print(column_rating)"
   ]
  },
  {
   "cell_type": "code",
   "execution_count": 39,
   "id": "8e91afe9",
   "metadata": {},
   "outputs": [
    {
     "data": {
      "text/html": [
       "<div>\n",
       "<style scoped>\n",
       "    .dataframe tbody tr th:only-of-type {\n",
       "        vertical-align: middle;\n",
       "    }\n",
       "\n",
       "    .dataframe tbody tr th {\n",
       "        vertical-align: top;\n",
       "    }\n",
       "\n",
       "    .dataframe thead th {\n",
       "        text-align: right;\n",
       "    }\n",
       "</style>\n",
       "<table border=\"1\" class=\"dataframe\">\n",
       "  <thead>\n",
       "    <tr style=\"text-align: right;\">\n",
       "      <th></th>\n",
       "      <th>Names</th>\n",
       "      <th>Team</th>\n",
       "      <th>Rating</th>\n",
       "    </tr>\n",
       "  </thead>\n",
       "  <tbody>\n",
       "    <tr>\n",
       "      <th>0</th>\n",
       "      <td>Natalie Sciver</td>\n",
       "      <td>ENG</td>\n",
       "      <td>393</td>\n",
       "    </tr>\n",
       "    <tr>\n",
       "      <th>1</th>\n",
       "      <td>Ellyse Perry</td>\n",
       "      <td>AUS</td>\n",
       "      <td>374</td>\n",
       "    </tr>\n",
       "    <tr>\n",
       "      <th>2</th>\n",
       "      <td>Marizanne Kapp</td>\n",
       "      <td>SA</td>\n",
       "      <td>359</td>\n",
       "    </tr>\n",
       "    <tr>\n",
       "      <th>3</th>\n",
       "      <td>Hayley Matthews</td>\n",
       "      <td>WI</td>\n",
       "      <td>338</td>\n",
       "    </tr>\n",
       "    <tr>\n",
       "      <th>4</th>\n",
       "      <td>Amelia Kerr</td>\n",
       "      <td>NZ</td>\n",
       "      <td>335</td>\n",
       "    </tr>\n",
       "    <tr>\n",
       "      <th>5</th>\n",
       "      <td>Ashleigh Gardner</td>\n",
       "      <td>AUS</td>\n",
       "      <td>269</td>\n",
       "    </tr>\n",
       "    <tr>\n",
       "      <th>6</th>\n",
       "      <td>Deepti Sharma</td>\n",
       "      <td>IND</td>\n",
       "      <td>249</td>\n",
       "    </tr>\n",
       "    <tr>\n",
       "      <th>7</th>\n",
       "      <td>Jess Jonassen</td>\n",
       "      <td>AUS</td>\n",
       "      <td>245</td>\n",
       "    </tr>\n",
       "    <tr>\n",
       "      <th>8</th>\n",
       "      <td>Katherine Brunt</td>\n",
       "      <td>ENG</td>\n",
       "      <td>221</td>\n",
       "    </tr>\n",
       "    <tr>\n",
       "      <th>9</th>\n",
       "      <td>Jhulan Goswami</td>\n",
       "      <td>IND</td>\n",
       "      <td>217</td>\n",
       "    </tr>\n",
       "  </tbody>\n",
       "</table>\n",
       "</div>"
      ],
      "text/plain": [
       "              Names Team Rating\n",
       "0    Natalie Sciver  ENG    393\n",
       "1      Ellyse Perry  AUS    374\n",
       "2    Marizanne Kapp   SA    359\n",
       "3   Hayley Matthews   WI    338\n",
       "4       Amelia Kerr   NZ    335\n",
       "5  Ashleigh Gardner  AUS    269\n",
       "6     Deepti Sharma  IND    249\n",
       "7     Jess Jonassen  AUS    245\n",
       "8   Katherine Brunt  ENG    221\n",
       "9    Jhulan Goswami  IND    217"
      ]
     },
     "execution_count": 39,
     "metadata": {},
     "output_type": "execute_result"
    }
   ],
   "source": [
    "All10=pd.DataFrame({})\n",
    "All10['Names']=column_name\n",
    "All10['Team']=column_country\n",
    "All10['Rating']=column_rating\n",
    "\n",
    "All10"
   ]
  },
  {
   "cell_type": "markdown",
   "id": "116edf43",
   "metadata": {},
   "source": [
    "#### Answer 7 a python program to scrape details of all the posts from coreyms.com."
   ]
  },
  {
   "cell_type": "code",
   "execution_count": 47,
   "id": "93154d79",
   "metadata": {},
   "outputs": [],
   "source": [
    "req= requests.get(\"https://coreyms.com/\").content\n",
    "soup = BeautifulSoup(req, 'lxml')"
   ]
  },
  {
   "cell_type": "code",
   "execution_count": 61,
   "id": "5234c898",
   "metadata": {},
   "outputs": [
    {
     "data": {
      "text/plain": [
       "['Python Tutorial: Zip Files – Creating and Extracting Zip Archives',\n",
       " 'Python Data Science Tutorial: Analyzing the 2019 Stack Overflow Developer Survey',\n",
       " 'Python Multiprocessing Tutorial: Run Code in Parallel Using the Multiprocessing Module',\n",
       " 'Python Threading Tutorial: Run Code Concurrently Using the Threading Module',\n",
       " 'Update (2019-09-03)',\n",
       " 'Python Quick Tip: The Difference Between “==” and “is” (Equality vs Identity)',\n",
       " 'Python Tutorial: Calling External Commands Using the Subprocess Module',\n",
       " 'Visual Studio Code (Windows) – Setting up a Python Development Environment and Complete Overview',\n",
       " 'Visual Studio Code (Mac) – Setting up a Python Development Environment and Complete Overview']"
      ]
     },
     "execution_count": 61,
     "metadata": {},
     "output_type": "execute_result"
    }
   ],
   "source": [
    "heading=[]\n",
    "for i in soup.find_all('h2', class_=\"entry-title\", limit=9):\n",
    "    heading.append(i.text.strip('[]'))\n",
    "heading"
   ]
  },
  {
   "cell_type": "code",
   "execution_count": 60,
   "id": "5df74675",
   "metadata": {},
   "outputs": [
    {
     "data": {
      "text/plain": [
       "['November 19, 2019',\n",
       " 'October 17, 2019',\n",
       " 'September 21, 2019',\n",
       " 'September 12, 2019',\n",
       " 'September 3, 2019',\n",
       " 'August 6, 2019',\n",
       " 'July 24, 2019',\n",
       " 'May 1, 2019',\n",
       " 'May 1, 2019']"
      ]
     },
     "execution_count": 60,
     "metadata": {},
     "output_type": "execute_result"
    }
   ],
   "source": [
    "dates=[]\n",
    "\n",
    "for i in soup.find_all('time',class_=\"entry-time\", limit=9):\n",
    "    dates.append(i.text.strip('[]'))\n",
    "dates"
   ]
  },
  {
   "cell_type": "code",
   "execution_count": 58,
   "id": "e4b771be",
   "metadata": {},
   "outputs": [
    {
     "data": {
      "text/plain": [
       "['In this video, we will be learning how to create and extract zip archives. We will start by using the zipfile module, and then we will see how to do this using the shutil module. We will learn how to do this with single files and directories, as well as learning how to use gzip as well. Let’s get started…',\n",
       " 'In this Python Programming video, we will be learning how to download and analyze real-world data from the 2019 Stack Overflow Developer Survey. This is terrific practice for anyone getting into the data science field. We will learn different ways to analyze this data and also some best practices. Let’s get started…',\n",
       " 'In this Python Programming video, we will be learning how to run code in parallel using the multiprocessing module. We will also look at how to process multiple high-resolution images at the same time using a ProcessPoolExecutor from the concurrent.futures module. Let’s get started…',\n",
       " 'In this Python Programming video, we will be learning how to run threads concurrently using the threading module. We will also look at how to download multiple high-resolution images online using a ThreadPoolExecutor from the concurrent.futures module. Let’s get started…',\n",
       " 'Hey everyone. I wanted to give you an update on my videos. I will be releasing videos on threading and multiprocessing within the next week. Thanks so much for your patience. I currently have a temporary recording studio setup at my Airbnb that will allow me to record and edit the threading/multiprocessing videos. I am going to be moving into my new house in 10 days and once I have my recording studio setup then you can expect much faster video releases. I really appreciate how patient everyone has been while I go through this move, especially those of you who are contributing monthly through YouTube ',\n",
       " 'In this Python Programming Tutorial, we will be learning the difference between using “==” and the “is” keyword when doing comparisons. The difference between these is that “==” checks to see if values are equal, and the “is” keyword checks their identity, which means it’s going to check if the values are identical in terms of being the same object in memory. We’ll learn more in the video. Let’s get started…',\n",
       " 'In this Python Programming Tutorial, we will be learning how to run external commands using the subprocess module from the standard library. We will learn how to run commands, capture the output, handle errors, and also how to pipe output into other commands. Let’s get started…',\n",
       " 'In this Python Programming Tutorial, we will be learning how to set up a Python development environment in VSCode on Windows. VSCode is a very nice free editor for writing Python applications and many developers are now switching over to this editor. In this video, we will learn how to install VSCode, get the Python extension installed, how to change Python interpreters, create virtual environments, format/lint our code, how to use Git within VSCode, how to debug our programs, how unit testing works, and more. We have a lot to cover, so let’s go ahead and get started…VSCode on MacOS – https://youtu.be/06I63_p-2A4Timestamps for topics in this tutorial: Installation – 1:13 Python Extension – 5:48 Switching Interpreters – 10:04 Changing Color Themes – 12:35 VSCode Settings – 16:16 Set Default Python – 21:33 Using Virtual Environments – 25:10 IntelliSense – 29:45 Code Formatting – 32:13 Code Linting – 37:06 Code Runner Extension – 39:42 Git Integration – 47:44 Use Different Terminal – 51:07 Debugging – 58:45 Unit Testing – 1:03:25 Zen Mode – 1:09:55',\n",
       " 'In this Python Programming Tutorial, we will be learning how to set up a Python development environment in VSCode on MacOS. VSCode is a very nice free editor for writing Python applications and many developers are now switching over to this editor. In this video, we will learn how to install VSCode, get the Python extension installed, how to change Python interpreters, create virtual environments, format/lint our code, how to use Git within VSCode, how to debug our programs, how unit testing works, and more. We have a lot to cover, so let’s go ahead and get started…VSCode on Windows – https://youtu.be/-nh9rCzPJ20Timestamps for topics in this tutorial: Installation – 1:11 Python Extension – 6:21 Switching Interpreters – 10:16 Changing Color Themes – 13:08 VSCode Settings – 17:12 Set Default Python – 22:24 Using Virtual Environments – 25:52 IntelliSense – 30:28 Code Formatting – 33:08 Code Linting – 38:01 Code Runner Extension – 40:45 Git Integration – 49:05 Debugging – 58:15 Unit Testing – 1:02:38 Zen Mode – 1:10:42 ']"
      ]
     },
     "execution_count": 58,
     "metadata": {},
     "output_type": "execute_result"
    }
   ],
   "source": [
    "Content=[]\n",
    "\n",
    "for i in soup.find_all('div',class_=\"entry-content\", limit=9):\n",
    "    Content.append(i.text.replace('\\n',''))\n",
    "Content"
   ]
  },
  {
   "cell_type": "code",
   "execution_count": 53,
   "id": "0c977c93",
   "metadata": {},
   "outputs": [
    {
     "data": {
      "text/plain": [
       "['https://www.youtube.com/embed/z0gguhEmWiY?version=3&rel=1&showsearch=0&showinfo=1&iv_load_policy=1&fs=1&hl=en-US&autohide=2&wmode=transparent',\n",
       " 'https://www.youtube.com/embed/_P7X8tMplsw?version=3&rel=1&showsearch=0&showinfo=1&iv_load_policy=1&fs=1&hl=en-US&autohide=2&wmode=transparent',\n",
       " 'https://www.youtube.com/embed/fKl2JW_qrso?version=3&rel=1&showsearch=0&showinfo=1&iv_load_policy=1&fs=1&hl=en-US&autohide=2&wmode=transparent',\n",
       " 'https://www.youtube.com/embed/IEEhzQoKtQU?version=3&rel=1&showsearch=0&showinfo=1&iv_load_policy=1&fs=1&hl=en-US&autohide=2&wmode=transparent',\n",
       " 'https://www.youtube.com/embed/mO_dS3rXDIs?version=3&rel=1&showsearch=0&showinfo=1&iv_load_policy=1&fs=1&hl=en-US&autohide=2&wmode=transparent',\n",
       " 'https://www.youtube.com/embed/2Fp1N6dof0Y?version=3&rel=1&showsearch=0&showinfo=1&iv_load_policy=1&fs=1&hl=en-US&autohide=2&wmode=transparent',\n",
       " 'https://www.youtube.com/embed/-nh9rCzPJ20?version=3&rel=1&showsearch=0&showinfo=1&iv_load_policy=1&fs=1&hl=en-US&autohide=2&wmode=transparent',\n",
       " 'https://www.youtube.com/embed/06I63_p-2A4?version=3&rel=1&showsearch=0&showinfo=1&iv_load_policy=1&fs=1&hl=en-US&autohide=2&wmode=transparent',\n",
       " 'https://www.youtube.com/embed/_JGmemuINww?version=3&rel=1&showsearch=0&showinfo=1&iv_load_policy=1&fs=1&hl=en-US&autohide=2&wmode=transparent']"
      ]
     },
     "execution_count": 53,
     "metadata": {},
     "output_type": "execute_result"
    }
   ],
   "source": [
    "video=[]\n",
    "\n",
    "for i in soup.find_all('iframe',class_=\"youtube-player\"):\n",
    "\n",
    "        video.append(i['src'])\n",
    "video"
   ]
  },
  {
   "cell_type": "code",
   "execution_count": 57,
   "id": "f397f730",
   "metadata": {},
   "outputs": [
    {
     "name": "stdout",
     "output_type": "stream",
     "text": [
      "9\n"
     ]
    }
   ],
   "source": [
    "print(len(video))"
   ]
  },
  {
   "cell_type": "code",
   "execution_count": 63,
   "id": "8401ce39",
   "metadata": {},
   "outputs": [
    {
     "data": {
      "text/html": [
       "<div>\n",
       "<style scoped>\n",
       "    .dataframe tbody tr th:only-of-type {\n",
       "        vertical-align: middle;\n",
       "    }\n",
       "\n",
       "    .dataframe tbody tr th {\n",
       "        vertical-align: top;\n",
       "    }\n",
       "\n",
       "    .dataframe thead th {\n",
       "        text-align: right;\n",
       "    }\n",
       "</style>\n",
       "<table border=\"1\" class=\"dataframe\">\n",
       "  <thead>\n",
       "    <tr style=\"text-align: right;\">\n",
       "      <th></th>\n",
       "      <th>Headings</th>\n",
       "      <th>Dates</th>\n",
       "      <th>contents</th>\n",
       "      <th>Yt_links</th>\n",
       "    </tr>\n",
       "  </thead>\n",
       "  <tbody>\n",
       "    <tr>\n",
       "      <th>0</th>\n",
       "      <td>Python Tutorial: Zip Files – Creating and Extr...</td>\n",
       "      <td>November 19, 2019</td>\n",
       "      <td>In this video, we will be learning how to crea...</td>\n",
       "      <td>https://www.youtube.com/embed/z0gguhEmWiY?vers...</td>\n",
       "    </tr>\n",
       "    <tr>\n",
       "      <th>1</th>\n",
       "      <td>Python Data Science Tutorial: Analyzing the 20...</td>\n",
       "      <td>October 17, 2019</td>\n",
       "      <td>In this Python Programming video, we will be l...</td>\n",
       "      <td>https://www.youtube.com/embed/_P7X8tMplsw?vers...</td>\n",
       "    </tr>\n",
       "    <tr>\n",
       "      <th>2</th>\n",
       "      <td>Python Multiprocessing Tutorial: Run Code in P...</td>\n",
       "      <td>September 21, 2019</td>\n",
       "      <td>In this Python Programming video, we will be l...</td>\n",
       "      <td>https://www.youtube.com/embed/fKl2JW_qrso?vers...</td>\n",
       "    </tr>\n",
       "    <tr>\n",
       "      <th>3</th>\n",
       "      <td>Python Threading Tutorial: Run Code Concurrent...</td>\n",
       "      <td>September 12, 2019</td>\n",
       "      <td>In this Python Programming video, we will be l...</td>\n",
       "      <td>https://www.youtube.com/embed/IEEhzQoKtQU?vers...</td>\n",
       "    </tr>\n",
       "    <tr>\n",
       "      <th>4</th>\n",
       "      <td>Update (2019-09-03)</td>\n",
       "      <td>September 3, 2019</td>\n",
       "      <td>Hey everyone. I wanted to give you an update o...</td>\n",
       "      <td>https://www.youtube.com/embed/mO_dS3rXDIs?vers...</td>\n",
       "    </tr>\n",
       "    <tr>\n",
       "      <th>5</th>\n",
       "      <td>Python Quick Tip: The Difference Between “==” ...</td>\n",
       "      <td>August 6, 2019</td>\n",
       "      <td>In this Python Programming Tutorial, we will b...</td>\n",
       "      <td>https://www.youtube.com/embed/2Fp1N6dof0Y?vers...</td>\n",
       "    </tr>\n",
       "    <tr>\n",
       "      <th>6</th>\n",
       "      <td>Python Tutorial: Calling External Commands Usi...</td>\n",
       "      <td>July 24, 2019</td>\n",
       "      <td>In this Python Programming Tutorial, we will b...</td>\n",
       "      <td>https://www.youtube.com/embed/-nh9rCzPJ20?vers...</td>\n",
       "    </tr>\n",
       "    <tr>\n",
       "      <th>7</th>\n",
       "      <td>Visual Studio Code (Windows) – Setting up a Py...</td>\n",
       "      <td>May 1, 2019</td>\n",
       "      <td>In this Python Programming Tutorial, we will b...</td>\n",
       "      <td>https://www.youtube.com/embed/06I63_p-2A4?vers...</td>\n",
       "    </tr>\n",
       "    <tr>\n",
       "      <th>8</th>\n",
       "      <td>Visual Studio Code (Mac) – Setting up a Python...</td>\n",
       "      <td>May 1, 2019</td>\n",
       "      <td>In this Python Programming Tutorial, we will b...</td>\n",
       "      <td>https://www.youtube.com/embed/_JGmemuINww?vers...</td>\n",
       "    </tr>\n",
       "  </tbody>\n",
       "</table>\n",
       "</div>"
      ],
      "text/plain": [
       "                                            Headings               Dates  \\\n",
       "0  Python Tutorial: Zip Files – Creating and Extr...   November 19, 2019   \n",
       "1  Python Data Science Tutorial: Analyzing the 20...    October 17, 2019   \n",
       "2  Python Multiprocessing Tutorial: Run Code in P...  September 21, 2019   \n",
       "3  Python Threading Tutorial: Run Code Concurrent...  September 12, 2019   \n",
       "4                                Update (2019-09-03)   September 3, 2019   \n",
       "5  Python Quick Tip: The Difference Between “==” ...      August 6, 2019   \n",
       "6  Python Tutorial: Calling External Commands Usi...       July 24, 2019   \n",
       "7  Visual Studio Code (Windows) – Setting up a Py...         May 1, 2019   \n",
       "8  Visual Studio Code (Mac) – Setting up a Python...         May 1, 2019   \n",
       "\n",
       "                                            contents  \\\n",
       "0  In this video, we will be learning how to crea...   \n",
       "1  In this Python Programming video, we will be l...   \n",
       "2  In this Python Programming video, we will be l...   \n",
       "3  In this Python Programming video, we will be l...   \n",
       "4  Hey everyone. I wanted to give you an update o...   \n",
       "5  In this Python Programming Tutorial, we will b...   \n",
       "6  In this Python Programming Tutorial, we will b...   \n",
       "7  In this Python Programming Tutorial, we will b...   \n",
       "8  In this Python Programming Tutorial, we will b...   \n",
       "\n",
       "                                            Yt_links  \n",
       "0  https://www.youtube.com/embed/z0gguhEmWiY?vers...  \n",
       "1  https://www.youtube.com/embed/_P7X8tMplsw?vers...  \n",
       "2  https://www.youtube.com/embed/fKl2JW_qrso?vers...  \n",
       "3  https://www.youtube.com/embed/IEEhzQoKtQU?vers...  \n",
       "4  https://www.youtube.com/embed/mO_dS3rXDIs?vers...  \n",
       "5  https://www.youtube.com/embed/2Fp1N6dof0Y?vers...  \n",
       "6  https://www.youtube.com/embed/-nh9rCzPJ20?vers...  \n",
       "7  https://www.youtube.com/embed/06I63_p-2A4?vers...  \n",
       "8  https://www.youtube.com/embed/_JGmemuINww?vers...  "
      ]
     },
     "execution_count": 63,
     "metadata": {},
     "output_type": "execute_result"
    }
   ],
   "source": [
    "coreyms= pd.DataFrame({})\n",
    "coreyms['Headings']=heading\n",
    "coreyms['Dates']=dates\n",
    "coreyms['contents']=Content\n",
    "coreyms['Yt_links']=video\n",
    "coreyms"
   ]
  },
  {
   "cell_type": "markdown",
   "id": "bf34380d",
   "metadata": {},
   "source": [
    "#### Amswer 8 python program to scrape house details from mentioned URL. It should include house title, location,\n",
    "#### area, EMI and price from https://www.nobroker.in"
   ]
  },
  {
   "cell_type": "code",
   "execution_count": 43,
   "id": "e54664ba",
   "metadata": {},
   "outputs": [
    {
     "name": "stdout",
     "output_type": "stream",
     "text": [
      "<Response [200]>\n"
     ]
    }
   ],
   "source": [
    "page_8 = requests.get('https://www.nobroker.in/property/sale/mumbai/multiple?searchParam=W3sibGF0IjoxOS4xNjU3MDY4LCJsb24iOjcyLjk1MDg1NDksInBsYWNlSWQiOiJDaElKbjZSbEZfUzQ1enNSZUxSbG52TFZERHciLCJwbGFjZU5hbWUiOiJJbmRpcmEgTmFnYXIiLCJzaG93TWFwIjpmYWxzZX0seyJsYXQiOjE5LjIyNDUyOTQsImxvbiI6NzIuODU5MzAyLCJwbGFjZUlkIjoiQ2hJSkZTcWp2dE93NXpzUk9zaGpSelJiUDlBIiwicGxhY2VOYW1lIjoiSmF5YSBOYWdhciIsInNob3dNYXAiOmZhbHNlfSx7ImxhdCI6MTkuMjE1NjQ0NiwibG9uIjo3My4wODQzNTk5LCJwbGFjZUlkIjoiQ2hJSlVjODRHU0ctNXpzUnRwbnVJZFFwMnRJIiwicGxhY2VOYW1lIjoiUmFqYWppIFJvYWQsIFJhamFqaSBQYXRoIiwic2hvd01hcCI6ZmFsc2V9XQ==')\n",
    "print(page_8)\n",
    "\n",
    "soup= BeautifulSoup(page_8.content)\n"
   ]
  },
  {
   "cell_type": "code",
   "execution_count": 45,
   "id": "dc7defb2",
   "metadata": {},
   "outputs": [
    {
     "name": "stdout",
     "output_type": "stream",
     "text": [
      "['1 BHK Apartment  For Sale  In Kcd Palkhi Aura In Borivali East', '1 BHK Flat  For Sale  In Shruti Chs In Borivali East', '2 BHK Flat  For Sale  In Avon Galaxy In Borivali East', '1 BHK Flat  For Sale  In Parijnana Chs In Ganesh Mandir', '1 BHK Flat  For Sale  In Apartment In Borivali East', '1 BHK Flat  For Sale  In Makwana Nagar In Borivali East', '2 BHK Flat  For Sale  In Madhukunj Society', '1 BHK Flat  For Sale  In Om Jayshri Gurukripa Chs In Borivali East', '1 RK Flat  For Sale  In Borivali East', '1 RK Flat  For Sale  In Galaxy Home Chs  In Borivali East', '1 RK Flat  For Sale  In Rajhill  In Raj Hill Building 1', '2 BHK Apartment  For Sale  In Akar Pinnacle In Borivali East', '1 BHK Flat  For Sale  In Mahindra And Mahindra Chs In Borivali East', '1 BHK Flat  For Sale  In Ratnadeep In  Borivali East', '1 RK Flat  For Sale  In Vrindavan Chs  In Borivali East', '1 BHK Flat  For Sale  In Ratnadeep Chs In Borivali East', '2 BHK Flat  For Sale  In Raj Hill Tower  In Raj Hill Tower', '2 BHK Flat  For Sale  In  , New Kasturba Villa In Borivali East, ', '1 BHK Flat  For Sale  In Avantika  In Borivali', '1 BHK Flat  For Sale  In Shri Wardhan Rbi Chs In Borivali East', '1 RK Flat  For Sale  In New Jalaram Bhuvan In Borivali East', '1 BHK Flat  For Sale  In Maruthi Co Operative In Borivali East', '1 RK Flat  For Sale  In Maruti Chs In  Borivali East', '2 BHK Flat  For Sale  In Avantika  In Borivali']\n"
     ]
    }
   ],
   "source": [
    "house_title= soup.find_all('span',class_=\"overflow-hidden overflow-ellipsis whitespace-nowrap max-w-80pe po:max-w-full\",limit=24)\n",
    "\n",
    "column_title=[]\n",
    "for i in house_title:\n",
    "    column_title.append(i.text.strip('[]'))\n",
    "print(column_title)\n"
   ]
  },
  {
   "cell_type": "code",
   "execution_count": 46,
   "id": "a53137a9",
   "metadata": {},
   "outputs": [
    {
     "name": "stdout",
     "output_type": "stream",
     "text": [
      "['Kcd Palkhi Aura\\xa0 Dattapada Road, Borivali East, Mumbai, Maharashtra, INDIA.', 'Dattapada,  Near HDFC Bank', 'Borivali East, Mumbai, Maharashtra, INDIA.', 'Next to JB Khot High School', 'Dattapada Rd Near Ram Mandir', 'Chinchpada, near Shatabdi Hospital', 'Standalone Building, kgk tower, borivlai east', 'Carter Road No 3, Hina Kutir, Asara Colony near Shree Mota Ambaji Ashram', 'Standalone Building, Carter Rd, near Mahalaxmi Interior', 'Dattapada Rd Rajendra Nagar, Near Raj Hill Building 1', 'borivali dattapada j b Khot school', 'Akar Pinnacle\\xa0 Near Ambaji Temple, Dattapada Road, Rajendra Nagar, ', 'Nensey Colony, Borivali East Mumbai, Maharashtra India', 'Liberty Garden Rd Number 1 Near Abhyudaya Co-Operative Bank Limited', 'kasturba  opp  Abhyudaya Co-Operative Bank Limited', 'Chinchpada Rd NEAR Abhyudaya Co- Operative Bank Limited', 'near sky city', '2, Carter Rd, Dattapada near Kripa Dham Society', ' Dattapada, Near  Welcome Hotel', 'Dattapada, Near Welcome Hotel,', 'Near Raj Jewellers, Kasturba Cross Road Number 3, Borivali East, Mumbai, Maharashtra 400066, India', 'Dattapada, Near Welcome Hotel', 'Dattapada, Near Welcome Hotel', 'Dattapada, Near Welcome Hotel']\n"
     ]
    }
   ],
   "source": [
    "house_location= soup.find_all('div',class_=\"mt-0.5p overflow-hidden overflow-ellipsis whitespace-nowrap max-w-70 text-gray-light leading-4 po:mb-0 po:max-w-95\",limit=24)\n",
    "\n",
    "column_location=[]\n",
    "for i in house_location:\n",
    "    column_location.append(i.text.strip('[]'))\n",
    "print(column_location)"
   ]
  },
  {
   "cell_type": "code",
   "execution_count": 47,
   "id": "d09d4185",
   "metadata": {},
   "outputs": [
    {
     "name": "stdout",
     "output_type": "stream",
     "text": [
      "['552 sqft', '560 sqft', '1,050 sqft', '750 sqft', '581 sqft', '385 sqft', '680 sqft', '550 sqft', '180 sqft', '435 sqft', '275 sqft', '1,234 sqft', '400 sqft', '510 sqft', '340 sqft', '510 sqft', '1,000 sqft', '850 sqft', '431 sqft', '600 sqft', '170 sqft', '379 sqft', '380 sqft', '656 sqft']\n"
     ]
    }
   ],
   "source": [
    "house_area= soup.find_all('div',class_=\"font-semi-bold heading-6\",id=\"minRent\", limit=24)\n",
    "\n",
    "column_area=[]\n",
    "\n",
    "\n",
    "for i in house_area:\n",
    "    column_area.append(i.text.strip('[]'))\n",
    "print(column_area)"
   ]
  },
  {
   "cell_type": "code",
   "execution_count": 53,
   "id": "115a7d0d",
   "metadata": {},
   "outputs": [
    {
     "name": "stdout",
     "output_type": "stream",
     "text": [
      "24\n"
     ]
    }
   ],
   "source": [
    "print(len(column_area))"
   ]
  },
  {
   "cell_type": "code",
   "execution_count": 54,
   "id": "243f2cd6",
   "metadata": {},
   "outputs": [
    {
     "name": "stdout",
     "output_type": "stream",
     "text": [
      "['₹64,192/Month', '₹54,448/Month', '₹1.29 Lacs/Month', '₹60,180/Month', '₹68,777/Month', '₹42,985/Month', '₹91,703/Month', '₹46,997/Month', '₹16,048/Month', '₹45,851/Month', '₹29,803/Month', '₹97,434/Month', '₹57,314/Month', '₹63,045/Month', '₹45,851/Month', '₹63,045/Month', '₹1.12 Lacs/Month', '₹88,837/Month', '₹65,911/Month', '₹65,911/Month', '₹29,803/Month', '₹42,985/Month', '₹40,120/Month', '₹94,568/Month']\n"
     ]
    }
   ],
   "source": [
    "house_emi=soup.find_all('div',class_=\"font-semi-bold heading-6\",id='roomType',limit=24)\n",
    "\n",
    "column_emi=[]\n",
    "for i in house_emi:\n",
    "    column_emi.append(i.text.strip('[]'))\n",
    "print(column_emi)"
   ]
  },
  {
   "cell_type": "code",
   "execution_count": 55,
   "id": "10ee5e2a",
   "metadata": {},
   "outputs": [
    {
     "name": "stdout",
     "output_type": "stream",
     "text": [
      "24\n"
     ]
    }
   ],
   "source": [
    "print(len(column_emi))"
   ]
  },
  {
   "cell_type": "code",
   "execution_count": 60,
   "id": "76fdda37",
   "metadata": {},
   "outputs": [
    {
     "data": {
      "text/plain": [
       "['₹1.12 Crores',\n",
       " '₹95 Lacs',\n",
       " '₹2.25 Crores',\n",
       " '₹1.05 Crores',\n",
       " '₹1.2 Crores',\n",
       " '₹75 Lacs',\n",
       " '₹1.6 Crores',\n",
       " '₹82 Lacs',\n",
       " '₹28 Lacs',\n",
       " '₹80 Lacs',\n",
       " '₹52 Lacs',\n",
       " '₹1.7 Crores',\n",
       " '₹1 Crore',\n",
       " '₹1.1 Crores',\n",
       " '₹80 Lacs',\n",
       " '₹1.1 Crores',\n",
       " '₹1.95 Crores',\n",
       " '₹1.55 Crores',\n",
       " '₹1.15 Crores',\n",
       " '₹1.15 Crores',\n",
       " '₹52 Lacs',\n",
       " '₹75 Lacs',\n",
       " '₹70 Lacs',\n",
       " '₹1.65 Crores']"
      ]
     },
     "execution_count": 60,
     "metadata": {},
     "output_type": "execute_result"
    }
   ],
   "source": [
    "house_price= soup.find_all('div',class_=\"font-semi-bold heading-6\")\n",
    "\n",
    "column_price=[]\n",
    "for i in range(2,len(house_price),3):\n",
    "    column_price.append(house_price[i].get_text())\n",
    "column_price=column_price[0:24]\n",
    "column_price\n"
   ]
  },
  {
   "cell_type": "code",
   "execution_count": 61,
   "id": "faab2681",
   "metadata": {},
   "outputs": [
    {
     "name": "stdout",
     "output_type": "stream",
     "text": [
      "24\n"
     ]
    }
   ],
   "source": [
    "print(len(column_price))"
   ]
  },
  {
   "cell_type": "code",
   "execution_count": 64,
   "id": "9e1da4a0",
   "metadata": {},
   "outputs": [
    {
     "data": {
      "text/html": [
       "<div>\n",
       "<style scoped>\n",
       "    .dataframe tbody tr th:only-of-type {\n",
       "        vertical-align: middle;\n",
       "    }\n",
       "\n",
       "    .dataframe tbody tr th {\n",
       "        vertical-align: top;\n",
       "    }\n",
       "\n",
       "    .dataframe thead th {\n",
       "        text-align: right;\n",
       "    }\n",
       "</style>\n",
       "<table border=\"1\" class=\"dataframe\">\n",
       "  <thead>\n",
       "    <tr style=\"text-align: right;\">\n",
       "      <th></th>\n",
       "      <th>House_name</th>\n",
       "      <th>location</th>\n",
       "      <th>House_area</th>\n",
       "      <th>House-emi</th>\n",
       "      <th>House-prices</th>\n",
       "    </tr>\n",
       "  </thead>\n",
       "  <tbody>\n",
       "    <tr>\n",
       "      <th>0</th>\n",
       "      <td>1 BHK Apartment  For Sale  In Kcd Palkhi Aura ...</td>\n",
       "      <td>Kcd Palkhi Aura  Dattapada Road, Borivali East...</td>\n",
       "      <td>552 sqft</td>\n",
       "      <td>₹64,192/Month</td>\n",
       "      <td>₹1.12 Crores</td>\n",
       "    </tr>\n",
       "    <tr>\n",
       "      <th>1</th>\n",
       "      <td>1 BHK Flat  For Sale  In Shruti Chs In Borival...</td>\n",
       "      <td>Dattapada,  Near HDFC Bank</td>\n",
       "      <td>560 sqft</td>\n",
       "      <td>₹54,448/Month</td>\n",
       "      <td>₹95 Lacs</td>\n",
       "    </tr>\n",
       "    <tr>\n",
       "      <th>2</th>\n",
       "      <td>2 BHK Flat  For Sale  In Avon Galaxy In Boriva...</td>\n",
       "      <td>Borivali East, Mumbai, Maharashtra, INDIA.</td>\n",
       "      <td>1,050 sqft</td>\n",
       "      <td>₹1.29 Lacs/Month</td>\n",
       "      <td>₹2.25 Crores</td>\n",
       "    </tr>\n",
       "    <tr>\n",
       "      <th>3</th>\n",
       "      <td>1 BHK Flat  For Sale  In Parijnana Chs In Gane...</td>\n",
       "      <td>Next to JB Khot High School</td>\n",
       "      <td>750 sqft</td>\n",
       "      <td>₹60,180/Month</td>\n",
       "      <td>₹1.05 Crores</td>\n",
       "    </tr>\n",
       "    <tr>\n",
       "      <th>4</th>\n",
       "      <td>1 BHK Flat  For Sale  In Apartment In Borivali...</td>\n",
       "      <td>Dattapada Rd Near Ram Mandir</td>\n",
       "      <td>581 sqft</td>\n",
       "      <td>₹68,777/Month</td>\n",
       "      <td>₹1.2 Crores</td>\n",
       "    </tr>\n",
       "    <tr>\n",
       "      <th>5</th>\n",
       "      <td>1 BHK Flat  For Sale  In Makwana Nagar In Bori...</td>\n",
       "      <td>Chinchpada, near Shatabdi Hospital</td>\n",
       "      <td>385 sqft</td>\n",
       "      <td>₹42,985/Month</td>\n",
       "      <td>₹75 Lacs</td>\n",
       "    </tr>\n",
       "    <tr>\n",
       "      <th>6</th>\n",
       "      <td>2 BHK Flat  For Sale  In Madhukunj Society</td>\n",
       "      <td>Standalone Building, kgk tower, borivlai east</td>\n",
       "      <td>680 sqft</td>\n",
       "      <td>₹91,703/Month</td>\n",
       "      <td>₹1.6 Crores</td>\n",
       "    </tr>\n",
       "    <tr>\n",
       "      <th>7</th>\n",
       "      <td>1 BHK Flat  For Sale  In Om Jayshri Gurukripa ...</td>\n",
       "      <td>Carter Road No 3, Hina Kutir, Asara Colony nea...</td>\n",
       "      <td>550 sqft</td>\n",
       "      <td>₹46,997/Month</td>\n",
       "      <td>₹82 Lacs</td>\n",
       "    </tr>\n",
       "    <tr>\n",
       "      <th>8</th>\n",
       "      <td>1 RK Flat  For Sale  In Borivali East</td>\n",
       "      <td>Standalone Building, Carter Rd, near Mahalaxmi...</td>\n",
       "      <td>180 sqft</td>\n",
       "      <td>₹16,048/Month</td>\n",
       "      <td>₹28 Lacs</td>\n",
       "    </tr>\n",
       "    <tr>\n",
       "      <th>9</th>\n",
       "      <td>1 RK Flat  For Sale  In Galaxy Home Chs  In Bo...</td>\n",
       "      <td>Dattapada Rd Rajendra Nagar, Near Raj Hill Bui...</td>\n",
       "      <td>435 sqft</td>\n",
       "      <td>₹45,851/Month</td>\n",
       "      <td>₹80 Lacs</td>\n",
       "    </tr>\n",
       "    <tr>\n",
       "      <th>10</th>\n",
       "      <td>1 RK Flat  For Sale  In Rajhill  In Raj Hill B...</td>\n",
       "      <td>borivali dattapada j b Khot school</td>\n",
       "      <td>275 sqft</td>\n",
       "      <td>₹29,803/Month</td>\n",
       "      <td>₹52 Lacs</td>\n",
       "    </tr>\n",
       "    <tr>\n",
       "      <th>11</th>\n",
       "      <td>2 BHK Apartment  For Sale  In Akar Pinnacle In...</td>\n",
       "      <td>Akar Pinnacle  Near Ambaji Temple, Dattapada R...</td>\n",
       "      <td>1,234 sqft</td>\n",
       "      <td>₹97,434/Month</td>\n",
       "      <td>₹1.7 Crores</td>\n",
       "    </tr>\n",
       "    <tr>\n",
       "      <th>12</th>\n",
       "      <td>1 BHK Flat  For Sale  In Mahindra And Mahindra...</td>\n",
       "      <td>Nensey Colony, Borivali East Mumbai, Maharasht...</td>\n",
       "      <td>400 sqft</td>\n",
       "      <td>₹57,314/Month</td>\n",
       "      <td>₹1 Crore</td>\n",
       "    </tr>\n",
       "    <tr>\n",
       "      <th>13</th>\n",
       "      <td>1 BHK Flat  For Sale  In Ratnadeep In  Borival...</td>\n",
       "      <td>Liberty Garden Rd Number 1 Near Abhyudaya Co-O...</td>\n",
       "      <td>510 sqft</td>\n",
       "      <td>₹63,045/Month</td>\n",
       "      <td>₹1.1 Crores</td>\n",
       "    </tr>\n",
       "    <tr>\n",
       "      <th>14</th>\n",
       "      <td>1 RK Flat  For Sale  In Vrindavan Chs  In Bori...</td>\n",
       "      <td>kasturba  opp  Abhyudaya Co-Operative Bank Lim...</td>\n",
       "      <td>340 sqft</td>\n",
       "      <td>₹45,851/Month</td>\n",
       "      <td>₹80 Lacs</td>\n",
       "    </tr>\n",
       "    <tr>\n",
       "      <th>15</th>\n",
       "      <td>1 BHK Flat  For Sale  In Ratnadeep Chs In Bori...</td>\n",
       "      <td>Chinchpada Rd NEAR Abhyudaya Co- Operative Ban...</td>\n",
       "      <td>510 sqft</td>\n",
       "      <td>₹63,045/Month</td>\n",
       "      <td>₹1.1 Crores</td>\n",
       "    </tr>\n",
       "    <tr>\n",
       "      <th>16</th>\n",
       "      <td>2 BHK Flat  For Sale  In Raj Hill Tower  In Ra...</td>\n",
       "      <td>near sky city</td>\n",
       "      <td>1,000 sqft</td>\n",
       "      <td>₹1.12 Lacs/Month</td>\n",
       "      <td>₹1.95 Crores</td>\n",
       "    </tr>\n",
       "    <tr>\n",
       "      <th>17</th>\n",
       "      <td>2 BHK Flat  For Sale  In  , New Kasturba Villa...</td>\n",
       "      <td>2, Carter Rd, Dattapada near Kripa Dham Society</td>\n",
       "      <td>850 sqft</td>\n",
       "      <td>₹88,837/Month</td>\n",
       "      <td>₹1.55 Crores</td>\n",
       "    </tr>\n",
       "    <tr>\n",
       "      <th>18</th>\n",
       "      <td>1 BHK Flat  For Sale  In Avantika  In Borivali</td>\n",
       "      <td>Dattapada, Near  Welcome Hotel</td>\n",
       "      <td>431 sqft</td>\n",
       "      <td>₹65,911/Month</td>\n",
       "      <td>₹1.15 Crores</td>\n",
       "    </tr>\n",
       "    <tr>\n",
       "      <th>19</th>\n",
       "      <td>1 BHK Flat  For Sale  In Shri Wardhan Rbi Chs ...</td>\n",
       "      <td>Dattapada, Near Welcome Hotel,</td>\n",
       "      <td>600 sqft</td>\n",
       "      <td>₹65,911/Month</td>\n",
       "      <td>₹1.15 Crores</td>\n",
       "    </tr>\n",
       "    <tr>\n",
       "      <th>20</th>\n",
       "      <td>1 RK Flat  For Sale  In New Jalaram Bhuvan In ...</td>\n",
       "      <td>Near Raj Jewellers, Kasturba Cross Road Number...</td>\n",
       "      <td>170 sqft</td>\n",
       "      <td>₹29,803/Month</td>\n",
       "      <td>₹52 Lacs</td>\n",
       "    </tr>\n",
       "    <tr>\n",
       "      <th>21</th>\n",
       "      <td>1 BHK Flat  For Sale  In Maruthi Co Operative ...</td>\n",
       "      <td>Dattapada, Near Welcome Hotel</td>\n",
       "      <td>379 sqft</td>\n",
       "      <td>₹42,985/Month</td>\n",
       "      <td>₹75 Lacs</td>\n",
       "    </tr>\n",
       "    <tr>\n",
       "      <th>22</th>\n",
       "      <td>1 RK Flat  For Sale  In Maruti Chs In  Borival...</td>\n",
       "      <td>Dattapada, Near Welcome Hotel</td>\n",
       "      <td>380 sqft</td>\n",
       "      <td>₹40,120/Month</td>\n",
       "      <td>₹70 Lacs</td>\n",
       "    </tr>\n",
       "    <tr>\n",
       "      <th>23</th>\n",
       "      <td>2 BHK Flat  For Sale  In Avantika  In Borivali</td>\n",
       "      <td>Dattapada, Near Welcome Hotel</td>\n",
       "      <td>656 sqft</td>\n",
       "      <td>₹94,568/Month</td>\n",
       "      <td>₹1.65 Crores</td>\n",
       "    </tr>\n",
       "  </tbody>\n",
       "</table>\n",
       "</div>"
      ],
      "text/plain": [
       "                                           House_name  \\\n",
       "0   1 BHK Apartment  For Sale  In Kcd Palkhi Aura ...   \n",
       "1   1 BHK Flat  For Sale  In Shruti Chs In Borival...   \n",
       "2   2 BHK Flat  For Sale  In Avon Galaxy In Boriva...   \n",
       "3   1 BHK Flat  For Sale  In Parijnana Chs In Gane...   \n",
       "4   1 BHK Flat  For Sale  In Apartment In Borivali...   \n",
       "5   1 BHK Flat  For Sale  In Makwana Nagar In Bori...   \n",
       "6          2 BHK Flat  For Sale  In Madhukunj Society   \n",
       "7   1 BHK Flat  For Sale  In Om Jayshri Gurukripa ...   \n",
       "8               1 RK Flat  For Sale  In Borivali East   \n",
       "9   1 RK Flat  For Sale  In Galaxy Home Chs  In Bo...   \n",
       "10  1 RK Flat  For Sale  In Rajhill  In Raj Hill B...   \n",
       "11  2 BHK Apartment  For Sale  In Akar Pinnacle In...   \n",
       "12  1 BHK Flat  For Sale  In Mahindra And Mahindra...   \n",
       "13  1 BHK Flat  For Sale  In Ratnadeep In  Borival...   \n",
       "14  1 RK Flat  For Sale  In Vrindavan Chs  In Bori...   \n",
       "15  1 BHK Flat  For Sale  In Ratnadeep Chs In Bori...   \n",
       "16  2 BHK Flat  For Sale  In Raj Hill Tower  In Ra...   \n",
       "17  2 BHK Flat  For Sale  In  , New Kasturba Villa...   \n",
       "18     1 BHK Flat  For Sale  In Avantika  In Borivali   \n",
       "19  1 BHK Flat  For Sale  In Shri Wardhan Rbi Chs ...   \n",
       "20  1 RK Flat  For Sale  In New Jalaram Bhuvan In ...   \n",
       "21  1 BHK Flat  For Sale  In Maruthi Co Operative ...   \n",
       "22  1 RK Flat  For Sale  In Maruti Chs In  Borival...   \n",
       "23     2 BHK Flat  For Sale  In Avantika  In Borivali   \n",
       "\n",
       "                                            location   House_area  \\\n",
       "0   Kcd Palkhi Aura  Dattapada Road, Borivali East...    552 sqft   \n",
       "1                          Dattapada,  Near HDFC Bank    560 sqft   \n",
       "2          Borivali East, Mumbai, Maharashtra, INDIA.  1,050 sqft   \n",
       "3                         Next to JB Khot High School    750 sqft   \n",
       "4                        Dattapada Rd Near Ram Mandir    581 sqft   \n",
       "5                  Chinchpada, near Shatabdi Hospital    385 sqft   \n",
       "6       Standalone Building, kgk tower, borivlai east    680 sqft   \n",
       "7   Carter Road No 3, Hina Kutir, Asara Colony nea...    550 sqft   \n",
       "8   Standalone Building, Carter Rd, near Mahalaxmi...    180 sqft   \n",
       "9   Dattapada Rd Rajendra Nagar, Near Raj Hill Bui...    435 sqft   \n",
       "10                 borivali dattapada j b Khot school    275 sqft   \n",
       "11  Akar Pinnacle  Near Ambaji Temple, Dattapada R...  1,234 sqft   \n",
       "12  Nensey Colony, Borivali East Mumbai, Maharasht...    400 sqft   \n",
       "13  Liberty Garden Rd Number 1 Near Abhyudaya Co-O...    510 sqft   \n",
       "14  kasturba  opp  Abhyudaya Co-Operative Bank Lim...    340 sqft   \n",
       "15  Chinchpada Rd NEAR Abhyudaya Co- Operative Ban...    510 sqft   \n",
       "16                                      near sky city  1,000 sqft   \n",
       "17    2, Carter Rd, Dattapada near Kripa Dham Society    850 sqft   \n",
       "18                     Dattapada, Near  Welcome Hotel    431 sqft   \n",
       "19                     Dattapada, Near Welcome Hotel,    600 sqft   \n",
       "20  Near Raj Jewellers, Kasturba Cross Road Number...    170 sqft   \n",
       "21                      Dattapada, Near Welcome Hotel    379 sqft   \n",
       "22                      Dattapada, Near Welcome Hotel    380 sqft   \n",
       "23                      Dattapada, Near Welcome Hotel    656 sqft   \n",
       "\n",
       "           House-emi  House-prices  \n",
       "0      ₹64,192/Month  ₹1.12 Crores  \n",
       "1      ₹54,448/Month      ₹95 Lacs  \n",
       "2   ₹1.29 Lacs/Month  ₹2.25 Crores  \n",
       "3      ₹60,180/Month  ₹1.05 Crores  \n",
       "4      ₹68,777/Month   ₹1.2 Crores  \n",
       "5      ₹42,985/Month      ₹75 Lacs  \n",
       "6      ₹91,703/Month   ₹1.6 Crores  \n",
       "7      ₹46,997/Month      ₹82 Lacs  \n",
       "8      ₹16,048/Month      ₹28 Lacs  \n",
       "9      ₹45,851/Month      ₹80 Lacs  \n",
       "10     ₹29,803/Month      ₹52 Lacs  \n",
       "11     ₹97,434/Month   ₹1.7 Crores  \n",
       "12     ₹57,314/Month      ₹1 Crore  \n",
       "13     ₹63,045/Month   ₹1.1 Crores  \n",
       "14     ₹45,851/Month      ₹80 Lacs  \n",
       "15     ₹63,045/Month   ₹1.1 Crores  \n",
       "16  ₹1.12 Lacs/Month  ₹1.95 Crores  \n",
       "17     ₹88,837/Month  ₹1.55 Crores  \n",
       "18     ₹65,911/Month  ₹1.15 Crores  \n",
       "19     ₹65,911/Month  ₹1.15 Crores  \n",
       "20     ₹29,803/Month      ₹52 Lacs  \n",
       "21     ₹42,985/Month      ₹75 Lacs  \n",
       "22     ₹40,120/Month      ₹70 Lacs  \n",
       "23     ₹94,568/Month  ₹1.65 Crores  "
      ]
     },
     "execution_count": 64,
     "metadata": {},
     "output_type": "execute_result"
    }
   ],
   "source": [
    "one_broker= pd.DataFrame({})\n",
    "one_broker['House_name']=column_title\n",
    "one_broker['location ']=column_location\n",
    "one_broker['House_area']=column_area\n",
    "one_broker['House-emi']=column_emi\n",
    "one_broker['House-prices']=column_price\n",
    "\n",
    "\n",
    "one_broker"
   ]
  },
  {
   "cell_type": "markdown",
   "id": "72e08e84",
   "metadata": {},
   "source": [
    "#### Answer 9::: python program to scrape mentioned details from dineout.co.in : \n",
    "i) Restaurant name\n",
    " ii) Cuisine\n",
    " iii) Location\n",
    " iv) Ratings\n",
    "v) Image URL \n"
   ]
  },
  {
   "cell_type": "code",
   "execution_count": 11,
   "id": "44c94d34",
   "metadata": {},
   "outputs": [],
   "source": [
    "page_9 = requests.get('https://www.dineout.co.in/delhi-restaurants/buffet-special')\n",
    "page_9\n",
    "soup=BeautifulSoup(page_9.content,'lxml')\n"
   ]
  },
  {
   "cell_type": "code",
   "execution_count": 12,
   "id": "c03b9809",
   "metadata": {},
   "outputs": [
    {
     "name": "stdout",
     "output_type": "stream",
     "text": [
      "['Castle Barbeque', 'Jungle Jamboree', 'Castle Barbeque', 'Cafe Knosh', 'The Barbeque Company', 'India Grill', 'Delhi Barbeque', 'The Monarch - Bar Be Que Village', 'World Cafe', 'Indian Grill Room', 'Mad 4 Bar B Que', 'Barbeque 29', 'Glasshouse']\n"
     ]
    }
   ],
   "source": [
    "rest_name= soup.find_all('a',class_=\"restnt-name ellipsis\")\n",
    "\n",
    "rest_column= []\n",
    "for i in rest_name:\n",
    "    rest_column.append(i.text.strip('[]'))\n",
    "print(rest_column)"
   ]
  },
  {
   "cell_type": "code",
   "execution_count": 13,
   "id": "4f9330f9",
   "metadata": {},
   "outputs": [
    {
     "name": "stdout",
     "output_type": "stream",
     "text": [
      "13\n"
     ]
    }
   ],
   "source": [
    "print(len(rest_column))"
   ]
  },
  {
   "cell_type": "code",
   "execution_count": 28,
   "id": "ed7042fc",
   "metadata": {},
   "outputs": [
    {
     "name": "stdout",
     "output_type": "stream",
     "text": [
      "['North Indian', 'North Indian', 'North Indian', 'North Indian', 'North Indian', 'North Indian', 'North Indian', 'North Indian', 'North Indian', 'North Indian', 'North Indian', 'Chinese', 'Chinese']\n"
     ]
    }
   ],
   "source": [
    "cuis_name= soup.find_all('a',href=\"/delhi-restaurants/north-indian-cuisine\")\n",
    "\n",
    "cuis_column=[]\n",
    "for i in cuis_name:\n",
    "    cuis_column.append(i.text.strip('[]'))\n",
    "\n",
    "\n",
    "cuis_name_2= soup.find_all('a', href=\"/delhi-restaurants/chinese-cuisine\")\n",
    "for i in cuis_name_2:\n",
    "    cuis_column.append(i.text.strip('[]'))\n",
    "cuis_column=cuis_column[0:13]\n",
    "print(cuis_column)"
   ]
  },
  {
   "cell_type": "code",
   "execution_count": 29,
   "id": "319174b3",
   "metadata": {},
   "outputs": [
    {
     "name": "stdout",
     "output_type": "stream",
     "text": [
      "13\n"
     ]
    }
   ],
   "source": [
    "print(len(cuis_column))"
   ]
  },
  {
   "cell_type": "code",
   "execution_count": 31,
   "id": "942139e4",
   "metadata": {},
   "outputs": [
    {
     "name": "stdout",
     "output_type": "stream",
     "text": [
      "['Connaught Place, Central Delhi', '3CS Mall,Lajpat Nagar - 3, South Delhi', 'Pacific Mall,Tagore Garden, West Delhi', 'The Leela Ambience Convention Hotel,Shahdara, East Delhi', 'Gardens Galleria,Sector 38A, Noida', 'Hilton Garden Inn,Saket, South Delhi', 'Taurus Sarovar Portico,Mahipalpur, South Delhi', 'Indirapuram Habitat Centre,Indirapuram, Ghaziabad', 'Vibe by The Lalit Traveller,Sector 35, Faridabad', 'Suncity Business Tower,Golf Course Road, Gurgaon', 'Sector 29, Faridabad', 'NIT, Faridabad', 'DoubleTree By Hilton Gurugram Baani Square,Sector 50, Gurgaon']\n"
     ]
    }
   ],
   "source": [
    "loc_names= soup.find_all('div',class_=\"restnt-loc ellipsis\")\n",
    "\n",
    "loc_columns=[]\n",
    "for i in loc_names:\n",
    "    loc_columns.append(i.text.strip('[]'))\n",
    "print(loc_columns)"
   ]
  },
  {
   "cell_type": "code",
   "execution_count": 33,
   "id": "e9b9203e",
   "metadata": {},
   "outputs": [
    {
     "name": "stdout",
     "output_type": "stream",
     "text": [
      "13\n"
     ]
    }
   ],
   "source": [
    "print(len(loc_columns))"
   ]
  },
  {
   "cell_type": "code",
   "execution_count": 34,
   "id": "d545827e",
   "metadata": {},
   "outputs": [
    {
     "name": "stdout",
     "output_type": "stream",
     "text": [
      "['3.5', '3.9', '3.9', '4.3', '4', '3.9', '3.7', '3.8', '4.2', '4.3', '3.6', '4.2', '4']\n"
     ]
    }
   ],
   "source": [
    "user_rate= soup.find_all('div',class_=\"restnt-rating rating-4\")\n",
    "\n",
    "rate_column=[]\n",
    "for i  in user_rate:\n",
    "    rate_column.append(i.text.strip('[]'))\n",
    "print(rate_column)"
   ]
  },
  {
   "cell_type": "code",
   "execution_count": 35,
   "id": "266033ee",
   "metadata": {},
   "outputs": [
    {
     "name": "stdout",
     "output_type": "stream",
     "text": [
      "13\n"
     ]
    }
   ],
   "source": [
    "print(len(rate_column))"
   ]
  },
  {
   "cell_type": "code",
   "execution_count": 48,
   "id": "c8f1d94f",
   "metadata": {},
   "outputs": [
    {
     "name": "stdout",
     "output_type": "stream",
     "text": [
      "['https://im1.dineout.co.in/images/uploads/restaurant/sharpen/8/k/b/p86792-16062953735fbe1f4d3fb7e.jpg?tr=tr:n-medium', 'https://im1.dineout.co.in/images/uploads/restaurant/sharpen/3/h/c/p3643-144497865356209fdd65746.jpg?tr=tr:n-medium', 'https://im1.dineout.co.in/images/uploads/restaurant/sharpen/3/j/o/p38113-15959192065f1fcb666130c.jpg?tr=tr:n-medium', 'https://im1.dineout.co.in/images/uploads/restaurant/sharpen/4/p/m/p406-15438184745c04ccea491bc.jpg?tr=tr:n-medium', 'https://im1.dineout.co.in/images/uploads/restaurant/sharpen/7/p/k/p79307-16051787755fad1597f2bf9.jpg?tr=tr:n-medium', 'https://im1.dineout.co.in/images/uploads/restaurant/sharpen/2/v/t/p2687-1482477169585cce712b90f.jpg?tr=tr:n-medium', 'https://im1.dineout.co.in/images/uploads/restaurant/sharpen/5/v/f/p52501-16006856545f68865616659.jpg?tr=tr:n-medium', 'https://im1.dineout.co.in/images/uploads/restaurant/sharpen/3/n/o/p34822-15599107305cfa594a13c24.jpg?tr=tr:n-medium', 'https://im1.dineout.co.in/images/uploads/restaurant/sharpen/1/p/y/p12366-1466935020576fa6ecdc359.jpg?tr=tr:n-medium', 'https://im1.dineout.co.in/images/uploads/restaurant/sharpen/5/y/f/p549-165000147262590640c0afc.jpg?tr=tr:n-medium', 'https://im1.dineout.co.in/images/uploads/restaurant/sharpen/4/n/t/p43488-1647323111623027e763947.jpg?tr=tr:n-medium', 'https://im1.dineout.co.in/images/uploads/restaurant/sharpen/5/w/r/p58842-15624171585d209806d9143.jpg?tr=tr:n-medium', 'https://im1.dineout.co.in/images/uploads/restaurant/sharpen/9/m/a/p9875-1645177960620f6c68ecfef.jpg?tr=tr:n-medium']\n"
     ]
    }
   ],
   "source": [
    "img_url= soup.find_all('img',class_=\"no-img\")\n",
    "\n",
    "img_columns=[]\n",
    "for i in img_url:\n",
    "    img_columns.append(i['data-src'].strip('[]'))\n",
    "print(img_columns)"
   ]
  },
  {
   "cell_type": "code",
   "execution_count": 49,
   "id": "189c3bd6",
   "metadata": {},
   "outputs": [
    {
     "name": "stdout",
     "output_type": "stream",
     "text": [
      "13\n"
     ]
    }
   ],
   "source": [
    "print(len(img_columns))"
   ]
  },
  {
   "cell_type": "code",
   "execution_count": 52,
   "id": "6538267a",
   "metadata": {},
   "outputs": [
    {
     "data": {
      "text/html": [
       "<div>\n",
       "<style scoped>\n",
       "    .dataframe tbody tr th:only-of-type {\n",
       "        vertical-align: middle;\n",
       "    }\n",
       "\n",
       "    .dataframe tbody tr th {\n",
       "        vertical-align: top;\n",
       "    }\n",
       "\n",
       "    .dataframe thead th {\n",
       "        text-align: right;\n",
       "    }\n",
       "</style>\n",
       "<table border=\"1\" class=\"dataframe\">\n",
       "  <thead>\n",
       "    <tr style=\"text-align: right;\">\n",
       "      <th></th>\n",
       "      <th>Resturant-Names</th>\n",
       "      <th>Cuisine-names</th>\n",
       "      <th>Locations</th>\n",
       "      <th>Ratings by customer</th>\n",
       "      <th>image_urls</th>\n",
       "    </tr>\n",
       "  </thead>\n",
       "  <tbody>\n",
       "    <tr>\n",
       "      <th>0</th>\n",
       "      <td>Castle Barbeque</td>\n",
       "      <td>North Indian</td>\n",
       "      <td>Connaught Place, Central Delhi</td>\n",
       "      <td>3.5</td>\n",
       "      <td>https://im1.dineout.co.in/images/uploads/resta...</td>\n",
       "    </tr>\n",
       "    <tr>\n",
       "      <th>1</th>\n",
       "      <td>Jungle Jamboree</td>\n",
       "      <td>North Indian</td>\n",
       "      <td>3CS Mall,Lajpat Nagar - 3, South Delhi</td>\n",
       "      <td>3.9</td>\n",
       "      <td>https://im1.dineout.co.in/images/uploads/resta...</td>\n",
       "    </tr>\n",
       "    <tr>\n",
       "      <th>2</th>\n",
       "      <td>Castle Barbeque</td>\n",
       "      <td>North Indian</td>\n",
       "      <td>Pacific Mall,Tagore Garden, West Delhi</td>\n",
       "      <td>3.9</td>\n",
       "      <td>https://im1.dineout.co.in/images/uploads/resta...</td>\n",
       "    </tr>\n",
       "    <tr>\n",
       "      <th>3</th>\n",
       "      <td>Cafe Knosh</td>\n",
       "      <td>North Indian</td>\n",
       "      <td>The Leela Ambience Convention Hotel,Shahdara, ...</td>\n",
       "      <td>4.3</td>\n",
       "      <td>https://im1.dineout.co.in/images/uploads/resta...</td>\n",
       "    </tr>\n",
       "    <tr>\n",
       "      <th>4</th>\n",
       "      <td>The Barbeque Company</td>\n",
       "      <td>North Indian</td>\n",
       "      <td>Gardens Galleria,Sector 38A, Noida</td>\n",
       "      <td>4</td>\n",
       "      <td>https://im1.dineout.co.in/images/uploads/resta...</td>\n",
       "    </tr>\n",
       "    <tr>\n",
       "      <th>5</th>\n",
       "      <td>India Grill</td>\n",
       "      <td>North Indian</td>\n",
       "      <td>Hilton Garden Inn,Saket, South Delhi</td>\n",
       "      <td>3.9</td>\n",
       "      <td>https://im1.dineout.co.in/images/uploads/resta...</td>\n",
       "    </tr>\n",
       "    <tr>\n",
       "      <th>6</th>\n",
       "      <td>Delhi Barbeque</td>\n",
       "      <td>North Indian</td>\n",
       "      <td>Taurus Sarovar Portico,Mahipalpur, South Delhi</td>\n",
       "      <td>3.7</td>\n",
       "      <td>https://im1.dineout.co.in/images/uploads/resta...</td>\n",
       "    </tr>\n",
       "    <tr>\n",
       "      <th>7</th>\n",
       "      <td>The Monarch - Bar Be Que Village</td>\n",
       "      <td>North Indian</td>\n",
       "      <td>Indirapuram Habitat Centre,Indirapuram, Ghaziabad</td>\n",
       "      <td>3.8</td>\n",
       "      <td>https://im1.dineout.co.in/images/uploads/resta...</td>\n",
       "    </tr>\n",
       "    <tr>\n",
       "      <th>8</th>\n",
       "      <td>World Cafe</td>\n",
       "      <td>North Indian</td>\n",
       "      <td>Vibe by The Lalit Traveller,Sector 35, Faridabad</td>\n",
       "      <td>4.2</td>\n",
       "      <td>https://im1.dineout.co.in/images/uploads/resta...</td>\n",
       "    </tr>\n",
       "    <tr>\n",
       "      <th>9</th>\n",
       "      <td>Indian Grill Room</td>\n",
       "      <td>North Indian</td>\n",
       "      <td>Suncity Business Tower,Golf Course Road, Gurgaon</td>\n",
       "      <td>4.3</td>\n",
       "      <td>https://im1.dineout.co.in/images/uploads/resta...</td>\n",
       "    </tr>\n",
       "    <tr>\n",
       "      <th>10</th>\n",
       "      <td>Mad 4 Bar B Que</td>\n",
       "      <td>North Indian</td>\n",
       "      <td>Sector 29, Faridabad</td>\n",
       "      <td>3.6</td>\n",
       "      <td>https://im1.dineout.co.in/images/uploads/resta...</td>\n",
       "    </tr>\n",
       "    <tr>\n",
       "      <th>11</th>\n",
       "      <td>Barbeque 29</td>\n",
       "      <td>Chinese</td>\n",
       "      <td>NIT, Faridabad</td>\n",
       "      <td>4.2</td>\n",
       "      <td>https://im1.dineout.co.in/images/uploads/resta...</td>\n",
       "    </tr>\n",
       "    <tr>\n",
       "      <th>12</th>\n",
       "      <td>Glasshouse</td>\n",
       "      <td>Chinese</td>\n",
       "      <td>DoubleTree By Hilton Gurugram Baani Square,Sec...</td>\n",
       "      <td>4</td>\n",
       "      <td>https://im1.dineout.co.in/images/uploads/resta...</td>\n",
       "    </tr>\n",
       "  </tbody>\n",
       "</table>\n",
       "</div>"
      ],
      "text/plain": [
       "                     Resturant-Names Cuisine-names  \\\n",
       "0                    Castle Barbeque  North Indian   \n",
       "1                    Jungle Jamboree  North Indian   \n",
       "2                    Castle Barbeque  North Indian   \n",
       "3                         Cafe Knosh  North Indian   \n",
       "4               The Barbeque Company  North Indian   \n",
       "5                        India Grill  North Indian   \n",
       "6                     Delhi Barbeque  North Indian   \n",
       "7   The Monarch - Bar Be Que Village  North Indian   \n",
       "8                         World Cafe  North Indian   \n",
       "9                  Indian Grill Room  North Indian   \n",
       "10                   Mad 4 Bar B Que  North Indian   \n",
       "11                       Barbeque 29       Chinese   \n",
       "12                        Glasshouse       Chinese   \n",
       "\n",
       "                                            Locations Ratings by customer  \\\n",
       "0                      Connaught Place, Central Delhi                 3.5   \n",
       "1              3CS Mall,Lajpat Nagar - 3, South Delhi                 3.9   \n",
       "2              Pacific Mall,Tagore Garden, West Delhi                 3.9   \n",
       "3   The Leela Ambience Convention Hotel,Shahdara, ...                 4.3   \n",
       "4                  Gardens Galleria,Sector 38A, Noida                   4   \n",
       "5                Hilton Garden Inn,Saket, South Delhi                 3.9   \n",
       "6      Taurus Sarovar Portico,Mahipalpur, South Delhi                 3.7   \n",
       "7   Indirapuram Habitat Centre,Indirapuram, Ghaziabad                 3.8   \n",
       "8    Vibe by The Lalit Traveller,Sector 35, Faridabad                 4.2   \n",
       "9    Suncity Business Tower,Golf Course Road, Gurgaon                 4.3   \n",
       "10                               Sector 29, Faridabad                 3.6   \n",
       "11                                     NIT, Faridabad                 4.2   \n",
       "12  DoubleTree By Hilton Gurugram Baani Square,Sec...                   4   \n",
       "\n",
       "                                           image_urls  \n",
       "0   https://im1.dineout.co.in/images/uploads/resta...  \n",
       "1   https://im1.dineout.co.in/images/uploads/resta...  \n",
       "2   https://im1.dineout.co.in/images/uploads/resta...  \n",
       "3   https://im1.dineout.co.in/images/uploads/resta...  \n",
       "4   https://im1.dineout.co.in/images/uploads/resta...  \n",
       "5   https://im1.dineout.co.in/images/uploads/resta...  \n",
       "6   https://im1.dineout.co.in/images/uploads/resta...  \n",
       "7   https://im1.dineout.co.in/images/uploads/resta...  \n",
       "8   https://im1.dineout.co.in/images/uploads/resta...  \n",
       "9   https://im1.dineout.co.in/images/uploads/resta...  \n",
       "10  https://im1.dineout.co.in/images/uploads/resta...  \n",
       "11  https://im1.dineout.co.in/images/uploads/resta...  \n",
       "12  https://im1.dineout.co.in/images/uploads/resta...  "
      ]
     },
     "execution_count": 52,
     "metadata": {},
     "output_type": "execute_result"
    }
   ],
   "source": [
    "import pandas  as pd\n",
    "dine_out = pd.DataFrame({})\n",
    "dine_out['Resturant-Names']=rest_column\n",
    "dine_out['Cuisine-names']=cuis_column\n",
    "dine_out['Locations']=loc_columns\n",
    "dine_out['Ratings by customer']=rate_column\n",
    "dine_out['image_urls']=img_columns\n",
    "\n",
    "dine_out"
   ]
  },
  {
   "cell_type": "markdown",
   "id": "c1a2ee1b",
   "metadata": {},
   "source": [
    "#### Answer 10 :: python program to scrape first 10 product details which include product name , price , Image URL from\n",
    "#### https://www.bewakoof.com/women-tshirts?"
   ]
  },
  {
   "cell_type": "code",
   "execution_count": 34,
   "id": "3d1e0431",
   "metadata": {},
   "outputs": [],
   "source": [
    "url =('https://www.bewakoof.com/women-plain-t-shirts')\n",
    "page_10 = requests.get(url)\n",
    "page_10\n",
    "\n",
    "soup = BeautifulSoup(page_10.content,'lxml')"
   ]
  },
  {
   "cell_type": "code",
   "execution_count": 35,
   "id": "fc2779f8",
   "metadata": {},
   "outputs": [
    {
     "data": {
      "text/plain": [
       "['https://images.bewakoof.com/t320/tropical-blue-white-color-block-boyfriend-t-shirt-271541-1638711436-1.jpg',\n",
       " 'https://images.bewakoof.com/t320/apricot-orange-round-neck-3-4th-sleeve-t-shirt-241916-1636983999-1.jpg',\n",
       " 'https://images.bewakoof.com/t320/white-stripes-side-panel-boyfriend-t-shirt-242062-1634895306-1.jpg',\n",
       " 'https://images.bewakoof.com/t320/white-black-color-block-boyfriend-t-shirt-269067-1635869413-1.jpg',\n",
       " 'https://images.bewakoof.com/t320/pastel-beige-half-sleeve-t-shirt-250900-1638213046-1.jpg',\n",
       " 'https://images.bewakoof.com/t320/white-full-sleeve-hoodie-t-shirt-326685-1638021251-1.jpg',\n",
       " 'https://images.bewakoof.com/t320/plain-full-sleeve-hoodie-t-shirt-326687-1643284118-1.jpg',\n",
       " 'https://images.bewakoof.com/t320/baby-pink-black-color-block-boyfriend-t-shirt-340254-1638218898-1.jpg',\n",
       " 'https://images.bewakoof.com/t320/navy-blue-white-3-4th-sleeve-raglan-t-shirt-340258-1638210865-1.jpg',\n",
       " 'https://images.bewakoof.com/t320/red-velvet-black-color-block-boyfriend-t-shirt-340256-1637855094-1.jpg']"
      ]
     },
     "execution_count": 35,
     "metadata": {},
     "output_type": "execute_result"
    }
   ],
   "source": [
    "pro_image = soup.find_all('img',class_=\"productImgTag\", limit=10)\n",
    "\n",
    "image_label=[]\n",
    "for i in  pro_image:\n",
    "    image_label.append(i['src'])\n",
    "image_label"
   ]
  },
  {
   "cell_type": "code",
   "execution_count": 36,
   "id": "a6998a52",
   "metadata": {},
   "outputs": [
    {
     "name": "stdout",
     "output_type": "stream",
     "text": [
      "10\n"
     ]
    }
   ],
   "source": [
    "print(len(pro_image))"
   ]
  },
  {
   "cell_type": "code",
   "execution_count": 37,
   "id": "f6e77774",
   "metadata": {},
   "outputs": [
    {
     "data": {
      "text/plain": [
       "['399', '₹359', '249', '₹229', '349', '₹319', '349', '₹319', '249', '₹229']"
      ]
     },
     "execution_count": 37,
     "metadata": {},
     "output_type": "execute_result"
    }
   ],
   "source": [
    "prices=[]\n",
    "\n",
    "for i in soup.find_all(['b'], limit =10):\n",
    "    prices.append(i.text.strip('[]'))\n",
    "prices"
   ]
  },
  {
   "cell_type": "code",
   "execution_count": 38,
   "id": "d5898505",
   "metadata": {},
   "outputs": [
    {
     "name": "stdout",
     "output_type": "stream",
     "text": [
      "10\n"
     ]
    }
   ],
   "source": [
    "print(len(prices))"
   ]
  },
  {
   "cell_type": "code",
   "execution_count": 39,
   "id": "3da14fe0",
   "metadata": {},
   "outputs": [
    {
     "data": {
      "text/plain": [
       "['Tropical Blue-White Color Block Boyfriend T-shirt',\n",
       " 'Apricot Orange Round Neck 3/4th Sleeve T-Shirt',\n",
       " 'White Stripes Side Panel Boyfriend T-shirt',\n",
       " 'White- Black Color Block Boyfriend T-shirt',\n",
       " 'Pastel  Beige Half Sleeve T-Shirt',\n",
       " 'White Full Sleeve Hoodie T-Shirt',\n",
       " 'Black Full Sleeve Hoodie T-shirt',\n",
       " 'Baby Pink-Black Color Block Boyfriend T-Shirt',\n",
       " 'Navy Blue-White 3/4th Sleeve Raglan T-Shirt',\n",
       " 'Red Velvet-Black Color Block Boyfriend T-Shirt']"
      ]
     },
     "execution_count": 39,
     "metadata": {},
     "output_type": "execute_result"
    }
   ],
   "source": [
    "names=[]\n",
    "\n",
    "for i in soup.find_all(['h3'], limit =10):\n",
    "    names.append(i.text)\n",
    "names"
   ]
  },
  {
   "cell_type": "code",
   "execution_count": 34,
   "id": "3cee3b96",
   "metadata": {},
   "outputs": [
    {
     "name": "stdout",
     "output_type": "stream",
     "text": [
      "33\n"
     ]
    }
   ],
   "source": [
    "print(len(names))"
   ]
  },
  {
   "cell_type": "code",
   "execution_count": 40,
   "id": "360d5ef1",
   "metadata": {},
   "outputs": [
    {
     "data": {
      "text/html": [
       "<div>\n",
       "<style scoped>\n",
       "    .dataframe tbody tr th:only-of-type {\n",
       "        vertical-align: middle;\n",
       "    }\n",
       "\n",
       "    .dataframe tbody tr th {\n",
       "        vertical-align: top;\n",
       "    }\n",
       "\n",
       "    .dataframe thead th {\n",
       "        text-align: right;\n",
       "    }\n",
       "</style>\n",
       "<table border=\"1\" class=\"dataframe\">\n",
       "  <thead>\n",
       "    <tr style=\"text-align: right;\">\n",
       "      <th></th>\n",
       "      <th>product_name</th>\n",
       "      <th>prices</th>\n",
       "      <th>Img-links</th>\n",
       "    </tr>\n",
       "  </thead>\n",
       "  <tbody>\n",
       "    <tr>\n",
       "      <th>0</th>\n",
       "      <td>Tropical Blue-White Color Block Boyfriend T-shirt</td>\n",
       "      <td>399</td>\n",
       "      <td>https://images.bewakoof.com/t320/tropical-blue...</td>\n",
       "    </tr>\n",
       "    <tr>\n",
       "      <th>1</th>\n",
       "      <td>Apricot Orange Round Neck 3/4th Sleeve T-Shirt</td>\n",
       "      <td>₹359</td>\n",
       "      <td>https://images.bewakoof.com/t320/apricot-orang...</td>\n",
       "    </tr>\n",
       "    <tr>\n",
       "      <th>2</th>\n",
       "      <td>White Stripes Side Panel Boyfriend T-shirt</td>\n",
       "      <td>249</td>\n",
       "      <td>https://images.bewakoof.com/t320/white-stripes...</td>\n",
       "    </tr>\n",
       "    <tr>\n",
       "      <th>3</th>\n",
       "      <td>White- Black Color Block Boyfriend T-shirt</td>\n",
       "      <td>₹229</td>\n",
       "      <td>https://images.bewakoof.com/t320/white-black-c...</td>\n",
       "    </tr>\n",
       "    <tr>\n",
       "      <th>4</th>\n",
       "      <td>Pastel  Beige Half Sleeve T-Shirt</td>\n",
       "      <td>349</td>\n",
       "      <td>https://images.bewakoof.com/t320/pastel-beige-...</td>\n",
       "    </tr>\n",
       "    <tr>\n",
       "      <th>5</th>\n",
       "      <td>White Full Sleeve Hoodie T-Shirt</td>\n",
       "      <td>₹319</td>\n",
       "      <td>https://images.bewakoof.com/t320/white-full-sl...</td>\n",
       "    </tr>\n",
       "    <tr>\n",
       "      <th>6</th>\n",
       "      <td>Black Full Sleeve Hoodie T-shirt</td>\n",
       "      <td>349</td>\n",
       "      <td>https://images.bewakoof.com/t320/plain-full-sl...</td>\n",
       "    </tr>\n",
       "    <tr>\n",
       "      <th>7</th>\n",
       "      <td>Baby Pink-Black Color Block Boyfriend T-Shirt</td>\n",
       "      <td>₹319</td>\n",
       "      <td>https://images.bewakoof.com/t320/baby-pink-bla...</td>\n",
       "    </tr>\n",
       "    <tr>\n",
       "      <th>8</th>\n",
       "      <td>Navy Blue-White 3/4th Sleeve Raglan T-Shirt</td>\n",
       "      <td>249</td>\n",
       "      <td>https://images.bewakoof.com/t320/navy-blue-whi...</td>\n",
       "    </tr>\n",
       "    <tr>\n",
       "      <th>9</th>\n",
       "      <td>Red Velvet-Black Color Block Boyfriend T-Shirt</td>\n",
       "      <td>₹229</td>\n",
       "      <td>https://images.bewakoof.com/t320/red-velvet-bl...</td>\n",
       "    </tr>\n",
       "  </tbody>\n",
       "</table>\n",
       "</div>"
      ],
      "text/plain": [
       "                                        product_name prices  \\\n",
       "0  Tropical Blue-White Color Block Boyfriend T-shirt    399   \n",
       "1     Apricot Orange Round Neck 3/4th Sleeve T-Shirt   ₹359   \n",
       "2         White Stripes Side Panel Boyfriend T-shirt    249   \n",
       "3         White- Black Color Block Boyfriend T-shirt   ₹229   \n",
       "4                  Pastel  Beige Half Sleeve T-Shirt    349   \n",
       "5                   White Full Sleeve Hoodie T-Shirt   ₹319   \n",
       "6                   Black Full Sleeve Hoodie T-shirt    349   \n",
       "7      Baby Pink-Black Color Block Boyfriend T-Shirt   ₹319   \n",
       "8        Navy Blue-White 3/4th Sleeve Raglan T-Shirt    249   \n",
       "9     Red Velvet-Black Color Block Boyfriend T-Shirt   ₹229   \n",
       "\n",
       "                                           Img-links  \n",
       "0  https://images.bewakoof.com/t320/tropical-blue...  \n",
       "1  https://images.bewakoof.com/t320/apricot-orang...  \n",
       "2  https://images.bewakoof.com/t320/white-stripes...  \n",
       "3  https://images.bewakoof.com/t320/white-black-c...  \n",
       "4  https://images.bewakoof.com/t320/pastel-beige-...  \n",
       "5  https://images.bewakoof.com/t320/white-full-sl...  \n",
       "6  https://images.bewakoof.com/t320/plain-full-sl...  \n",
       "7  https://images.bewakoof.com/t320/baby-pink-bla...  \n",
       "8  https://images.bewakoof.com/t320/navy-blue-whi...  \n",
       "9  https://images.bewakoof.com/t320/red-velvet-bl...  "
      ]
     },
     "execution_count": 40,
     "metadata": {},
     "output_type": "execute_result"
    }
   ],
   "source": [
    "bewakoof = pd .DataFrame({})\n",
    "bewakoof['product_name']=names\n",
    "bewakoof['prices']=prices\n",
    "bewakoof['Img-links']=image_label\n",
    "bewakoof"
   ]
  },
  {
   "cell_type": "code",
   "execution_count": null,
   "id": "05b785e2",
   "metadata": {},
   "outputs": [],
   "source": []
  }
 ],
 "metadata": {
  "kernelspec": {
   "display_name": "Python 3 (ipykernel)",
   "language": "python",
   "name": "python3"
  },
  "language_info": {
   "codemirror_mode": {
    "name": "ipython",
    "version": 3
   },
   "file_extension": ".py",
   "mimetype": "text/x-python",
   "name": "python",
   "nbconvert_exporter": "python",
   "pygments_lexer": "ipython3",
   "version": "3.9.7"
  }
 },
 "nbformat": 4,
 "nbformat_minor": 5
}
