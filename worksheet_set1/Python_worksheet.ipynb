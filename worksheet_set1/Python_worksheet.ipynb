{
 "cells": [
  {
   "cell_type": "markdown",
   "id": "2081b755",
   "metadata": {},
   "source": [
    "#### Answer 11:)   Python program  to find  the factorial  of  a number "
   ]
  },
  {
   "cell_type": "markdown",
   "id": "fc61a552",
   "metadata": {},
   "source": [
    "factorial is a non negative  integer denoted  by n!, and \n",
    "\n",
    "it is  the  product  of all  positive  inetger value  which are  less  than  n\n",
    "\n",
    "ex: - 4!= (4 * 3 * 2 * 1) so >>>> res => 24"
   ]
  },
  {
   "cell_type": "code",
   "execution_count": 3,
   "id": "71a86739",
   "metadata": {},
   "outputs": [
    {
     "name": "stdout",
     "output_type": "stream",
     "text": [
      "Factorial of 5 = 120\n"
     ]
    }
   ],
   "source": [
    "# function which returns the factorial of given number\n",
    "def facto(num):\n",
    "    if(num == 1 or num == 0):# gave  a  bounded condition which  will return 1\n",
    "        return 1\n",
    "    else:\n",
    "        return num*facto(num-1) # here the function will work until it ends up  to  the res  & also \n",
    "                                # also multiply  everytime it  get a new number from the operation (num-1)\n",
    "\n",
    "    \n",
    "\n",
    "# given number\n",
    "num = 5\n",
    "# passing the given num to facto function which returns the factorial of the number\n",
    "res = facto(num)\n",
    "# print the factorial\n",
    "print(\"Factorial of\", num, \"=\", res) # thus  this is  a recursive  method  of getting  a  factorial"
   ]
  },
  {
   "cell_type": "markdown",
   "id": "3b6c306e",
   "metadata": {},
   "source": [
    "#### Answer12:) python program to find whether a number is prime or composite"
   ]
  },
  {
   "cell_type": "markdown",
   "id": "e3424cfd",
   "metadata": {},
   "source": [
    "so a prime number is  a number  which  has  2 factors  only in which 1st is no-'1'\n",
    "and 2nd is the number itself for ex '41' has only 2 factors 1 and 41 itself \n",
    "\n",
    "and  the  composite numbers  have  multiple factors as can  be said  as non-prime numbers "
   ]
  },
  {
   "cell_type": "code",
   "execution_count": 59,
   "id": "4cd73a7a",
   "metadata": {},
   "outputs": [],
   "source": [
    "def is_prime(n): # using the single parameter inside the def function\n",
    "    if(n<=1):\n",
    "        return False\n",
    "    for i in range(2,n): # using  a for loop  with the  range function from 2to n\n",
    "        if(n%i ==0):     # using  the  modulo operator inside if cond. to  get the remainder of  the operation\n",
    "            return False\n",
    "        return True"
   ]
  },
  {
   "cell_type": "code",
   "execution_count": 60,
   "id": "c0f3e212",
   "metadata": {},
   "outputs": [
    {
     "data": {
      "text/plain": [
       "True"
      ]
     },
     "execution_count": 60,
     "metadata": {},
     "output_type": "execute_result"
    }
   ],
   "source": [
    "is_prime(41) # thus  we  know  that  41 is a prime number as 41 has two factors (41&1 only)\n",
    "              # and  as  prime numbers property the number  is called  prime  number  when  it is divisible by \n",
    "            #  by  itself or 1 "
   ]
  },
  {
   "cell_type": "code",
   "execution_count": 61,
   "id": "5ffd6204",
   "metadata": {},
   "outputs": [
    {
     "data": {
      "text/plain": [
       "False"
      ]
     },
     "execution_count": 61,
     "metadata": {},
     "output_type": "execute_result"
    }
   ],
   "source": [
    "is_prime(42)    #  Since  we can see that 42  is  a non_prime number as it is  returning false"
   ]
  },
  {
   "cell_type": "markdown",
   "id": "ff4aea13",
   "metadata": {},
   "source": [
    "#### Answer 13:) python program to check whether a given string is palindrome or not."
   ]
  },
  {
   "cell_type": "markdown",
   "id": "2bab33a4",
   "metadata": {},
   "source": [
    "so  what  is  palindrome ?\n",
    "\n",
    "palindrome can  be  a string  or  a number which  reads or repeats  the \n",
    "the  backward string or  number as forward in itself  ex:- 'mom','madam','level',12321"
   ]
  },
  {
   "cell_type": "code",
   "execution_count": 5,
   "id": "8d7c22af",
   "metadata": {},
   "outputs": [
    {
     "name": "stdout",
     "output_type": "stream",
     "text": [
      "The given string LEVEL is palindrome\n"
     ]
    }
   ],
   "source": [
    "# given string\n",
    "given_string = \"LEVEL\"\n",
    "# taking empty string\n",
    "rev_string = \"\"\n",
    "# calculating the length of string\n",
    "length = len(given_string)\n",
    "\n",
    "# Traverse the string in reverse order using range   function in  forloop\n",
    "for index in range(length-1, -1, -1):\n",
    "    # add the character to reverse_string using string concatenation\n",
    "    rev_string = rev_string+given_string[index]\n",
    "# if reverse_string  and strnum are equal then it is palindrome\n",
    "if(rev_string == given_string):\n",
    "    print(\"The given string\", given_string, \"is palindrome\")\n",
    "else:\n",
    "    print(\"The given string\", given_string, \"is not palindrome\")"
   ]
  },
  {
   "cell_type": "markdown",
   "id": "dc38cd59",
   "metadata": {},
   "source": [
    "#### Answer 14:)Python program to get the third side of right-angled triangle from two given sides."
   ]
  },
  {
   "cell_type": "markdown",
   "id": "b647377d",
   "metadata": {},
   "source": [
    "so in a right angle  traingle  we have  3  sides \n",
    "\n",
    "1st = opposite\n",
    "2nd = adjacent\n",
    "3rd = hypotenuse\n",
    "\n",
    "formula for finding  the  side  is ex - \n",
    "finding hypotenuse = (opp_side ** 2)+(adjacent_side ** 2) and sqrt of  whole\n",
    "\n",
    "\n",
    "finding opposite = (hypotenuse ** 2)-(adjacent** 2)  and sqrt of whole"
   ]
  },
  {
   "cell_type": "code",
   "execution_count": 2,
   "id": "6cdc6e74",
   "metadata": {},
   "outputs": [
    {
     "name": "stdout",
     "output_type": "stream",
     "text": [
      "Hypotenuse = 5.0\n",
      "Adjacent = 4.0\n",
      "Opposite = 3.0\n",
      "You know the answer right !\n"
     ]
    }
   ],
   "source": [
    "def ispythagoras(opposite_side,adjacent_side,hypotenuse):\n",
    "        if opposite_side == str(\"z\"):\n",
    "            return (\"Opposite = \" + str(((hypotenuse**2) - (adjacent_side**2))**0.5))#this is the  formula   for \n",
    "                                                                                    # finding the  opposite \n",
    "        elif adjacent_side == str(\"z\"):\n",
    "            return (\"Adjacent = \" + str(((hypotenuse**2) - (opposite_side**2))**0.5))# this is  the  formula  for \n",
    "                                                                                    # finding  the adjacent \n",
    "        elif hypotenuse == str(\"z\"):\n",
    "            return (\"Hypotenuse = \" + str(((opposite_side**2) + (adjacent_side**2))**0.5))# This is  the formula\n",
    "                                                                                        #  for   finding  the hypotonuse\n",
    "        else:\n",
    "            return \"You know the answer right !\" \n",
    "        \n",
    "        # Thus inside  the  def  we  have  gave  all  the parameters like 3  diffrent  conditions which  can be  called \n",
    "        # by  the  user  using  the ispythagoras func\n",
    "    \n",
    "print(ispythagoras(3,4,'z'))  # this  will  find the  condition when we will  find hypotonuse as 3rd side\n",
    "print(ispythagoras(3,'z',5))  # this  will  find the  condition when we will  find adjacent as 3rd side\n",
    "print(ispythagoras('z',4,5))  # # this  will  find the  condition when we will  find opposite as 3rd side\n",
    "print(ispythagoras(3,4,5))    # this  is  the condition where we  know all  the 3 sides  thus  it  will be  \n",
    "                              #  printing   the  else command "
   ]
  },
  {
   "cell_type": "markdown",
   "id": "d83acf4c",
   "metadata": {},
   "source": [
    "#### Answer15)  python program to print the frequency of each of the characters present in a given string"
   ]
  },
  {
   "cell_type": "markdown",
   "id": "64b35b1b",
   "metadata": {},
   "source": [
    "here  the code  will tell  us  that  a  variable \n",
    "\n",
    "containing  a string  value ,and in that value  how many\n",
    "\n",
    "times  a  particular alphabet/numericals are  repeating \n",
    "by counting  them each\n",
    "\n",
    "as we all know  one  of the best property  of  set is  that it removes duplicates and\n",
    "we can use this  as  advantage   here by  using  the .count func"
   ]
  },
  {
   "cell_type": "code",
   "execution_count": 12,
   "id": "c7788b3b",
   "metadata": {},
   "outputs": [
    {
     "name": "stdout",
     "output_type": "stream",
     "text": [
      "The count of all characters present in Abhibhattacherjee is :\n",
      "  {'c': 1, 'i': 1, 'b': 2, 'e': 3, 'a': 3, 'j': 1, 'h': 3, 'r': 1, 't': 2}\n"
     ]
    }
   ],
   "source": [
    "# code  to  show \n",
    "# each occurrence frequency using\n",
    "# set() + count() method \n",
    "\n",
    "# initialized string\n",
    "name_str = \"abhibhattacherjee\"\n",
    "\n",
    "# using set() + count() to get count\n",
    "# of each element in string\n",
    "result = {i : name_str.count(i) for i in set(name_str)} # this is  a set\n",
    "                                       #  so here  we  have  took i in  which  we  have  first  iterated .count\n",
    "                                       # with name_str and  then we have started  a for loop  with the set converting\n",
    "                                       # name_str into set \n",
    "\n",
    "# printing result\n",
    "print (\"The count of all characters present in Abhibhattacherjee is :\\n \"\n",
    "       , str(result))\n"
   ]
  },
  {
   "cell_type": "code",
   "execution_count": null,
   "id": "b9095f82",
   "metadata": {},
   "outputs": [],
   "source": []
  }
 ],
 "metadata": {
  "kernelspec": {
   "display_name": "Python 3 (ipykernel)",
   "language": "python",
   "name": "python3"
  },
  "language_info": {
   "codemirror_mode": {
    "name": "ipython",
    "version": 3
   },
   "file_extension": ".py",
   "mimetype": "text/x-python",
   "name": "python",
   "nbconvert_exporter": "python",
   "pygments_lexer": "ipython3",
   "version": "3.9.7"
  }
 },
 "nbformat": 4,
 "nbformat_minor": 5
}
